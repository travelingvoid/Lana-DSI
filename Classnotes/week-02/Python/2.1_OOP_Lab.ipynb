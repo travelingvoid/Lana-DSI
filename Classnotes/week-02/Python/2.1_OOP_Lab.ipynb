{
 "cells": [
  {
   "cell_type": "markdown",
   "metadata": {},
   "source": [
    "## Two Dimensional Vectors\n",
    "\n",
    "Define a Python class V2, which represents two-dimensional vectors (arrays) and supports the following operations:\n",
    "\n",
    "- Create a new vector out of two real numbers: v = V2(1.1, 2.2)\n",
    "\n",
    "- Convert a vector to a string (with the `__str__` method)\n",
    "\n",
    "- Access the components (with the getX and getY methods)\n",
    "\n",
    "- Add two V2s to get a new V2 (with add and `__add__` methods)\n",
    "\n",
    "- Multiply a V2 by a scalar (real or int) and return a new V2 (with the mul and `__mul__` methods)"
   ]
  },
  {
   "cell_type": "code",
   "execution_count": null,
   "metadata": {
    "collapsed": false
   },
   "outputs": [],
   "source": [
    "class V2(object):\n",
    "    def __init__(self, num1, num2):\n",
    "        self.num1 = num1\n",
    "        self.num2 = num2\n",
    "        self.v = [self.num1, self.num2]\n",
    "    def new_vector(self):\n",
    "        self.v = [self.num1, self.num2]\n",
    "        return self.v\n",
    "    def getx(self):\n",
    "        return self.num1\n",
    "    def gety(self):\n",
    "        return self.num2\n",
    "    def __str__(self):\n",
    "        return \"[{},{}]\".format(self.x, self.y)\n",
    "    def __add__(self, other):\n",
    "        return self.num1, self.num2 + other.num1, other.num2\n",
    "    def __mul__(self):\n",
    "        return num1 * num2\n",
    "    \n",
    "        "
   ]
  },
  {
   "cell_type": "code",
   "execution_count": null,
   "metadata": {
    "collapsed": false
   },
   "outputs": [],
   "source": [
    "v = V2(2,2)\n",
    "vv = V2(3,3)"
   ]
  },
  {
   "cell_type": "markdown",
   "metadata": {},
   "source": [
    "## Polynomial Class\n",
    "\n",
    "Define a Python class Polynomial which provides methods for performing algebraic operations on polynomials. Your class should behave as described in the following way:\n",
    "\n",
    "```\n",
    ">>> p1 = Polynomial([1, 2, 3])\n",
    ">>> p1\n",
    "1.000 z**2 + 2.000 z + 3.000\n",
    ">>> p2 = Polynomial([100, 200])\n",
    ">>> p1.add(p2)\n",
    "1.000 z**2 + 102.000 z + 203.000\n",
    ">>> p1 + p2\n",
    "1.000 z**2 + 102.000 z + 203.000\n",
    ">>> p1(1)\n",
    "6.0\n",
    ">>> p1(-1)\n",
    "2.0\n",
    ">>> (p1 + p2)(10)\n",
    "1323.0\n",
    ">>> p1.mul(p1)\n",
    "1.000 z**4 + 4.000 z**3 + 10.000 z**2 + 12.000 z + 9.000\n",
    ">>> p1 * p1\n",
    "1.000 z**4 + 4.000 z**3 + 10.000 z**2 + 12.000 z + 9.000\n",
    ">>> p1 * p2 + p1\n",
    "100.000 z**3 + 401.000 z**2 + 702.000 z + 603.000\n",
    ">>> p1.roots()\n",
    "[(-1+1.4142135623730947j), (-1-1.4142135623730947j)]\n",
    ">>> p2.roots()\n",
    "[-2.0]\n",
    ">>> p3 = Polynomial([3, 2, -1])\n",
    ">>> p3.roots()\n",
    "[-1.0, 0.33333333333333331]\n",
    ">>> (p1 * p1).roots()\n",
    "Order too high to solve for roots.\n",
    "\n",
    "```"
   ]
  },
  {
   "cell_type": "markdown",
   "metadata": {},
   "source": [
    "Note: `roots(self)` returns a list containing the root or roots of first or second order polynomials (for orders other than 1 and 2, just print an error message saying that you don’t handle them). If the roots are real-valued, then return the roots as floats. If a root has a non-zero imaginary part, then return it as a complex number. Python has built-in facilities for handling complex numbers. For example, complex(3,2) represents a complex number whose real part is 3 and whose imaginary part is 2. This same complex number could also be written as 3+2j. The real part of a complex number z can be obtained with z.real. \n",
    "2j."
   ]
  },
  {
   "cell_type": "code",
   "execution_count": null,
   "metadata": {
    "collapsed": false
   },
   "outputs": [],
   "source": [
    "class Polynomial(object):\n",
    "    def __init__(self, constants):\n",
    "        self.constants = constants\n",
    "        #self.powers = range(len(constants))[::-1]\n",
    "    def get_constants(self):\n",
    "        return self.constants\n",
    "    #def get_powers(self):\n",
    "        #return self.powers\n",
    "    def create_polynomial(self):\n",
    "        self.poly = zip(self.constants, self.powers)\n",
    "        return self.poly\n",
    "    def __mul__(self, other):\n",
    "        mul_poly = filter[for constants in enumerate(self.constants)for other in enumerate(other.constants)]\n",
    "        return mul_poly\n",
    "    \n",
    "\"\"\"\n",
    "get padding code from __add__ to get max and min list\n",
    "    def padding(self, alt_coef)\n",
    "        .\n",
    "        .\n",
    "        .\n",
    "        return max_list, min_list\n",
    "\"\"\"\n",
    "                \n",
    "\"\"\"\n",
    "def __mul__(self, alt_coefs):\n",
    "max_list, min_list = self.padding(alt_coefs)\n",
    "    poly_hash{}\n",
    "    for coef_idx, coef in enumerate(max_list):\n",
    "        for acoefs_idx, alt_coef in enumerate(min_list):\n",
    "            key = coef_idx + acoef_idx\n",
    "            value = coef + alt_coef\n",
    "            if key in poly_hash:\n",
    "                poly_hash[key] += value\n",
    "            else\n",
    "                poly_hash[key] = value\n",
    "        new poly=filter(lambda x: x >0 ,[poly hash[i] for in in range(len(poly_hash))]\n",
    "        return Polynomial(new_poly))\n",
    "            \n",
    "            \n",
    "def roots(self):\n",
    "    if not len(self.coef <= 3)\n",
    "        return \"Too many coef\"\n",
    "    else:\n",
    "        disc = self.coef[1] ** 2 - 4*self.coefs[0]*self.coefs[2]\n",
    "        if disc<0:\n",
    "            disc_sqrt = Complex(0, math.sqrt(~disc))\n",
    "        else:\n",
    "            disc_sqrt = math.sqrt(disc)\n",
    "        roots = [-self.coefs[1] + disc, =self.coefs[1] - disc]\n",
    "        roots = map(lambda x: x/2 * self.coefs[0]), roots)\n",
    "    elif len*self.coefs) == 2:\n",
    "        return -self.coefs[1] / self.coefs[0[]\n",
    "    else:\n",
    "        return none\n",
    "            \n",
    "\"\"\"\n",
    "        "
   ]
  },
  {
   "cell_type": "code",
   "execution_count": null,
   "metadata": {
    "collapsed": false
   },
   "outputs": [],
   "source": [
    "p1 = Polynomial([1, 2, 3])\n",
    "p2 = Polynomial([100, 200])\n",
    "p1 * p2"
   ]
  },
  {
   "cell_type": "code",
   "execution_count": null,
   "metadata": {
    "collapsed": false
   },
   "outputs": [],
   "source": [
    "p1.get_constants()\n",
    "p1.get_powers()\n",
    "p1.create_polynomial()\n",
    "p1+p2"
   ]
  },
  {
   "cell_type": "code",
   "execution_count": null,
   "metadata": {
    "collapsed": false
   },
   "outputs": [],
   "source": [
    "list(enumerate(range(10,-1,-1)))"
   ]
  },
  {
   "cell_type": "markdown",
   "metadata": {},
   "source": [
    "## Inheritance\n",
    "\n",
    "Consider the following code: "
   ]
  },
  {
   "cell_type": "code",
   "execution_count": null,
   "metadata": {
    "collapsed": true
   },
   "outputs": [],
   "source": [
    "\"\"\"Examples of Single Inheritance\"\"\"\n",
    "class Transportation:\n",
    "    wheels = 0\n",
    "\n",
    "    def __init__(self):\n",
    "        self.wheels = -1\n",
    "\n",
    "    def travel_one(self):\n",
    "        print(\"Travelling on generic transportation\")\n",
    "\n",
    "    def travel(self, distance):\n",
    "        for _ in range(distance):\n",
    "            self.travel_one()\n",
    "\n",
    "    def is_auto(self):\n",
    "        return self.wheels == 4\n",
    "\n",
    "class Bike(Transportation):\n",
    "\n",
    "    def travel_one(self):\n",
    "        print(\"Biking one mile\")\n",
    "\n",
    "class Car(Transportation):\n",
    "    wheels = 4\n",
    "\n",
    "    def travel_one(self):\n",
    "        print(\"Driving one mile\")\n",
    "\n",
    "    def make_sound(self):\n",
    "        print(\"VROOM\")\n",
    "\n",
    "class Ferrari(Car):\n",
    "    pass\n",
    "\n",
    "t = Transportation()\n",
    "b = Bike()\n",
    "c = Car()\n",
    "f = Ferrari()"
   ]
  },
  {
   "cell_type": "code",
   "execution_count": null,
   "metadata": {
    "collapsed": false
   },
   "outputs": [],
   "source": [
    "isinstance(t, Transportation)\n",
    "#True\n",
    "isinstance(b, Bike)\n",
    "#True\n",
    "isinstance(b, Transportation)\n",
    "#True\n",
    "isinstance(b, Car)\n",
    "#False\n",
    "isinstance(b, t)\n",
    "#False\n",
    "isinstance(c, Car)\n",
    "#True\n",
    "isinstance(c, Transportation)\n",
    "#True\n",
    "isinstance(f, Ferrari)\n",
    "#True\n",
    "isinstance(f, Car)\n",
    "#True\n",
    "isinstance(f, Transportation)\n",
    "#True\n",
    "issubclass(Bike, Transportation)\n",
    "#True\n",
    "issubclass(Car, Transportation)\n",
    "#True\n",
    "issubclass(Ferrari, Car)\n",
    "#True\n",
    "issubclass(Ferrari, Transportation)\n",
    "#True\n",
    "issubclass(Transportation, Transportation)\n",
    "#False\n",
    "\n",
    "b.travel(5)\n",
    "#\"Biking one mile\"\n",
    "#\"Biking one mile\"\n",
    "#\"Biking one mile\"\n",
    "#\"Biking one mile\"\n",
    "#\"Biking one mile\"\n",
    "\n",
    "c.is_auto()\n",
    "#True\n",
    "f.is_auto()\n",
    "#True\n",
    "b.is_auto()\n",
    "#False\n",
    "b.make_sound()\n",
    "#Error, make_sound not defined\n",
    "\n",
    "c.travel(10)\n",
    "#\"Driving one mile\"\n",
    "#\"Driving one mile\"\n",
    "#\"Driving one mile\"\n",
    "#\"Driving one mile\"\n",
    "#\"Driving one mile\"\n",
    "#\"Driving one mile\"\n",
    "#\"Driving one mile\"\n",
    "#\"Driving one mile\"\n",
    "#\"Driving one mile\"\n",
    "#\"Driving one mile\"\n",
    "f.travel(4)\n",
    "#\"Driving one mile\"\n",
    "#\"Driving one mile\"\n",
    "#\"Driving one mile\"\n",
    "#\"Driving one mile\""
   ]
  },
  {
   "cell_type": "markdown",
   "metadata": {},
   "source": [
    "## Bank Accounts\n",
    "\n",
    "Suppose we want to model a bank account with support for deposit and withdraw operations. One way to do that is by using global state as shown in the following example. The above example is good enough only if we want to have just a single account. Things start getting complicated if want to model multiple accounts.\n",
    "\n",
    "\n"
   ]
  },
  {
   "cell_type": "code",
   "execution_count": null,
   "metadata": {
    "collapsed": false
   },
   "outputs": [],
   "source": [
    "class BankAccount(object):\n",
    "    def __init__(self, curr_value, min_account = 100):\n",
    "        self.current_value = current_value\n",
    "        self.min_account = min_account\n",
    "    \n",
    "    def withdraw(self, money):\n",
    "        if money > self.curr_value:\n",
    "            print \"You are too poor\"\n",
    "        else\n",
    "        self.curr_value-=money\n",
    "        \n",
    "    def deposit(self, money):\n",
    "        self.curr+=money"
   ]
  },
  {
   "cell_type": "markdown",
   "metadata": {
    "collapsed": true
   },
   "source": [
    "Calculate Greatest Common Divisor using map, filter, reduce"
   ]
  },
  {
   "cell_type": "code",
   "execution_count": null,
   "metadata": {
    "collapsed": false
   },
   "outputs": [],
   "source": [
    "def gdc (items):\n",
    "    dev = []\n",
    "    for x in items:\n",
    "        for i in range(1, max(items)):\n",
    "            dev.append(float(x)/i)\n",
    "    return dev \n",
    "#map(lambda x: x/range(x), items)\n",
    "\n",
    "\n",
    "\n",
    "gdc([10, 5])\n"
   ]
  },
  {
   "cell_type": "code",
   "execution_count": 26,
   "metadata": {
    "collapsed": false
   },
   "outputs": [],
   "source": [
    "#Linear Algebra\n",
    "\n",
    "import numpy as np\n",
    "import math\n",
    "vec1=np.array([42,17,73,44,19,56,56])\n",
    "vec2=np.array([70,83,22,3,47,68,98])"
   ]
  },
  {
   "cell_type": "code",
   "execution_count": 27,
   "metadata": {
    "collapsed": false
   },
   "outputs": [
    {
     "data": {
      "text/plain": [
       "16278"
      ]
     },
     "execution_count": 27,
     "metadata": {},
     "output_type": "execute_result"
    }
   ],
   "source": [
    "#inner_product\n",
    "vec1.dot(vec2)\n",
    "#vec2.dot(vec1)"
   ]
  },
  {
   "cell_type": "code",
   "execution_count": 28,
   "metadata": {
    "collapsed": false
   },
   "outputs": [
    {
     "data": {
      "text/plain": [
       "126.29726837901127"
      ]
     },
     "execution_count": 28,
     "metadata": {},
     "output_type": "execute_result"
    }
   ],
   "source": [
    "# vec1 norm\n",
    "np.linalg.norm(vec1)"
   ]
  },
  {
   "cell_type": "code",
   "execution_count": 29,
   "metadata": {
    "collapsed": false
   },
   "outputs": [
    {
     "data": {
      "text/plain": [
       "169.4668109099832"
      ]
     },
     "execution_count": 29,
     "metadata": {},
     "output_type": "execute_result"
    }
   ],
   "source": [
    "# vec2 norm\n",
    "np.linalg.norm(vec2)"
   ]
  },
  {
   "cell_type": "code",
   "execution_count": 30,
   "metadata": {
    "collapsed": false
   },
   "outputs": [
    {
     "name": "stdout",
     "output_type": "stream",
     "text": [
      "126.297268379\n",
      "169.46681091\n"
     ]
    }
   ],
   "source": [
    "inner_product = vec1.dot(vec2)\n",
    "vec1_norm = np.linalg.norm(vec1)\n",
    "vec2_norm = np.linalg.norm(vec2)\n",
    "\n",
    "#inner_product/(vec1_norm * vec2_norm)\n",
    "print vec1_norm\n",
    "print vec2_norm"
   ]
  },
  {
   "cell_type": "code",
   "execution_count": 32,
   "metadata": {
    "collapsed": false
   },
   "outputs": [
    {
     "data": {
      "text/plain": [
       "40.48815085924152"
      ]
     },
     "execution_count": 32,
     "metadata": {},
     "output_type": "execute_result"
    }
   ],
   "source": [
    "math.acos(inner_product/(vec1_norm * vec2_norm)) * 180 / 3.14159"
   ]
  },
  {
   "cell_type": "code",
   "execution_count": null,
   "metadata": {
    "collapsed": true
   },
   "outputs": [],
   "source": []
  }
 ],
 "metadata": {
  "anaconda-cloud": {},
  "kernelspec": {
   "display_name": "Python [default]",
   "language": "python",
   "name": "python2"
  },
  "language_info": {
   "codemirror_mode": {
    "name": "ipython",
    "version": 2
   },
   "file_extension": ".py",
   "mimetype": "text/x-python",
   "name": "python",
   "nbconvert_exporter": "python",
   "pygments_lexer": "ipython2",
   "version": "2.7.12"
  }
 },
 "nbformat": 4,
 "nbformat_minor": 1
}
