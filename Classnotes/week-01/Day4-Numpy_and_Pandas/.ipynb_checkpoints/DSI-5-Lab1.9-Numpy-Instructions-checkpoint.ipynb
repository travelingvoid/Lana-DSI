{
 "cells": [
  {
   "cell_type": "markdown",
   "metadata": {},
   "source": [
    "<img src=\"https://ga-dash.s3.amazonaws.com/production/assets/logo-9f88ae6c9c3871690e33280fcf557f33.png\" style=\"float: left; margin: 10px;\"> \n",
    "# Numpy Lab\n",
    "\n",
    "---\n",
    "Week 1 | Lab 1.9\n",
    "\n",
    "\n",
    "# Instructions\n",
    "Fill in the functions found in the provided numpy_exercise.py file.  A test file is provided to check your answers (that is the `test_numpy_exercise.pyc` file).  \n",
    "To run your code through the test, open a terminal window in the director you are working in, and type in\n",
    "\n",
    "```shell\n",
    "$ nosetests test_numpy_exercise.pyc\n",
    "```\n",
    "\n",
    "## Outline\n",
    "\n",
    "1. Matrix vs Vectors  [questions one through eight]\n",
    "2. Scalar Operations [questions nine through 12]\n",
    "3. Matrix Vector Multiplication [questions 13-16]\n",
    "4. Matrix Matrix Multiplication [questions 17 and 18]\n",
    "5. Elementwise Matrix Operations [questions 19-24]\n",
    "\n",
    "This will cover all of the basic operations you can do with matrices, as well as some properties of linear algebra with relevant machine learning.\n",
    "\n",
    "For nearly all of our matrix operations, we will be using a python library named `numpy`\n",
    "\n",
    "Numpy basically takes native python data structures, like lists, and gives them super math powers. So  operations that would be very difficult when using a regular python list, is a one liner when using numpy.  \n",
    "\n",
    "```\n",
    "import numpy as np\n",
    "\n",
    "row_vector = np.arange(0, 10, 1).reshape(1, 10)\n",
    "\n",
    "print row_vector\n",
    ">>> [[0 1 2 3 4 5 6 7 8 9]]\n",
    "\n",
    "print row_vector.shape\n",
    ">>> (1, 10)\n",
    "\n",
    "col_vector = np.linspace(100, 300, 3).reshape(3,1)\n",
    "\n",
    "print col_vector\n",
    ">>> [[ 100.]\n",
    "    [ 200.]\n",
    "    [ 300.]]\n",
    "\n",
    "print col_vector.shape\n",
    ">>> (3, 1)\n",
    "```"
   ]
  }
 ],
 "metadata": {
  "anaconda-cloud": {},
  "kernelspec": {
   "display_name": "Python [conda env:dsi]",
   "language": "python",
   "name": "conda-env-dsi-py"
  },
  "language_info": {
   "codemirror_mode": {
    "name": "ipython",
    "version": 2
   },
   "file_extension": ".py",
   "mimetype": "text/x-python",
   "name": "python",
   "nbconvert_exporter": "python",
   "pygments_lexer": "ipython2",
   "version": "2.7.12"
  }
 },
 "nbformat": 4,
 "nbformat_minor": 0
}
