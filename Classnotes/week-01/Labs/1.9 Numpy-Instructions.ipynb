{
 "cells": [
  {
   "cell_type": "markdown",
   "metadata": {},
   "source": [
    "<img src=\"https://ga-dash.s3.amazonaws.com/production/assets/logo-9f88ae6c9c3871690e33280fcf557f33.png\" style=\"float: left; margin: 10px;\"> \n",
    "# Numpy Lab\n",
    "\n",
    "---\n",
    "Week 1 | Lab 1.9\n",
    "\n",
    "\n",
    "# Instructions\n",
    "Fill in the functions found in the provided numpy_exercise.py file.  A test file is provided to check your answers (that is the `test_numpy_exercise.pyc` file).  \n",
    "To run your code through the test, open a terminal window in the director you are working in, and type in\n",
    "\n",
    "```shell\n",
    "$ nosetests test_numpy_exercise.pyc\n",
    "```\n",
    "\n",
    "## Outline\n",
    "\n",
    "1. Matrix vs Vectors  [questions one through eight]\n",
    "2. Scalar Operations [questions nine through 12]\n",
    "3. Matrix Vector Multiplication [questions 13-16]\n",
    "4. Matrix Matrix Multiplication [questions 17 and 18]\n",
    "5. Elementwise Matrix Operations [questions 19-24]\n",
    "\n",
    "This will cover all of the basic operations you can do with matrices, as well as some properties of linear algebra with relevant machine learning.\n",
    "\n",
    "For nearly all of our matrix operations, we will be using a python library named `numpy`\n",
    "\n",
    "Numpy basically takes native python data structures, like lists, and gives them super math powers. So  operations that would be very difficult when using a regular python list, is a one liner when using numpy.  \n",
    "\n",
    "```\n",
    "import numpy as np\n",
    "\n",
    "row_vector = np.arange(0, 10, 1).reshape(1, 10)\n",
    "\n",
    "print row_vector\n",
    ">>> [[0 1 2 3 4 5 6 7 8 9]]\n",
    "\n",
    "print row_vector.shape\n",
    ">>> (1, 10)\n",
    "\n",
    "col_vector = np.linspace(100, 300, 3).reshape(3,1)\n",
    "\n",
    "print col_vector\n",
    ">>> [[ 100.]\n",
    "    [ 200.]\n",
    "    [ 300.]]\n",
    "\n",
    "print col_vector.shape\n",
    ">>> (3, 1)\n",
    "```"
   ]
  },
  {
   "cell_type": "code",
   "execution_count": 6,
   "metadata": {
    "collapsed": false
   },
   "outputs": [
    {
     "ename": "NameError",
     "evalue": "name 'array1' is not defined",
     "output_type": "error",
     "traceback": [
      "\u001b[0;31m---------------------------------------------------------------------------\u001b[0m",
      "\u001b[0;31mNameError\u001b[0m                                 Traceback (most recent call last)",
      "\u001b[0;32m<ipython-input-6-ffaebe363561>\u001b[0m in \u001b[0;36m<module>\u001b[0;34m()\u001b[0m\n\u001b[1;32m     11\u001b[0m     \u001b[0msquare_matrix\u001b[0m \u001b[0;34m=\u001b[0m \u001b[0mcolumn_vector\u001b[0m \u001b[0;34m*\u001b[0m \u001b[0msquare_matrix\u001b[0m\u001b[0;34m\u001b[0m\u001b[0m\n\u001b[1;32m     12\u001b[0m     \u001b[0;32mreturn\u001b[0m \u001b[0mcolumn_vector\u001b[0m\u001b[0;34m,\u001b[0m \u001b[0mrow_vector\u001b[0m\u001b[0;34m,\u001b[0m \u001b[0msquare_matrix\u001b[0m\u001b[0;34m\u001b[0m\u001b[0m\n\u001b[0;32m---> 13\u001b[0;31m \u001b[0marray1\u001b[0m\u001b[0;34m\u001b[0m\u001b[0m\n\u001b[0m",
      "\u001b[0;31mNameError\u001b[0m: name 'array1' is not defined"
     ]
    }
   ],
   "source": [
    "import numpy as np\n",
    "def thirteen():\n",
    "    '''\n",
    "    Create column vector with 3 ints, called as column_vector.\n",
    "    Create a row vector with 3 ints, called as row_vector.\n",
    "    Create 3 x 3 square matrix called and square_matrix:\n",
    "    Return as column_vector, row_vector, square_matrix (IN THAT ORDER)\n",
    "    '''\n",
    "    column_vector = np.arange(1,4).reshape(3,1)\n",
    "    row_vector = np.arange(1,4)\n",
    "    square_matrix = column_vector * square_matrix\n",
    "    return column_vector, row_vector, square_matrix\n",
    "array1"
   ]
  },
  {
   "cell_type": "code",
   "execution_count": 7,
   "metadata": {
    "collapsed": false
   },
   "outputs": [
    {
     "data": {
      "text/plain": [
       "array([ 0.5,  1.5,  2.5,  3.5,  4.5,  5.5,  6.5,  7.5,  8.5,  9.5])"
      ]
     },
     "execution_count": 7,
     "metadata": {},
     "output_type": "execute_result"
    }
   ],
   "source": [
    "np.arange(0.5, 10, 1)"
   ]
  },
  {
   "cell_type": "code",
   "execution_count": 8,
   "metadata": {
    "collapsed": false
   },
   "outputs": [
    {
     "name": "stdout",
     "output_type": "stream",
     "text": [
      "[ 0.5  1.5  2.5  3.5  4.5  5.5  6.5  7.5  8.5  9.5]\n",
      "[ 0.5  0.5  0.5  0.5  0.5  0.5  0.5  0.5  0.5  0.5]\n",
      "[ 0.5  1.5  2.5  3.5  4.5  5.5  6.5  7.5  8.5  9.5]\n"
     ]
    }
   ],
   "source": [
    "def nine():\n",
    "    '''\n",
    "    INPUT: None\n",
    "    OUTPUT: A numpy array with values [ [0,1,2,3,4,5,6,7,8,9] ]\n",
    "    Create this numpy array (called V): [ [0,1,2,3,4,5,6,7,8,9] ]\n",
    "    '''\n",
    "    return np.arange(0, 10)\n",
    "V = nine()\n",
    "\n",
    "def ten(V):\n",
    "    '''\n",
    "    INPUT: V ( matrix from nine() )\n",
    "    OUTPUT: [[ 0.5  1.5  2.5  3.5  4.5  5.5  6.5  7.5  8.5  9.5]]\n",
    "    Do a scalar addition by 0.5 to V.\n",
    "    '''\n",
    "    return V + np.array(0.5)\n",
    "\n",
    "print ten(V)\n",
    "\n",
    "def twelve(V):\n",
    "    '''\n",
    "    INPUT: V ( matrix from nine() )\n",
    "    OUTPUT: answer = V+B\n",
    "    Create a 1 by 10 vector 'B',\n",
    "    that when added to V,  will yeild the same results as function ten\n",
    "    V + B = [[ 0.5  1.5  2.5  3.5  4.5  5.5  6.5  7.5  8.5  9.5]]\n",
    "    Return your answer\n",
    "    '''\n",
    "\n",
    "    B = np.ones(10) * 0.5\n",
    "    print B\n",
    "    return V + B\n",
    "\n",
    "print twelve(V)\n"
   ]
  },
  {
   "cell_type": "code",
   "execution_count": 9,
   "metadata": {
    "collapsed": false
   },
   "outputs": [
    {
     "name": "stdout",
     "output_type": "stream",
     "text": [
      "[[1]\n",
      " [2]\n",
      " [3]]\n",
      "[4 5 6]\n",
      "[[ 4  5  6]\n",
      " [ 8 10 12]\n",
      " [12 15 18]]\n"
     ]
    }
   ],
   "source": [
    "column_vector = np.arange(1,4).reshape(3,1)\n",
    "row_vector = np.arange(4,7)\n",
    "square_matrix = column_vector * row_vector\n",
    "print column_vector\n",
    "print row_vector\n",
    "print square_matrix"
   ]
  },
  {
   "cell_type": "code",
   "execution_count": 13,
   "metadata": {
    "collapsed": false
   },
   "outputs": [
    {
     "data": {
      "text/plain": [
       "array([[ 0.77925527,  0.27853802,  0.79458753],\n",
       "       [ 0.93823498,  0.35864384,  0.52780509]])"
      ]
     },
     "execution_count": 13,
     "metadata": {},
     "output_type": "execute_result"
    }
   ],
   "source": [
    "np.random.random((2,3))"
   ]
  },
  {
   "cell_type": "code",
   "execution_count": null,
   "metadata": {
    "collapsed": true
   },
   "outputs": [],
   "source": []
  },
  {
   "cell_type": "code",
   "execution_count": null,
   "metadata": {
    "collapsed": true
   },
   "outputs": [],
   "source": []
  },
  {
   "cell_type": "code",
   "execution_count": null,
   "metadata": {
    "collapsed": true
   },
   "outputs": [],
   "source": []
  }
 ],
 "metadata": {
  "anaconda-cloud": {},
  "kernelspec": {
   "display_name": "Python 2",
   "language": "python",
   "name": "python2"
  },
  "language_info": {
   "codemirror_mode": {
    "name": "ipython",
    "version": 2
   },
   "file_extension": ".py",
   "mimetype": "text/x-python",
   "name": "python",
   "nbconvert_exporter": "python",
   "pygments_lexer": "ipython2",
   "version": "2.7.13"
  }
 },
 "nbformat": 4,
 "nbformat_minor": 0
}
