{
 "cells": [
  {
   "cell_type": "markdown",
   "metadata": {},
   "source": [
    "## Functional & Object Oriented Programming "
   ]
  },
  {
   "cell_type": "markdown",
   "metadata": {},
   "source": [
    "### Functional Programming in Python\n",
    "In class, we briefly explored the Functional Programming in Python through lambda functions, map, filter, iterators, generators, and deocrators. This note will review those ideas. "
   ]
  },
  {
   "cell_type": "markdown",
   "metadata": {},
   "source": [
    "#### Lambda Functions \n"
   ]
  },
  {
   "cell_type": "markdown",
   "metadata": {
    "collapsed": false
   },
   "source": [
    "Exercise : For this exercise solve the following problem on Hackerrank and post your solution in the cell below\n",
    "\n",
    "[Validating Email addresses with a Filter](https://www.hackerrank.com/contests/pythonista-practice-session/challenges/validate-list-of-email-address-with-filter)\n"
   ]
  },
  {
   "cell_type": "code",
   "execution_count": 1,
   "metadata": {
    "collapsed": false
   },
   "outputs": [
    {
     "data": {
      "text/plain": [
       "['lara@hackerrank.com',\n",
       " 'brian-23@hackerrank.com',\n",
       " 'britts_54@hackerrank.com',\n",
       " 'iota_98@hackerrank.com']"
      ]
     },
     "execution_count": 1,
     "metadata": {},
     "output_type": "execute_result"
    }
   ],
   "source": [
    "#Write code here\n",
    "email = ['3', 'lara@hackerrank.com', 'brian-23@hackerrank.com', 'britts_54@hackerrank.com', \n",
    "         '2', 'harsh@gmail', 'iota_98@hackerrank.com']\n",
    "\n",
    "#filter(lambda x: len(x) > 5 and x.find('@') and (x[-4] == '.' or x[-3] == '.' or x[-2] == '.'), email)\n",
    "\n",
    "def fun(s):\n",
    "    # return True if s is a valid email, else return False\n",
    "    return lambda x: len(x) > 5 and x.find('@') and (x[-4] == '.' or x[-3] == '.' or x[-2] == '.')\n",
    "    \n",
    "def filter_mail(emails):\n",
    "    return filter(fun(emails), emails)\n",
    "\n",
    "filter_mail(email)\n",
    "\n",
    "#Why does this work on with ipython but not on Hackerrank?"
   ]
  },
  {
   "cell_type": "markdown",
   "metadata": {},
   "source": [
    "#### Generators\n",
    "\n",
    "Exercise :\n",
    "Write a infinite generator that successively yields the triangle numbers 0, 1, 3, 6, 10, ...\n",
    "\n",
    "[Triangle Numbers](https://en.wikipedia.org/wiki/Triangular_number)"
   ]
  },
  {
   "cell_type": "code",
   "execution_count": 2,
   "metadata": {
    "collapsed": false
   },
   "outputs": [
    {
     "data": {
      "text/plain": [
       "6"
      ]
     },
     "execution_count": 2,
     "metadata": {},
     "output_type": "execute_result"
    }
   ],
   "source": [
    "### Generators\n",
    "\"\"\"\n",
    "Exercise :\n",
    "Write a infinite generator that successively yields the triangle numbers 0, 1, 3, 6, 10, ...\n",
    "\n",
    "Triangle Numbers : https://en.wikipedia.org/wiki/Triangular_number\n",
    "\n",
    "sum = 0\n",
    "for x in range(a):\n",
    "    sum = sum + x\n",
    "\"\"\"\n",
    "def generate_triangles():\n",
    "    a, b = 0, 0\n",
    "    while True:\n",
    "        a = a + b\n",
    "        b += 1\n",
    "        yield a\n",
    "\n",
    "g = generate_triangles()\n",
    "next(g)\n",
    "next(g)\n",
    "next(g)\n",
    "next(g)"
   ]
  },
  {
   "cell_type": "code",
   "execution_count": 3,
   "metadata": {
    "collapsed": false
   },
   "outputs": [
    {
     "name": "stdout",
     "output_type": "stream",
     "text": [
      "0\n",
      "1\n",
      "3\n",
      "6\n",
      "10\n",
      "15\n",
      "21\n",
      "28\n",
      "36\n",
      "45\n"
     ]
    }
   ],
   "source": [
    "\"\"\"\n",
    "Use your generator to write a function triangles_under(n) that prints out all triangle\n",
    "numbers strictly less than the parameter n.\n",
    "\n",
    "\"\"\"\n",
    "def triangles_under(n):\n",
    "    for f in generate_triangles():\n",
    "        if f > n:\n",
    "            break\n",
    "        print(f)\n",
    "        \n",
    "triangles_under(50)"
   ]
  },
  {
   "cell_type": "markdown",
   "metadata": {},
   "source": [
    "#### Decorators \n",
    "Exercise : Standardize Mobile Numbers using Decorators\n",
    "\n",
    "Make a list of the mobile numbers and pass it to a function that sorts the array \n",
    "in ascending order. Make a decorator that standardizes the mobile numbers and \n",
    "apply it to the function.\n",
    "\n",
    "Input : Take a list of mobile numbers. Sort them in ascending order then print them in \n",
    "the standard format shown below:\n",
    "    \n",
    "    +1 xxx xxx xxxx\n",
    "\n",
    "The given mobile numbers may have +1, 1 or 0 written before the actual digit number. \n",
    "Alternatively, there may not be any prefix at all. \n",
    "\n",
    "Sample Input : \n",
    "    06502505121\n",
    "    +19658764040\n",
    "\n",
    "Sample output :\n",
    "    +1 650 250 5121\n",
    "    +1 965 876 4040\n"
   ]
  },
  {
   "cell_type": "code",
   "execution_count": 4,
   "metadata": {
    "collapsed": false
   },
   "outputs": [],
   "source": [
    "us_phone_numbers = ['06295539993', 12455147864, '+14984567027', 5555555, '02143791793', \n",
    "                    3049532512, 5254162249, 16242380135, '07397028947', '+12819467837']"
   ]
  },
  {
   "cell_type": "code",
   "execution_count": 5,
   "metadata": {
    "collapsed": false
   },
   "outputs": [
    {
     "name": "stdout",
     "output_type": "stream",
     "text": [
      "+1 214 379 1793\n",
      "+1 245 514 7864\n",
      "+1 281 946 7837\n",
      "+1 304 953 2512\n",
      "+1 498 456 7027\n",
      "+1 525 416 2249\n",
      "+1 624 238 0135\n",
      "+1 629 553 9993\n",
      "+1 739 702 8947\n"
     ]
    }
   ],
   "source": [
    "#Write code here\n",
    "#f('+1 {} {} {}'.format(n[-10:-6], n[-6:-3], n[-3:]) for n in l)\n",
    "def fun(l):\n",
    "    for n in l:\n",
    "        #n = str(n)\n",
    "        print \"+1 \" + n[-10:-7] + \" \" + n[-7:-4] + \" \" + n[-4:]\n",
    "\n",
    "def phone(phone_list):\n",
    "    new_list = []\n",
    "    for item in phone_list:\n",
    "        item = str(item)\n",
    "        if len(item) >= 10:\n",
    "            new_list.append(item[-10:])\n",
    "    return sorted(new_list)\n",
    "\n",
    "fun(phone(us_phone_numbers))"
   ]
  },
  {
   "cell_type": "code",
   "execution_count": 6,
   "metadata": {
    "collapsed": false
   },
   "outputs": [
    {
     "name": "stdout",
     "output_type": "stream",
     "text": [
      "+1 629 553 9993\n",
      "+1 245 514 7864\n",
      "+1 498 456 7027\n",
      "+1  555 5555\n",
      "+1 214 379 1793\n",
      "+1 304 953 2512\n",
      "+1 525 416 2249\n",
      "+1 624 238 0135\n",
      "+1 739 702 8947\n",
      "+1 281 946 7837\n"
     ]
    }
   ],
   "source": [
    "#why doesn't the logic from above not work with a wrapper? It passes the phone_list when it should pass the new_list\n",
    "\n",
    "def wrapper(f):\n",
    "    def fun(l): \n",
    "        #print l\n",
    "        for n in l:\n",
    "            n = str(n)\n",
    "            print \"+1 \" + n[-10:-7] + \" \" + n[-7:-4] + \" \" + n[-4:]\n",
    "    return fun\n",
    "\n",
    "@wrapper\n",
    "def phone(phone_list):\n",
    "    new_list = []\n",
    "    for item in phone_list:\n",
    "        item = str(item)\n",
    "        if len(item) >= 10:\n",
    "            new_list.append(item[-10:])\n",
    "    return sorted(new_list)\n",
    "    \n",
    "phone(us_phone_numbers)"
   ]
  },
  {
   "cell_type": "code",
   "execution_count": 7,
   "metadata": {
    "collapsed": false
   },
   "outputs": [
    {
     "data": {
      "text/plain": [
       "['2143791793',\n",
       " '2455147864',\n",
       " '2819467837',\n",
       " '3049532512',\n",
       " '4984567027',\n",
       " '5254162249',\n",
       " '6242380135',\n",
       " '6295539993',\n",
       " '7397028947']"
      ]
     },
     "execution_count": 7,
     "metadata": {},
     "output_type": "execute_result"
    }
   ],
   "source": [
    "#Why doesn't this work?\n",
    "def wrapper(f):\n",
    "    def fun(l):\n",
    "        new_list = []\n",
    "        for item in l:\n",
    "            item = str(item)\n",
    "            if len(item) >= 10:\n",
    "                new_list.append(item[-10:])\n",
    "        return sorted(new_list)\n",
    "    return fun\n",
    "\n",
    "@wrapper\n",
    "def phone(number):\n",
    "    return \"+1 \" + number[-10:-7] + \" \" + number[-7:-4] + \" \" + number[-4:]\n",
    "        \n",
    "phone(us_phone_numbers)"
   ]
  },
  {
   "cell_type": "markdown",
   "metadata": {},
   "source": [
    "### Object Oriented Programming in Python"
   ]
  },
  {
   "cell_type": "markdown",
   "metadata": {},
   "source": [
    "#### Exercise 1: "
   ]
  },
  {
   "cell_type": "code",
   "execution_count": 8,
   "metadata": {
    "collapsed": false
   },
   "outputs": [
    {
     "ename": "NameError",
     "evalue": "name '____________' is not defined",
     "output_type": "error",
     "traceback": [
      "\u001b[0;31m---------------------------------------------------------------------------\u001b[0m",
      "\u001b[0;31mNameError\u001b[0m                                 Traceback (most recent call last)",
      "\u001b[0;32m<ipython-input-8-5aabeecd2b64>\u001b[0m in \u001b[0;36m<module>\u001b[0;34m()\u001b[0m\n\u001b[1;32m     14\u001b[0m \u001b[0;34m\u001b[0m\u001b[0m\n\u001b[1;32m     15\u001b[0m \u001b[0ma\u001b[0m \u001b[0;34m=\u001b[0m \u001b[0mAccount\u001b[0m\u001b[0;34m(\u001b[0m\u001b[0;34m\"Billy\"\u001b[0m\u001b[0;34m)\u001b[0m \u001b[0;31m# Account class is initializes as a\u001b[0m\u001b[0;34m\u001b[0m\u001b[0m\n\u001b[0;32m---> 16\u001b[0;31m \u001b[0m____________\u001b[0m\u001b[0;34m\u001b[0m\u001b[0m\n\u001b[0m\u001b[1;32m     17\u001b[0m \u001b[0;34m\u001b[0m\u001b[0m\n\u001b[1;32m     18\u001b[0m \u001b[0ma\u001b[0m\u001b[0;34m.\u001b[0m\u001b[0maccount_holder\u001b[0m \u001b[0;31m# Return error because account_holder isn't set as a str value\u001b[0m\u001b[0;34m\u001b[0m\u001b[0m\n",
      "\u001b[0;31mNameError\u001b[0m: name '____________' is not defined"
     ]
    }
   ],
   "source": [
    "# Before compiling the following code snippets, write down what\n",
    "# each individual call will return in an inline comment. \n",
    "# If you think it returns an error, why would it be the case. \n",
    " \n",
    "\n",
    "class Account(object):\n",
    "    interest = 0.02\n",
    "    def __init__(self, account_holder):\n",
    "        self.balance = 0\n",
    "        self.holder = account_holder\n",
    "    def deposit(self, amount):\n",
    "        self.balance = self.balance + amount\n",
    "        print(\"Yes!\")\n",
    "\n",
    "a = Account(\"Billy\") # Account class is initializes as a\n",
    "____________\n",
    "\n",
    "a.account_holder # Return error because account_holder isn't set as a str value\n",
    "____________\n",
    "\n",
    "Account.holder # Return error because a holder hasn't been assigned to the class\n",
    "______\n",
    "\n",
    "Account.interest # 0.02\n",
    "______\n",
    "\n",
    "a.interest # 0.02\n",
    "______\n",
    "\n",
    "Account.interest = 0.03 \n",
    "a.interest  #0.03\n",
    "______ #interest have been set to 0.03 because Account.interest changes the class \n",
    "\n",
    "a.deposit(1000) # Yes!\n",
    "______\n",
    "\n",
    "a.balance  # 1000\n",
    "______"
   ]
  },
  {
   "cell_type": "markdown",
   "metadata": {},
   "source": [
    "#### Exercise 2: Timed Key Value Store \n",
    "\n",
    "At a high-level, we'll be building a key-value store (think Dictionary or HashMap) that has a get method that takes an optional second parameter as a time object in Python to return the most recent value before that period in time. If no key-value pair was added to the map before that period in time, return None.\n",
    "\n",
    "For consistency’s sake, let’s call this class TimedKVStore and put it into a file called kv_store.py\n",
    "\n",
    "You’ll need some sort of time object to track when key-value pairs are getting added to this map. Consider using the time module from Python Docs\n",
    "\n",
    "To give you an idea of how this class works, this is what should happen after you implement TimedKVStore.\n",
    "\n"
   ]
  },
  {
   "cell_type": "code",
   "execution_count": 9,
   "metadata": {
    "collapsed": false
   },
   "outputs": [],
   "source": [
    "#Write code here \n",
    "#This imitatades a dictionary, if there is a key. \n",
    "#Define TimedKVStore\n",
    "#Define the init() method\n",
    "\n",
    "import time\n",
    "\n",
    "class TimedKVStore(object):\n",
    "    def __init__(self):\n",
    "        # initialize pretend dictionary\n",
    "        self.timedict = []\n",
    "    def put(self, timekey, timevalue):\n",
    "        # from initialized dictionary, get value for key\n",
    "        # if no value, create a list for that value\n",
    "        # add (time, value) to that list\n",
    "        timetuple = (timekey, timevalue, time.time())\n",
    "        self.timedict.append(timetuple)\n",
    "    def get(self, timekey, timeloca=0):\n",
    "        # get list of values for that key\n",
    "        # from above list of values, get most recent value\n",
    "        # or, if key is specified, most recent value before that time\n",
    "        key_check = []\n",
    "        for key, value, time in self.timedict:\n",
    "            if key == timekey:\n",
    "                key_check.append((key, value, time))\n",
    "        print \"Output : {}\".format(key_check[0][1])\n",
    "        \n",
    "#I don't understand this!"
   ]
  },
  {
   "cell_type": "code",
   "execution_count": 10,
   "metadata": {
    "collapsed": false
   },
   "outputs": [
    {
     "name": "stdout",
     "output_type": "stream",
     "text": [
      "Output : 1\n",
      "Output : 1\n",
      "Output : 1\n"
     ]
    }
   ],
   "source": [
    "d = TimedKVStore()\n",
    "\n",
    "t0 = time.time() #=> 1\n",
    "d.put(\"1\", 1) #=> 2\n",
    "\n",
    "t1 = time.time() #=> 3\n",
    "d.put(\"1\", 1.1) #=> 4\n",
    "\n",
    "d.get(\"1\")\n",
    "#Output : 1.1\n",
    "        \n",
    "d.get(\"1\", t1) #=> 3\n",
    "#Output : 1\n",
    "    \n",
    "d.get(\"1\", t0)\n",
    "#Output : None"
   ]
  },
  {
   "cell_type": "markdown",
   "metadata": {
    "collapsed": true
   },
   "source": [
    "#### Exercise 3 : \n",
    "For this problem you will be creating a class and apply OOP priciples to it. The problem is divided into two parts.\n",
    "\n",
    "#### 1. PART 1: \n",
    "* Define a Rocket() class.\n",
    "* Define the __init__() method. Let your __init__() method accept x and y values for the initial position of the rocket. Make sure the default behavior is to position the rocket at (0,0).\n",
    "* Define the move_rocket() method. The method should accept an amount to move (x,y)\n",
    "* Create a Rocket object. Move the rocket around, printing its position after each move.\n",
    "* Create a small fleet of rockets. Move several of them around, and print their final positions to prove that each rocket can move independently of the other rockets.\n",
    "* Define the get_distance() method. The method should accept a Rocket object, and calculate the distance between the current rocket and the rocket that is passed into the method.\n",
    "* Use the get_distance() method to print the distances between several of the rockets in your fleet.\n",
    "\n",
    "#### 2. PART 2 : Applying Inheritance\n",
    "* Define a class SpaceShuttle() which extends class Rocket()\n",
    "* Add more attributes that are particular to space shuttles such as maximum number of flights, capability of supporting spacewalks, and capability of docking with the ISS.\n",
    "* Add a method to the class, that relates to shuttle behavior. This method could simply print a statement, such as \"Docking with the ISS,\" for a dock_ISS() method.\n",
    "* Create a Shuttle object with these attributes, and then call your new method.\n",
    "\n",
    "Hints/Notes :\n",
    "* You can use the Euclidean distance to calculate the distances between different Rocket objects\n",
    "\n",
    "    - Euclidean distance((x, y), (a, b)) = √(x - a)² + (y - b)²\n",
    "\n"
   ]
  },
  {
   "cell_type": "code",
   "execution_count": 11,
   "metadata": {
    "collapsed": false
   },
   "outputs": [
    {
     "name": "stdout",
     "output_type": "stream",
     "text": [
      "New Position: 0, 3\n",
      "New Position: 4, 0\n",
      "New Position: 5, 4\n",
      "New Position: 0, 8\n",
      "Distance: 5.0\n",
      "Distance: 5.0\n",
      "Distance: 8.94427191\n"
     ]
    }
   ],
   "source": [
    "#Write code here \n",
    "import math\n",
    "\n",
    "class Rocket(object):\n",
    "    def __init__(self, x=0, y=0):\n",
    "        self.x = x\n",
    "        self.y = y\n",
    "    def move_rocket(self, x, y):\n",
    "        self.x = self.x + x\n",
    "        self.y = self.y + y\n",
    "        print \"New Position: {}, {}\".format(self.x, self.y)\n",
    "    def get_distance(self, new_rocket):\n",
    "        distance = math.sqrt((self.x - new_rocket.x)**2 + (self.y - new_rocket.y)**2)\n",
    "        print \"Distance: {}\".format(distance)\n",
    "    \n",
    "r1 = Rocket()\n",
    "r2 = Rocket()\n",
    "r3 = Rocket()\n",
    "r1.move_rocket(0, 3)\n",
    "r2.move_rocket(4, 0)\n",
    "r3.move_rocket(5, 4)\n",
    "r3.move_rocket(-5, 4)\n",
    "r1.get_distance(r2)\n",
    "r1.get_distance(r3)\n",
    "r2.get_distance(r3)    "
   ]
  },
  {
   "cell_type": "code",
   "execution_count": 12,
   "metadata": {
    "collapsed": false
   },
   "outputs": [
    {
     "name": "stdout",
     "output_type": "stream",
     "text": [
      "New Position: 7, 3\n",
      "Distance: 4.24264068712\n",
      "New Position: 8, 7\n",
      "Docking with the ISS.\n",
      "Max Flights: 2\n",
      "Shuttle cannot dock with the ISS\n",
      "Shuttle is able to go on spacewalks\n"
     ]
    }
   ],
   "source": [
    "class SpaceShuttle(Rocket):    \n",
    "    max_flights = 2\n",
    "    spacewalks = True\n",
    "    docking = True\n",
    "    def dock_ISS(self):\n",
    "        if self.docking:\n",
    "            print \"Docking with the ISS.\"\n",
    "        else:\n",
    "            print \"Shuttle cannot dock with the ISS\"\n",
    "    def behavior(self):\n",
    "        print \"Max Flights: {}\".format(self.max_flights)\n",
    "        if self.docking:\n",
    "            print \"Shuttle is able dock with the ISS\"\n",
    "        else:\n",
    "            print \"Shuttle cannot dock with the ISS\"\n",
    "        if self.spacewalks:\n",
    "            print \"Shuttle is able to go on spacewalks\"\n",
    "        else:\n",
    "            print \"Shuttle cannot go on spacewalks\"\n",
    "\n",
    "        \n",
    "s1 = SpaceShuttle()\n",
    "s1.move_rocket(7, 3)\n",
    "s1.get_distance(r2)\n",
    "s1.move_rocket(1, 4)\n",
    "s1.dock_ISS()\n",
    "s1.docking = False\n",
    "s1.behavior()"
   ]
  },
  {
   "cell_type": "markdown",
   "metadata": {},
   "source": [
    "### Linear Algebra Review\n",
    "\n",
    "Exercise: Read through and review [Stanford's Linear Algebra Review](http://cs229.stanford.edu/section/cs229-linalg.pdf) \n",
    "\n",
    "\n",
    "Exercise : Go through videos : \n",
    "[Chapter 7 ,Chapter 9 , Chapter 10 , Chapter 11](https://www.youtube.com/playlist?list=PLZHQObOWTQDPD3MizzM2xVFitgF8hE_ab) and try to derive the algorithmic complexity of each vector and matrix operation. \n"
   ]
  },
  {
   "cell_type": "markdown",
   "metadata": {
    "collapsed": true
   },
   "source": [
    "Get bigO notataion for matrix addition, multiplication and etc\n",
    "\n",
    "    Matrix Addition = O(n^2)\n",
    "        Vector-Vector Addition = O(n)\n",
    "        Matrix-Vector Addition = O(n^2)\n",
    "        Matrix-Matrix Addition = O(n^2)\n",
    "\n",
    "    Matrix Multiplication = O(n^2)\n",
    "        Vector-Vector Products = O(n)\n",
    "        Matrix-Vector Products = O(n^2)\n",
    "        Matrix-Matrix Products = O(n^2)\n",
    "        Dot Product = O(n^2)"
   ]
  },
  {
   "cell_type": "code",
   "execution_count": null,
   "metadata": {
    "collapsed": true
   },
   "outputs": [],
   "source": []
  }
 ],
 "metadata": {
  "anaconda-cloud": {},
  "kernelspec": {
   "display_name": "Python [default]",
   "language": "python",
   "name": "python2"
  },
  "language_info": {
   "codemirror_mode": {
    "name": "ipython",
    "version": 2
   },
   "file_extension": ".py",
   "mimetype": "text/x-python",
   "name": "python",
   "nbconvert_exporter": "python",
   "pygments_lexer": "ipython2",
   "version": "2.7.12"
  }
 },
 "nbformat": 4,
 "nbformat_minor": 1
}
