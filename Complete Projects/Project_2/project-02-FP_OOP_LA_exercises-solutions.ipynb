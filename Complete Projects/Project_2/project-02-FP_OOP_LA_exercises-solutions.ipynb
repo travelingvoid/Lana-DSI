{
 "cells": [
  {
   "cell_type": "markdown",
   "metadata": {},
   "source": [
    "## Functional & Object Oriented Programming "
   ]
  },
  {
   "cell_type": "markdown",
   "metadata": {},
   "source": [
    "### Functional Programming in Python\n",
    "In class, we briefly explored the Functional Programming in Python through lambda functions, map, filter, iterators, generators, and deocrators. This note will review those ideas. "
   ]
  },
  {
   "cell_type": "markdown",
   "metadata": {},
   "source": [
    "#### Lambda Functions \n"
   ]
  },
  {
   "cell_type": "markdown",
   "metadata": {
    "collapsed": false
   },
   "source": [
    "Exercise : For this exercise solve the following problem on Hackerrank and post your solution in the cell below\n",
    "\n",
    "[Validating Email addresses with a Filter](https://www.hackerrank.com/contests/pythonista-practice-session/challenges/validate-list-of-email-address-with-filter)\n"
   ]
  },
  {
   "cell_type": "code",
   "execution_count": 29,
   "metadata": {
    "collapsed": true
   },
   "outputs": [],
   "source": [
    "## This solution relies on concepts covered in class \n",
    "\n",
    "def isUser(name):\n",
    "    valid_char = lambda x: x.isalnum() or x == '_' or x == '-'\n",
    "    return all(map(valid_char, name))\n",
    "\n",
    "def isWebsite(website):\n",
    "    web_info = website.split('.')\n",
    "    if len(web_info) == 2:\n",
    "        name, ext = web_info\n",
    "        return all(map(lambda x: x.isalnum(), name)) and len(ext) <= 3\n",
    "    else:\n",
    "        return False\n",
    "    \n",
    "\n",
    "def isEmail(email):\n",
    "    email_info = email.split('@')\n",
    "    valid_elems = all(map(len, email_info))\n",
    "    if len(email_info) == 2 and valid_elems:\n",
    "        username, website = email_info \n",
    "        return isUser(username) and isWebsite(website)\n",
    "    else:\n",
    "        return False"
   ]
  },
  {
   "cell_type": "code",
   "execution_count": 31,
   "metadata": {
    "collapsed": true
   },
   "outputs": [],
   "source": [
    "## Using Regular Expressions for a much more elegant solution\n",
    "### We will cover regular expressions in detail when chatting about webscraping \n",
    "import re\n",
    "def isEmail_regex(email):\n",
    "     return re.search(\"^[a-zA-Z0-9_-]+\\@[a-zA-Z0-9]+\\.[a-zA-Z0-9]{1,3}$\", email)"
   ]
  },
  {
   "cell_type": "code",
   "execution_count": 28,
   "metadata": {
    "collapsed": false
   },
   "outputs": [],
   "source": [
    "def valid_emails(emails):\n",
    "    return filter(isEmail_regex, emails)"
   ]
  },
  {
   "cell_type": "markdown",
   "metadata": {},
   "source": [
    "#### Generators\n",
    "\n",
    "Exercise :\n",
    "Write a infinite generator that successively yields the triangle numbers 0, 1, 3, 6, 10, ...\n",
    "\n",
    "[Triangle Numbers](https://en.wikipedia.org/wiki/Triangular_number)"
   ]
  },
  {
   "cell_type": "code",
   "execution_count": 37,
   "metadata": {
    "collapsed": true
   },
   "outputs": [],
   "source": [
    "### Generators\n",
    "\"\"\"\n",
    "Exercise :\n",
    "Write a infinite generator that successively yields the triangle numbers 0, 1, 3, 6, 10, ...\n",
    "\n",
    "Triangle Numbers : https://en.wikipedia.org/wiki/Triangular_number\n",
    "\"\"\"\n",
    "def generate_triangles():\n",
    "    i, n = 1, 0\n",
    "    while True:\n",
    "        i, n = i+1, i*(i+1)/2\n",
    "        yield n"
   ]
  },
  {
   "cell_type": "code",
   "execution_count": 52,
   "metadata": {
    "collapsed": true
   },
   "outputs": [],
   "source": [
    "\"\"\"\n",
    "Use your generator to write a function triangles_under(n) that prints out all triangle\n",
    "numbers strictly less than the parameter n.\n",
    "\n",
    "\"\"\"\n",
    "def triangles_under(n):\n",
    "    triangle_nums = generate_triangles()\n",
    "    triangle_num = triangle_nums.next()\n",
    "    while triangle_num < n:\n",
    "        print triangle_num # you can also yield it\n",
    "        triangle_num = triangle_nums.next()"
   ]
  },
  {
   "cell_type": "markdown",
   "metadata": {},
   "source": [
    "#### Decorators \n",
    "Exercise : Standardize Mobile Numbers using Decorators\n",
    "\n",
    "Make a list of the mobile numbers and pass it to a function that sorts the array \n",
    "in ascending order. Make a decorator that standardizes the mobile numbers and \n",
    "apply it to the function.\n",
    "\n",
    "Input : Take a list of mobile numbers. Sort them in ascending order then print them in \n",
    "the standard format shown below:\n",
    "    \n",
    "    +1 xxx xxx xxxx\n",
    "\n",
    "The given mobile numbers may have +1, 1 or 0 written before the actual digit number. \n",
    "Alternatively, there may not be any prefix at all. \n",
    "\n",
    "Sample Input : \n",
    "    06502505121\n",
    "    +19658764040\n",
    "\n",
    "Sample output :\n",
    "    +1 650 250 5121\n",
    "    +1 965 876 4040\n"
   ]
  },
  {
   "cell_type": "code",
   "execution_count": 65,
   "metadata": {
    "collapsed": true
   },
   "outputs": [],
   "source": [
    "#Write code here\n",
    "def std_wrapper(function):\n",
    "    def standardize(numbers):\n",
    "        std_nums = []\n",
    "        for number in numbers:\n",
    "            if len(number) == 11:\n",
    "                number = number[1:]\n",
    "            elif len(number) == 12:\n",
    "                number = number[2:]\n",
    "            new_num = ' '.join([number[0:3], number[3:6], number[6:]])\n",
    "            new_num = '+1 ' + new_num \n",
    "            std_nums.append(new_num)\n",
    "        return function(std_nums)\n",
    "    \n",
    "    return standardize\n",
    "\n",
    "@std_wrapper\n",
    "def sort_nums(numbers):\n",
    "    return sorted(numbers)"
   ]
  },
  {
   "cell_type": "code",
   "execution_count": 67,
   "metadata": {
    "collapsed": false
   },
   "outputs": [
    {
     "data": {
      "text/plain": [
       "['+1 650 250 5121', '+1 965 876 4040']"
      ]
     },
     "execution_count": 67,
     "metadata": {},
     "output_type": "execute_result"
    }
   ],
   "source": [
    "numbers = [\"06502505121\", \"+19658764040\"]\n",
    "sort_nums(numbers)"
   ]
  },
  {
   "cell_type": "markdown",
   "metadata": {},
   "source": [
    "### Object Oriented Programming in Python"
   ]
  },
  {
   "cell_type": "markdown",
   "metadata": {},
   "source": [
    "#### Exercise 1: "
   ]
  },
  {
   "cell_type": "code",
   "execution_count": 74,
   "metadata": {
    "collapsed": false
   },
   "outputs": [
    {
     "data": {
      "text/plain": [
       "0.03"
      ]
     },
     "execution_count": 74,
     "metadata": {},
     "output_type": "execute_result"
    }
   ],
   "source": [
    "class Account(object):\n",
    "    interest = 0.02\n",
    "    def __init__(self, account_holder):\n",
    "        self.balance = 0\n",
    "        self.holder = account_holder\n",
    "    def deposit(self, amount):\n",
    "        self.balance = self.balance + amount\n",
    "        print(\"Yes!\")\n",
    "\n",
    "a = Account(\"Billy\")\n",
    "Account.interest= 0.03\n",
    "a.interest"
   ]
  },
  {
   "cell_type": "code",
   "execution_count": 79,
   "metadata": {
    "collapsed": false
   },
   "outputs": [
    {
     "name": "stdout",
     "output_type": "stream",
     "text": [
      "Yes!\n"
     ]
    },
    {
     "data": {
      "text/plain": [
       "1000"
      ]
     },
     "execution_count": 79,
     "metadata": {},
     "output_type": "execute_result"
    }
   ],
   "source": [
    "# Before compiling the following code snippets, write down what\n",
    "# each individual call will return in an inline comment. \n",
    "# If you think it returns an error, why would it be the case. \n",
    " \n",
    "\n",
    "class Account(object):\n",
    "    interest = 0.02\n",
    "    def __init__(self, account_holder):\n",
    "        self.balance = 0\n",
    "        self.holder = account_holder\n",
    "    def deposit(self, amount):\n",
    "        self.balance = self.balance + amount\n",
    "        print(\"Yes!\")\n",
    "\n",
    "# nothing since you are just instantiating a class and assigning it\n",
    "a = Account(\"Billy\")  \n",
    "\n",
    "# will return an error since the instance attribute is called holder and not account holder\n",
    "a.account_holder \n",
    "\n",
    "# will return an error since holder attribute must be initialized with a class instantiation\n",
    "Account.holder \n",
    "\n",
    "# 0.02 since interest is a class attribute for the Account class  \n",
    "Account.interest\n",
    "\n",
    "# 0.02 \n",
    "a.interest\n",
    "\n",
    "# 0.03 since the class attribute has changed \n",
    "Account.interest = 0.03 \n",
    "a.interest  \n",
    "\n",
    "# will print yes \n",
    "a.deposit(1000) \n",
    "\n",
    "# 1000\n",
    "a.balance  "
   ]
  },
  {
   "cell_type": "markdown",
   "metadata": {},
   "source": [
    "#### Exercise 2: Timed Key Value Store \n",
    "\n",
    "At a high-level, we'll be building a key-value store (think Dictionary or HashMap) that has a get method that takes an optional second parameter as a time object in Python to return the most recent value before that period in time. If no key-value pair was added to the map before that period in time, return None.\n",
    "\n",
    "For consistency’s sake, let’s call this class TimedKVStore and put it into a file called kv_store.py\n",
    "\n",
    "You’ll need some sort of time object to track when key-value pairs are getting added to this map. Consider using the time module from Python Docs\n",
    "\n",
    "To give you an idea of how this class works, this is what should happen after you implement TimedKVStore.\n",
    "\n"
   ]
  },
  {
   "cell_type": "code",
   "execution_count": 83,
   "metadata": {
    "collapsed": true
   },
   "outputs": [],
   "source": [
    "class TimedKVStore(object):\n",
    "    def __init__(self):\n",
    "        self.hash_map = {}\n",
    "    \n",
    "    def get(self, key, time=None):\n",
    "        if time:\n",
    "            for value in self.hash_map[key]:\n",
    "                v, t = value\n",
    "                if t <= time:\n",
    "                    return v\n",
    "            return None\n",
    "        else:\n",
    "            return self.hash_map[key][-1][0]\n",
    "    \n",
    "    def put(self, key, value):\n",
    "        if key not in self.hash_map:\n",
    "            self.hash_map[key] = [(value, time.time())]\n",
    "        else:\n",
    "            self.hash_map[key].append((value, time.time()))"
   ]
  },
  {
   "cell_type": "code",
   "execution_count": 84,
   "metadata": {
    "collapsed": false
   },
   "outputs": [
    {
     "name": "stdout",
     "output_type": "stream",
     "text": [
      "1.1\n",
      "1\n",
      "None\n"
     ]
    }
   ],
   "source": [
    "d = TimedKVStore()\n",
    "\n",
    "t0 = time.time()\n",
    "d.put(\"1\", 1)\n",
    "\n",
    "t1 = time.time()\n",
    "d.put(\"1\", 1.1)\n",
    "\n",
    "print d.get(\"1\")\n",
    "#Output : 1.1\n",
    "        \n",
    "print d.get(\"1\", t1)\n",
    "#Output : 1\n",
    "    \n",
    "print d.get(\"1\", t0)\n",
    "#Output : None"
   ]
  },
  {
   "cell_type": "markdown",
   "metadata": {
    "collapsed": true
   },
   "source": [
    "#### Exercise 3 : \n",
    "For this problem you will be creating a class and apply OOP priciples to it. The problem is divided into two parts.\n",
    "\n",
    "#### 1. PART 1: \n",
    "* Define a Rocket() class.\n",
    "* Define the __init__() method. Let your __init__() method accept x and y values for the initial position of the rocket. Make sure the default behavior is to position the rocket at (0,0).\n",
    "* Define the move_rocket() method. The method should accept an amount to move (x,y)\n",
    "* Create a Rocket object. Move the rocket around, printing its position after each move.\n",
    "* Create a small fleet of rockets. Move several of them around, and print their final positions to prove that each rocket can move independently of the other rockets.\n",
    "* Define the get_distance() method. The method should accept a Rocket object, and calculate the distance between the current rocket and the rocket that is passed into the method.\n",
    "* Use the get_distance() method to print the distances between several of the rockets in your fleet.\n",
    "\n",
    "#### 2. PART 2 : Applying Inheritance\n",
    "* Define a class SpaceShuttle() which extends class Rocket()\n",
    "* Add more attributes that are particular to space shuttles such as maximum number of flights, capability of supporting spacewalks, and capability of docking with the ISS.\n",
    "* Add a method to the class, that relates to shuttle behavior. This method could simply print a statement, such as \"Docking with the ISS,\" for a dock_ISS() method.\n",
    "* Create a Shuttle object with these attributes, and then call your new method.\n",
    "\n",
    "Hints/Notes :\n",
    "* You can use the Euclidean distance to calculate the distances between different Rocket objects\n",
    "\n",
    "    - Euclidean distance((x, y), (a, b)) = √(x - a)² + (y - b)²\n",
    "\n"
   ]
  },
  {
   "cell_type": "code",
   "execution_count": 119,
   "metadata": {
    "collapsed": true
   },
   "outputs": [],
   "source": [
    "#Write code here \n",
    "class Rocket(object):\n",
    "    def __init__(self, x0=0, y0=0):\n",
    "        self.x = x0\n",
    "        self.y = y0\n",
    "\n",
    "    def move_rocket(self, x_shift, y_shift):\n",
    "        self.x = self.x + x_shift\n",
    "        self.y = self.y + y_shift\n",
    "\n",
    "    def get_distance(self, new_rocket):\n",
    "        distance = (self.x - new_rocket.x) ** 2 + (self.y - new_rocket.y) ** 2\n",
    "        return distance ** .5\n",
    "\n",
    "\n",
    "class SpaceShuttle(Rocket):\n",
    "    def __init__(self, max_flights, x0=0, y0=0, spacewalks=True, docking=True):\n",
    "        super(SpaceShuttle, self).__init__(x0, y0)\n",
    "        # Rocket.__init__(self, x0, y0) -- an alternative to super\n",
    "        self.max_flights = max_flights\n",
    "        self.spacewalks = spacewalks\n",
    "        self.docking = docking\n",
    "\n",
    "    def dock_ISS(self):\n",
    "        if self.docking:\n",
    "            print \"Docking with ISS\"\n",
    "        else:\n",
    "            print \"Can't dock with ISS\""
   ]
  },
  {
   "cell_type": "code",
   "execution_count": 120,
   "metadata": {
    "collapsed": false
   },
   "outputs": [
    {
     "data": {
      "text/plain": [
       "13.152946437965905"
      ]
     },
     "execution_count": 120,
     "metadata": {},
     "output_type": "execute_result"
    }
   ],
   "source": [
    "first_rocket = Rocket(1, 1)\n",
    "second_rocket = Rocket(4, 11)\n",
    "second_rocket.move_rocket(-1, 3)\n",
    "second_rocket.get_distance(first_rocket)"
   ]
  },
  {
   "cell_type": "code",
   "execution_count": 121,
   "metadata": {
    "collapsed": false
   },
   "outputs": [
    {
     "name": "stdout",
     "output_type": "stream",
     "text": [
      "Docking with ISS\n"
     ]
    },
    {
     "data": {
      "text/plain": [
       "11"
      ]
     },
     "execution_count": 121,
     "metadata": {},
     "output_type": "execute_result"
    }
   ],
   "source": [
    "shuttle = SpaceShuttle(10, x0=11, y0=12)\n",
    "shuttle.dock_ISS()\n",
    "shuttle.x"
   ]
  },
  {
   "cell_type": "markdown",
   "metadata": {},
   "source": [
    "### Linear Algebra Review\n",
    "\n",
    "Exercise: Read through and review [Stanford's Linear Algebra Review](http://cs229.stanford.edu/section/cs229-linalg.pdf) \n",
    "\n",
    "\n",
    "Exercise : Go through videos : \n",
    "[Chapter 7 ,Chapter 9 , Chapter 10 , Chapter 11](https://www.youtube.com/playlist?list=PLZHQObOWTQDPD3MizzM2xVFitgF8hE_ab) and try to derive the algorithmic complexity of each vector and matrix operation. \n"
   ]
  },
  {
   "cell_type": "markdown",
   "metadata": {
    "collapsed": true
   },
   "source": [
    "** Checkout: ** <a href=https://en.wikipedia.org/wiki/Computational_complexity_of_mathematical_operations#Matrix_algebra> Guide for Understanding Matrix Computation </a>"
   ]
  }
 ],
 "metadata": {
  "anaconda-cloud": {},
  "kernelspec": {
   "display_name": "Python 2",
   "language": "python",
   "name": "python2"
  },
  "language_info": {
   "codemirror_mode": {
    "name": "ipython",
    "version": 2
   },
   "file_extension": ".py",
   "mimetype": "text/x-python",
   "name": "python",
   "nbconvert_exporter": "python",
   "pygments_lexer": "ipython2",
   "version": "2.7.13"
  }
 },
 "nbformat": 4,
 "nbformat_minor": 1
}
