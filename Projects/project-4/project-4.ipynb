{
 "cells": [
  {
   "cell_type": "markdown",
   "metadata": {},
   "source": [
    "<img src=\"http://imgur.com/1ZcRyrc.png\" style=\"float: left; margin: 15px; height: 80px\">\n",
    "\n",
    "# Project 4: Classification with Yelp, SGD, OOP"
   ]
  },
  {
   "cell_type": "markdown",
   "metadata": {},
   "source": [
    "## Yelp\n",
    "\n",
    "---\n",
    "\n",
    "In this project you will be investigating a small version of the [Yelp challenge dataset](https://www.yelp.com/dataset_challenge). You'll practice using classification algorithms, cross-validation, gridsearching – all that good stuff.\n",
    "\n",
    "---\n",
    "\n",
    "### The data\n",
    "\n",
    "There are 5 individual .csv files that have the information, zipped into .7z format like with the SF data last project. The dataset is located in your datasets folder:\n",
    "\n",
    "    DSI-SF-5/datasets/yelp_arizona_data.7z\n",
    "\n",
    "The columns in each are:\n",
    "\n",
    "    businesses_small_parsed.csv\n",
    "        business_id: unique business identifier\n",
    "        name: name of the business\n",
    "        review_count: number of reviews per business\n",
    "        city: city business resides in\n",
    "        stars: average rating\n",
    "        categories: categories the business falls into (can be one or multiple)\n",
    "        latitude\n",
    "        longitude\n",
    "        neighborhoods: neighborhoods business belongs to\n",
    "        variable: \"property\" of the business (a tag)\n",
    "        value: True/False for the property\n",
    "        \n",
    "    reviews_small_nlp_parsed.csv\n",
    "        user_id: unique user identifier\n",
    "        review_id: unique review identifier\n",
    "        votes.cool: how many thought the review was \"cool\"\n",
    "        business_id: unique business id the review is for\n",
    "        votes.funny: how many thought the review was funny\n",
    "        stars: rating given\n",
    "        date: date of review\n",
    "        votes.useful: how many thought the review was useful\n",
    "        ... 100 columns of counts of most common 2 word phrases that appear in reviews in this review\n",
    "        \n",
    "    users_small_parsed.csv\n",
    "        yelping_since: signup date\n",
    "        compliments.plain: # of compliments \"plain\"\n",
    "        review_count: # of reviews:\n",
    "        compliments.cute: total # of compliments \"cute\"\n",
    "        compliments.writer: # of compliments \"writer\"\n",
    "        compliments.note: # of compliments \"note\" (not sure what this is)\n",
    "        compliments.hot: # of compliments \"hot\" (?)\n",
    "        compliments.cool: # of compliments \"cool\"\n",
    "        compliments.profile: # of compliments \"profile\"\n",
    "        average_stars: average rating\n",
    "        compliments.more: # of compliments \"more\"\n",
    "        elite: years considered \"elite\"\n",
    "        name: user's name\n",
    "        user_id: unique user id\n",
    "        votes.cool: # of votes \"cool\"\n",
    "        compliments.list: # of compliments \"list\"\n",
    "        votes.funny: # of compliments \"funny\"\n",
    "        compliments.photos: # of compliments \"photos\"\n",
    "        compliments.funny: # of compliments \"funny\"\n",
    "        votes.useful: # of votes \"useful\"\n",
    "       \n",
    "    checkins_small_parsed.csv\n",
    "        business_id: unique business identifier\n",
    "        variable: day-time identifier of checkins (0-0 is Sunday 0:00 - 1:00am,  for example)\n",
    "        value: # of checkins at that time\n",
    "    \n",
    "    tips_small_nlp_parsed.csv\n",
    "        user_id: unique user identifier\n",
    "        business_id: unique business identifier\n",
    "        likes: likes that the tip has\n",
    "        date: date of tip\n",
    "        ... 100 columns of counts of most common 2 word phrases that appear in tips in this tip\n",
    "\n",
    "The reviews and tips datasets in particular have parsed \"NLP\" columns with counts of 2-word phrases in that review or tip (a \"tip\", it seems, is some kind of smaller review).\n",
    "\n",
    "The user dataset has a lot of columns of counts of different compliments and votes. I'm not sure whether the compliments or votes are _by_ the user or _for_ the user.\n",
    "\n",
    "---\n",
    "\n",
    "If you look at the website, or the full data, you'll see I have removed pieces of the data and cut it down quite a bit. This is to simplify it for this project. Specifically, business are limited to be in these cities:\n",
    "\n",
    "    Phoenix\n",
    "    Surprise\n",
    "    Las Vegas\n",
    "    Waterloo\n",
    "\n",
    "Apparently there is a city called \"Surprise\" in Arizona. \n",
    "\n",
    "Businesses are also restricted to at least be in one of the following categories, because I thought the mix of them was funny:\n",
    "\n",
    "    Airports\n",
    "    Breakfast & Brunch\n",
    "    Bubble Tea\n",
    "    Burgers\n",
    "    Bars\n",
    "    Bakeries\n",
    "    Breweries\n",
    "    Cafes\n",
    "    Candy Stores\n",
    "    Comedy Clubs\n",
    "    Courthouses\n",
    "    Dance Clubs\n",
    "    Fast Food\n",
    "    Museums\n",
    "    Tattoo\n",
    "    Vape Shops\n",
    "    Yoga\n",
    "    \n",
    "---\n",
    "\n",
    "### Project requirements\n",
    "\n",
    "**You will be performing 4 different sections of analysis, like in the last project.**\n",
    "\n",
    "Remember that classification targets are categorical and regression targets are continuous variables."
   ]
  },
  {
   "cell_type": "code",
   "execution_count": 57,
   "metadata": {
    "collapsed": true
   },
   "outputs": [],
   "source": [
    "import matplotlib.pyplot as plt\n",
    "import numpy as np\n",
    "import pandas as pd\n",
    "import seaborn as sns\n",
    "import scipy.stats as stats\n",
    "\n",
    "from sklearn.tree import DecisionTreeClassifier\n",
    "from sklearn.model_selection import cross_val_score, train_test_split, GridSearchCV\n",
    "from sklearn.ensemble import RandomForestClassifier, ExtraTreesClassifier\n",
    "from sklearn.linear_model import LogisticRegression\n",
    "from sklearn.metrics import classification_report, confusion_matrix, roc_curve, auc\n",
    "\n",
    "plt.style.use('fivethirtyeight')\n",
    "\n",
    "from ipywidgets import *\n",
    "from IPython.display import display\n",
    "\n",
    "%matplotlib inline\n",
    "%config InlineBackend.figure_format = 'retina'"
   ]
  },
  {
   "cell_type": "code",
   "execution_count": 2,
   "metadata": {
    "collapsed": false
   },
   "outputs": [],
   "source": [
    "business = pd.read_csv('../../datasets/yelp_arizona_data/businesses_small_parsed.csv')\n",
    "checkins = pd.read_csv('../../datasets/yelp_arizona_data/checkins_small_parsed.csv')\n",
    "reviews = pd.read_csv('../../datasets/yelp_arizona_data/reviews_small_nlp_parsed.csv')\n",
    "tips = pd.read_csv('../../datasets/yelp_arizona_data/tips_small_nlp_parsed.csv')\n",
    "users = pd.read_csv('../../datasets/yelp_arizona_data/users_small_parsed.csv')"
   ]
  },
  {
   "cell_type": "code",
   "execution_count": 3,
   "metadata": {
    "collapsed": false
   },
   "outputs": [
    {
     "name": "stdout",
     "output_type": "stream",
     "text": [
      "(152832, 11)\n",
      "Index([u'business_id', u'name', u'review_count', u'city', u'stars',\n",
      "       u'categories', u'latitude', u'longitude', u'neighborhoods', u'variable',\n",
      "       u'value'],\n",
      "      dtype='object')\n"
     ]
    },
    {
     "data": {
      "text/html": [
       "<div>\n",
       "<table border=\"1\" class=\"dataframe\">\n",
       "  <thead>\n",
       "    <tr style=\"text-align: right;\">\n",
       "      <th></th>\n",
       "      <th>business_id</th>\n",
       "      <th>name</th>\n",
       "      <th>review_count</th>\n",
       "      <th>city</th>\n",
       "      <th>stars</th>\n",
       "      <th>categories</th>\n",
       "      <th>latitude</th>\n",
       "      <th>longitude</th>\n",
       "      <th>neighborhoods</th>\n",
       "      <th>variable</th>\n",
       "      <th>value</th>\n",
       "    </tr>\n",
       "  </thead>\n",
       "  <tbody>\n",
       "    <tr>\n",
       "      <th>0</th>\n",
       "      <td>EmzaQR5hQlF0WIl24NxAZA</td>\n",
       "      <td>Sky Lounge</td>\n",
       "      <td>25</td>\n",
       "      <td>Phoenix</td>\n",
       "      <td>2.5</td>\n",
       "      <td>['American (New)', 'Nightlife', 'Dance Clubs',...</td>\n",
       "      <td>33.448399</td>\n",
       "      <td>-112.071702</td>\n",
       "      <td>[]</td>\n",
       "      <td>attributes.Ambience.divey</td>\n",
       "      <td>False</td>\n",
       "    </tr>\n",
       "  </tbody>\n",
       "</table>\n",
       "</div>"
      ],
      "text/plain": [
       "              business_id        name  review_count     city  stars  \\\n",
       "0  EmzaQR5hQlF0WIl24NxAZA  Sky Lounge            25  Phoenix    2.5   \n",
       "\n",
       "                                          categories   latitude   longitude  \\\n",
       "0  ['American (New)', 'Nightlife', 'Dance Clubs',...  33.448399 -112.071702   \n",
       "\n",
       "  neighborhoods                   variable  value  \n",
       "0            []  attributes.Ambience.divey  False  "
      ]
     },
     "execution_count": 3,
     "metadata": {},
     "output_type": "execute_result"
    }
   ],
   "source": [
    "print business.shape\n",
    "print business.columns\n",
    "\n",
    "business.head(1)"
   ]
  },
  {
   "cell_type": "code",
   "execution_count": 4,
   "metadata": {
    "collapsed": false
   },
   "outputs": [],
   "source": [
    "categories = business.categories.apply(eval)\n",
    "business_copy = business.copy()\n",
    "business_copy['categories'] = categories\n",
    "#unique_categories = set(list(itertools.chain(*categories.tolist())))"
   ]
  },
  {
   "cell_type": "code",
   "execution_count": 5,
   "metadata": {
    "collapsed": false
   },
   "outputs": [],
   "source": [
    "#simplified list of categories\n",
    "given_cats = ['Airports', 'Breakfast & Brunch', 'Bubble Tea', 'Burgers', 'Bars', 'Bakeries', 'Breweries',\n",
    "             'Cafes', 'Candy Stores', 'Comedy Clubs', 'Courthouses', 'Dance Clubs', 'Fast Food', \n",
    "             'Museums', 'Tattoo', 'Vape Shops', 'Yoga']\n",
    "    \n",
    "for cat in given_cats:\n",
    "    business_copy[cat] = business_copy['categories'].apply(lambda x: cat in x)"
   ]
  },
  {
   "cell_type": "code",
   "execution_count": 6,
   "metadata": {
    "collapsed": false,
    "scrolled": true
   },
   "outputs": [
    {
     "data": {
      "text/html": [
       "<div>\n",
       "<table border=\"1\" class=\"dataframe\">\n",
       "  <thead>\n",
       "    <tr style=\"text-align: right;\">\n",
       "      <th></th>\n",
       "      <th>business_id</th>\n",
       "      <th>name</th>\n",
       "      <th>review_count</th>\n",
       "      <th>city</th>\n",
       "      <th>stars</th>\n",
       "      <th>categories</th>\n",
       "      <th>latitude</th>\n",
       "      <th>longitude</th>\n",
       "      <th>neighborhoods</th>\n",
       "      <th>variable</th>\n",
       "      <th>...</th>\n",
       "      <th>Cafes</th>\n",
       "      <th>Candy Stores</th>\n",
       "      <th>Comedy Clubs</th>\n",
       "      <th>Courthouses</th>\n",
       "      <th>Dance Clubs</th>\n",
       "      <th>Fast Food</th>\n",
       "      <th>Museums</th>\n",
       "      <th>Tattoo</th>\n",
       "      <th>Vape Shops</th>\n",
       "      <th>Yoga</th>\n",
       "    </tr>\n",
       "  </thead>\n",
       "  <tbody>\n",
       "    <tr>\n",
       "      <th>0</th>\n",
       "      <td>EmzaQR5hQlF0WIl24NxAZA</td>\n",
       "      <td>Sky Lounge</td>\n",
       "      <td>25</td>\n",
       "      <td>Phoenix</td>\n",
       "      <td>2.5</td>\n",
       "      <td>[American (New), Nightlife, Dance Clubs, Resta...</td>\n",
       "      <td>33.448399</td>\n",
       "      <td>-112.071702</td>\n",
       "      <td>[]</td>\n",
       "      <td>attributes.Ambience.divey</td>\n",
       "      <td>...</td>\n",
       "      <td>False</td>\n",
       "      <td>False</td>\n",
       "      <td>False</td>\n",
       "      <td>False</td>\n",
       "      <td>True</td>\n",
       "      <td>False</td>\n",
       "      <td>False</td>\n",
       "      <td>False</td>\n",
       "      <td>False</td>\n",
       "      <td>False</td>\n",
       "    </tr>\n",
       "  </tbody>\n",
       "</table>\n",
       "<p>1 rows × 28 columns</p>\n",
       "</div>"
      ],
      "text/plain": [
       "              business_id        name  review_count     city  stars  \\\n",
       "0  EmzaQR5hQlF0WIl24NxAZA  Sky Lounge            25  Phoenix    2.5   \n",
       "\n",
       "                                          categories   latitude   longitude  \\\n",
       "0  [American (New), Nightlife, Dance Clubs, Resta...  33.448399 -112.071702   \n",
       "\n",
       "  neighborhoods                   variable  ...    Cafes Candy Stores  \\\n",
       "0            []  attributes.Ambience.divey  ...    False        False   \n",
       "\n",
       "  Comedy Clubs Courthouses Dance Clubs Fast Food Museums Tattoo Vape Shops  \\\n",
       "0        False       False        True     False   False  False      False   \n",
       "\n",
       "    Yoga  \n",
       "0  False  \n",
       "\n",
       "[1 rows x 28 columns]"
      ]
     },
     "execution_count": 6,
     "metadata": {},
     "output_type": "execute_result"
    }
   ],
   "source": [
    "business_copy.head(1)"
   ]
  },
  {
   "cell_type": "code",
   "execution_count": 7,
   "metadata": {
    "collapsed": false
   },
   "outputs": [
    {
     "name": "stdout",
     "output_type": "stream",
     "text": [
      "(101991, 104) Index([u'user_id', u'business_id', u'likes', u'date', u'24 hours',\n",
      "       u'amazing food', u'animal style', u'awesome food', u'awesome place',\n",
      "       u'awesome service',\n",
      "       ...\n",
      "       u'service good', u'service great', u'slow service', u'staff friendly',\n",
      "       u'staff great', u'steak eggs', u'super friendly', u'sweet potato',\n",
      "       u'velvet pancakes', u'worth wait'],\n",
      "      dtype='object', length=104)\n"
     ]
    },
    {
     "data": {
      "text/html": [
       "<div>\n",
       "<table border=\"1\" class=\"dataframe\">\n",
       "  <thead>\n",
       "    <tr style=\"text-align: right;\">\n",
       "      <th></th>\n",
       "      <th>likes</th>\n",
       "      <th>24 hours</th>\n",
       "      <th>amazing food</th>\n",
       "      <th>animal style</th>\n",
       "      <th>awesome food</th>\n",
       "      <th>awesome place</th>\n",
       "      <th>awesome service</th>\n",
       "      <th>beef hash</th>\n",
       "      <th>beer selection</th>\n",
       "      <th>best breakfast</th>\n",
       "      <th>...</th>\n",
       "      <th>service good</th>\n",
       "      <th>service great</th>\n",
       "      <th>slow service</th>\n",
       "      <th>staff friendly</th>\n",
       "      <th>staff great</th>\n",
       "      <th>steak eggs</th>\n",
       "      <th>super friendly</th>\n",
       "      <th>sweet potato</th>\n",
       "      <th>velvet pancakes</th>\n",
       "      <th>worth wait</th>\n",
       "    </tr>\n",
       "  </thead>\n",
       "  <tbody>\n",
       "    <tr>\n",
       "      <th>count</th>\n",
       "      <td>101991.000000</td>\n",
       "      <td>101991.000000</td>\n",
       "      <td>101991.000000</td>\n",
       "      <td>101991.000000</td>\n",
       "      <td>101991.000000</td>\n",
       "      <td>101991.000000</td>\n",
       "      <td>101991.000000</td>\n",
       "      <td>101991.000000</td>\n",
       "      <td>101991.000000</td>\n",
       "      <td>101991.000000</td>\n",
       "      <td>...</td>\n",
       "      <td>101991.000000</td>\n",
       "      <td>101991.000000</td>\n",
       "      <td>101991.000000</td>\n",
       "      <td>101991.000000</td>\n",
       "      <td>101991.000000</td>\n",
       "      <td>101991.000000</td>\n",
       "      <td>101991.000000</td>\n",
       "      <td>101991.000000</td>\n",
       "      <td>101991.000000</td>\n",
       "      <td>101991.000000</td>\n",
       "    </tr>\n",
       "    <tr>\n",
       "      <th>mean</th>\n",
       "      <td>0.015403</td>\n",
       "      <td>0.001481</td>\n",
       "      <td>0.002432</td>\n",
       "      <td>0.002128</td>\n",
       "      <td>0.002226</td>\n",
       "      <td>0.001304</td>\n",
       "      <td>0.001245</td>\n",
       "      <td>0.001245</td>\n",
       "      <td>0.002216</td>\n",
       "      <td>0.002275</td>\n",
       "      <td>...</td>\n",
       "      <td>0.002373</td>\n",
       "      <td>0.004167</td>\n",
       "      <td>0.001883</td>\n",
       "      <td>0.001549</td>\n",
       "      <td>0.001441</td>\n",
       "      <td>0.001500</td>\n",
       "      <td>0.001471</td>\n",
       "      <td>0.002549</td>\n",
       "      <td>0.002039</td>\n",
       "      <td>0.001784</td>\n",
       "    </tr>\n",
       "    <tr>\n",
       "      <th>std</th>\n",
       "      <td>0.137377</td>\n",
       "      <td>0.038449</td>\n",
       "      <td>0.049251</td>\n",
       "      <td>0.047544</td>\n",
       "      <td>0.047332</td>\n",
       "      <td>0.036088</td>\n",
       "      <td>0.035266</td>\n",
       "      <td>0.035543</td>\n",
       "      <td>0.047229</td>\n",
       "      <td>0.047640</td>\n",
       "      <td>...</td>\n",
       "      <td>0.048854</td>\n",
       "      <td>0.064570</td>\n",
       "      <td>0.043347</td>\n",
       "      <td>0.039329</td>\n",
       "      <td>0.037937</td>\n",
       "      <td>0.039206</td>\n",
       "      <td>0.038322</td>\n",
       "      <td>0.050620</td>\n",
       "      <td>0.045114</td>\n",
       "      <td>0.042206</td>\n",
       "    </tr>\n",
       "    <tr>\n",
       "      <th>min</th>\n",
       "      <td>0.000000</td>\n",
       "      <td>0.000000</td>\n",
       "      <td>0.000000</td>\n",
       "      <td>0.000000</td>\n",
       "      <td>0.000000</td>\n",
       "      <td>0.000000</td>\n",
       "      <td>0.000000</td>\n",
       "      <td>0.000000</td>\n",
       "      <td>0.000000</td>\n",
       "      <td>0.000000</td>\n",
       "      <td>...</td>\n",
       "      <td>0.000000</td>\n",
       "      <td>0.000000</td>\n",
       "      <td>0.000000</td>\n",
       "      <td>0.000000</td>\n",
       "      <td>0.000000</td>\n",
       "      <td>0.000000</td>\n",
       "      <td>0.000000</td>\n",
       "      <td>0.000000</td>\n",
       "      <td>0.000000</td>\n",
       "      <td>0.000000</td>\n",
       "    </tr>\n",
       "    <tr>\n",
       "      <th>25%</th>\n",
       "      <td>0.000000</td>\n",
       "      <td>0.000000</td>\n",
       "      <td>0.000000</td>\n",
       "      <td>0.000000</td>\n",
       "      <td>0.000000</td>\n",
       "      <td>0.000000</td>\n",
       "      <td>0.000000</td>\n",
       "      <td>0.000000</td>\n",
       "      <td>0.000000</td>\n",
       "      <td>0.000000</td>\n",
       "      <td>...</td>\n",
       "      <td>0.000000</td>\n",
       "      <td>0.000000</td>\n",
       "      <td>0.000000</td>\n",
       "      <td>0.000000</td>\n",
       "      <td>0.000000</td>\n",
       "      <td>0.000000</td>\n",
       "      <td>0.000000</td>\n",
       "      <td>0.000000</td>\n",
       "      <td>0.000000</td>\n",
       "      <td>0.000000</td>\n",
       "    </tr>\n",
       "    <tr>\n",
       "      <th>50%</th>\n",
       "      <td>0.000000</td>\n",
       "      <td>0.000000</td>\n",
       "      <td>0.000000</td>\n",
       "      <td>0.000000</td>\n",
       "      <td>0.000000</td>\n",
       "      <td>0.000000</td>\n",
       "      <td>0.000000</td>\n",
       "      <td>0.000000</td>\n",
       "      <td>0.000000</td>\n",
       "      <td>0.000000</td>\n",
       "      <td>...</td>\n",
       "      <td>0.000000</td>\n",
       "      <td>0.000000</td>\n",
       "      <td>0.000000</td>\n",
       "      <td>0.000000</td>\n",
       "      <td>0.000000</td>\n",
       "      <td>0.000000</td>\n",
       "      <td>0.000000</td>\n",
       "      <td>0.000000</td>\n",
       "      <td>0.000000</td>\n",
       "      <td>0.000000</td>\n",
       "    </tr>\n",
       "    <tr>\n",
       "      <th>75%</th>\n",
       "      <td>0.000000</td>\n",
       "      <td>0.000000</td>\n",
       "      <td>0.000000</td>\n",
       "      <td>0.000000</td>\n",
       "      <td>0.000000</td>\n",
       "      <td>0.000000</td>\n",
       "      <td>0.000000</td>\n",
       "      <td>0.000000</td>\n",
       "      <td>0.000000</td>\n",
       "      <td>0.000000</td>\n",
       "      <td>...</td>\n",
       "      <td>0.000000</td>\n",
       "      <td>0.000000</td>\n",
       "      <td>0.000000</td>\n",
       "      <td>0.000000</td>\n",
       "      <td>0.000000</td>\n",
       "      <td>0.000000</td>\n",
       "      <td>0.000000</td>\n",
       "      <td>0.000000</td>\n",
       "      <td>0.000000</td>\n",
       "      <td>0.000000</td>\n",
       "    </tr>\n",
       "    <tr>\n",
       "      <th>max</th>\n",
       "      <td>9.000000</td>\n",
       "      <td>1.000000</td>\n",
       "      <td>1.000000</td>\n",
       "      <td>2.000000</td>\n",
       "      <td>2.000000</td>\n",
       "      <td>1.000000</td>\n",
       "      <td>1.000000</td>\n",
       "      <td>2.000000</td>\n",
       "      <td>2.000000</td>\n",
       "      <td>1.000000</td>\n",
       "      <td>...</td>\n",
       "      <td>2.000000</td>\n",
       "      <td>2.000000</td>\n",
       "      <td>1.000000</td>\n",
       "      <td>1.000000</td>\n",
       "      <td>1.000000</td>\n",
       "      <td>2.000000</td>\n",
       "      <td>1.000000</td>\n",
       "      <td>2.000000</td>\n",
       "      <td>1.000000</td>\n",
       "      <td>1.000000</td>\n",
       "    </tr>\n",
       "  </tbody>\n",
       "</table>\n",
       "<p>8 rows × 101 columns</p>\n",
       "</div>"
      ],
      "text/plain": [
       "               likes       24 hours   amazing food   animal style  \\\n",
       "count  101991.000000  101991.000000  101991.000000  101991.000000   \n",
       "mean        0.015403       0.001481       0.002432       0.002128   \n",
       "std         0.137377       0.038449       0.049251       0.047544   \n",
       "min         0.000000       0.000000       0.000000       0.000000   \n",
       "25%         0.000000       0.000000       0.000000       0.000000   \n",
       "50%         0.000000       0.000000       0.000000       0.000000   \n",
       "75%         0.000000       0.000000       0.000000       0.000000   \n",
       "max         9.000000       1.000000       1.000000       2.000000   \n",
       "\n",
       "        awesome food  awesome place  awesome service      beef hash  \\\n",
       "count  101991.000000  101991.000000    101991.000000  101991.000000   \n",
       "mean        0.002226       0.001304         0.001245       0.001245   \n",
       "std         0.047332       0.036088         0.035266       0.035543   \n",
       "min         0.000000       0.000000         0.000000       0.000000   \n",
       "25%         0.000000       0.000000         0.000000       0.000000   \n",
       "50%         0.000000       0.000000         0.000000       0.000000   \n",
       "75%         0.000000       0.000000         0.000000       0.000000   \n",
       "max         2.000000       1.000000         1.000000       2.000000   \n",
       "\n",
       "       beer selection  best breakfast      ...         service good  \\\n",
       "count   101991.000000   101991.000000      ...        101991.000000   \n",
       "mean         0.002216        0.002275      ...             0.002373   \n",
       "std          0.047229        0.047640      ...             0.048854   \n",
       "min          0.000000        0.000000      ...             0.000000   \n",
       "25%          0.000000        0.000000      ...             0.000000   \n",
       "50%          0.000000        0.000000      ...             0.000000   \n",
       "75%          0.000000        0.000000      ...             0.000000   \n",
       "max          2.000000        1.000000      ...             2.000000   \n",
       "\n",
       "       service great   slow service  staff friendly    staff great  \\\n",
       "count  101991.000000  101991.000000   101991.000000  101991.000000   \n",
       "mean        0.004167       0.001883        0.001549       0.001441   \n",
       "std         0.064570       0.043347        0.039329       0.037937   \n",
       "min         0.000000       0.000000        0.000000       0.000000   \n",
       "25%         0.000000       0.000000        0.000000       0.000000   \n",
       "50%         0.000000       0.000000        0.000000       0.000000   \n",
       "75%         0.000000       0.000000        0.000000       0.000000   \n",
       "max         2.000000       1.000000        1.000000       1.000000   \n",
       "\n",
       "          steak eggs  super friendly   sweet potato  velvet pancakes  \\\n",
       "count  101991.000000   101991.000000  101991.000000    101991.000000   \n",
       "mean        0.001500        0.001471       0.002549         0.002039   \n",
       "std         0.039206        0.038322       0.050620         0.045114   \n",
       "min         0.000000        0.000000       0.000000         0.000000   \n",
       "25%         0.000000        0.000000       0.000000         0.000000   \n",
       "50%         0.000000        0.000000       0.000000         0.000000   \n",
       "75%         0.000000        0.000000       0.000000         0.000000   \n",
       "max         2.000000        1.000000       2.000000         1.000000   \n",
       "\n",
       "          worth wait  \n",
       "count  101991.000000  \n",
       "mean        0.001784  \n",
       "std         0.042206  \n",
       "min         0.000000  \n",
       "25%         0.000000  \n",
       "50%         0.000000  \n",
       "75%         0.000000  \n",
       "max         1.000000  \n",
       "\n",
       "[8 rows x 101 columns]"
      ]
     },
     "execution_count": 7,
     "metadata": {},
     "output_type": "execute_result"
    }
   ],
   "source": [
    "print tips.shape, tips.columns\n",
    "tips.describe()"
   ]
  },
  {
   "cell_type": "code",
   "execution_count": 8,
   "metadata": {
    "collapsed": false
   },
   "outputs": [
    {
     "name": "stdout",
     "output_type": "stream",
     "text": [
      "Index([u'user_id', u'review_id', u'votes.cool', u'business_id', u'votes.funny',\n",
      "       u'stars', u'date', u'votes.useful', u'10 minutes', u'15 minutes',\n",
      "       ...\n",
      "       u'service great', u'staff friendly', u'super friendly', u'sweet potato',\n",
      "       u'tasted like', u'time vegas', u'try place', u've seen', u've tried',\n",
      "       u'wait staff'],\n",
      "      dtype='object', length=108) (322398, 108)\n"
     ]
    },
    {
     "data": {
      "text/html": [
       "<div>\n",
       "<table border=\"1\" class=\"dataframe\">\n",
       "  <thead>\n",
       "    <tr style=\"text-align: right;\">\n",
       "      <th></th>\n",
       "      <th>user_id</th>\n",
       "      <th>review_id</th>\n",
       "      <th>votes.cool</th>\n",
       "      <th>business_id</th>\n",
       "      <th>votes.funny</th>\n",
       "      <th>stars</th>\n",
       "      <th>date</th>\n",
       "      <th>votes.useful</th>\n",
       "      <th>10 minutes</th>\n",
       "      <th>15 minutes</th>\n",
       "      <th>...</th>\n",
       "      <th>service great</th>\n",
       "      <th>staff friendly</th>\n",
       "      <th>super friendly</th>\n",
       "      <th>sweet potato</th>\n",
       "      <th>tasted like</th>\n",
       "      <th>time vegas</th>\n",
       "      <th>try place</th>\n",
       "      <th>ve seen</th>\n",
       "      <th>ve tried</th>\n",
       "      <th>wait staff</th>\n",
       "    </tr>\n",
       "  </thead>\n",
       "  <tbody>\n",
       "    <tr>\n",
       "      <th>0</th>\n",
       "      <td>o_LCYay4uo5N4eq3U5pbrQ</td>\n",
       "      <td>biEOCicjWlibF26pNLvhcw</td>\n",
       "      <td>0</td>\n",
       "      <td>EmzaQR5hQlF0WIl24NxAZA</td>\n",
       "      <td>0</td>\n",
       "      <td>3</td>\n",
       "      <td>2007-09-14</td>\n",
       "      <td>1</td>\n",
       "      <td>0</td>\n",
       "      <td>0</td>\n",
       "      <td>...</td>\n",
       "      <td>0</td>\n",
       "      <td>0</td>\n",
       "      <td>0</td>\n",
       "      <td>0</td>\n",
       "      <td>0</td>\n",
       "      <td>0</td>\n",
       "      <td>0</td>\n",
       "      <td>0</td>\n",
       "      <td>0</td>\n",
       "      <td>0</td>\n",
       "    </tr>\n",
       "  </tbody>\n",
       "</table>\n",
       "<p>1 rows × 108 columns</p>\n",
       "</div>"
      ],
      "text/plain": [
       "                  user_id               review_id  votes.cool  \\\n",
       "0  o_LCYay4uo5N4eq3U5pbrQ  biEOCicjWlibF26pNLvhcw           0   \n",
       "\n",
       "              business_id  votes.funny  stars        date  votes.useful  \\\n",
       "0  EmzaQR5hQlF0WIl24NxAZA            0      3  2007-09-14             1   \n",
       "\n",
       "   10 minutes  15 minutes     ...      service great  staff friendly  \\\n",
       "0           0           0     ...                  0               0   \n",
       "\n",
       "   super friendly  sweet potato  tasted like  time vegas  try place  ve seen  \\\n",
       "0               0             0            0           0          0        0   \n",
       "\n",
       "   ve tried  wait staff  \n",
       "0         0           0  \n",
       "\n",
       "[1 rows x 108 columns]"
      ]
     },
     "execution_count": 8,
     "metadata": {},
     "output_type": "execute_result"
    }
   ],
   "source": [
    "print reviews.columns, reviews.shape\n",
    "reviews.head(1)"
   ]
  },
  {
   "cell_type": "code",
   "execution_count": 9,
   "metadata": {
    "collapsed": false
   },
   "outputs": [
    {
     "name": "stdout",
     "output_type": "stream",
     "text": [
      "(144206, 21) Index([u'yelping_since', u'compliments.plain', u'review_count',\n",
      "       u'compliments.cute', u'compliments.writer', u'fans',\n",
      "       u'compliments.note', u'compliments.hot', u'compliments.cool',\n",
      "       u'compliments.profile', u'average_stars', u'compliments.more', u'elite',\n",
      "       u'name', u'user_id', u'votes.cool', u'compliments.list', u'votes.funny',\n",
      "       u'compliments.photos', u'compliments.funny', u'votes.useful'],\n",
      "      dtype='object')\n"
     ]
    },
    {
     "data": {
      "text/html": [
       "<div>\n",
       "<table border=\"1\" class=\"dataframe\">\n",
       "  <thead>\n",
       "    <tr style=\"text-align: right;\">\n",
       "      <th></th>\n",
       "      <th>yelping_since</th>\n",
       "      <th>compliments.plain</th>\n",
       "      <th>review_count</th>\n",
       "      <th>compliments.cute</th>\n",
       "      <th>compliments.writer</th>\n",
       "      <th>fans</th>\n",
       "      <th>compliments.note</th>\n",
       "      <th>compliments.hot</th>\n",
       "      <th>compliments.cool</th>\n",
       "      <th>compliments.profile</th>\n",
       "      <th>...</th>\n",
       "      <th>compliments.more</th>\n",
       "      <th>elite</th>\n",
       "      <th>name</th>\n",
       "      <th>user_id</th>\n",
       "      <th>votes.cool</th>\n",
       "      <th>compliments.list</th>\n",
       "      <th>votes.funny</th>\n",
       "      <th>compliments.photos</th>\n",
       "      <th>compliments.funny</th>\n",
       "      <th>votes.useful</th>\n",
       "    </tr>\n",
       "  </thead>\n",
       "  <tbody>\n",
       "    <tr>\n",
       "      <th>0</th>\n",
       "      <td>2004-10</td>\n",
       "      <td>959.0</td>\n",
       "      <td>1274</td>\n",
       "      <td>206.0</td>\n",
       "      <td>327.0</td>\n",
       "      <td>1179</td>\n",
       "      <td>611.0</td>\n",
       "      <td>1094.0</td>\n",
       "      <td>1642.0</td>\n",
       "      <td>116.0</td>\n",
       "      <td>...</td>\n",
       "      <td>134.0</td>\n",
       "      <td>[2005, 2006, 2007, 2008, 2009, 2010, 2011, 201...</td>\n",
       "      <td>Jeremy</td>\n",
       "      <td>rpOyqD_893cqmDAtJLbdog</td>\n",
       "      <td>11093</td>\n",
       "      <td>38.0</td>\n",
       "      <td>7681</td>\n",
       "      <td>330.0</td>\n",
       "      <td>580.0</td>\n",
       "      <td>14199</td>\n",
       "    </tr>\n",
       "  </tbody>\n",
       "</table>\n",
       "<p>1 rows × 21 columns</p>\n",
       "</div>"
      ],
      "text/plain": [
       "  yelping_since  compliments.plain  review_count  compliments.cute  \\\n",
       "0       2004-10              959.0          1274             206.0   \n",
       "\n",
       "   compliments.writer  fans  compliments.note  compliments.hot  \\\n",
       "0               327.0  1179             611.0           1094.0   \n",
       "\n",
       "   compliments.cool  compliments.profile      ...       compliments.more  \\\n",
       "0            1642.0                116.0      ...                  134.0   \n",
       "\n",
       "                                               elite    name  \\\n",
       "0  [2005, 2006, 2007, 2008, 2009, 2010, 2011, 201...  Jeremy   \n",
       "\n",
       "                  user_id votes.cool  compliments.list  votes.funny  \\\n",
       "0  rpOyqD_893cqmDAtJLbdog      11093              38.0         7681   \n",
       "\n",
       "   compliments.photos  compliments.funny  votes.useful  \n",
       "0               330.0              580.0         14199  \n",
       "\n",
       "[1 rows x 21 columns]"
      ]
     },
     "execution_count": 9,
     "metadata": {},
     "output_type": "execute_result"
    }
   ],
   "source": [
    "print users.shape, users.columns\n",
    "users.head(1)"
   ]
  },
  {
   "cell_type": "code",
   "execution_count": null,
   "metadata": {
    "collapsed": true
   },
   "outputs": [],
   "source": []
  },
  {
   "cell_type": "markdown",
   "metadata": {},
   "source": [
    "<img src=\"http://imgur.com/l5NasQj.png\" style=\"float: left; margin: 25px 15px 0px 0px; height: 25px\">\n",
    "\n",
    "## 1. Constructing a \"profile\" for Las Vegas\n",
    "\n",
    "---\n",
    "\n",
    "Yelp is interested in building out what they are calling \"profiles\" for cities. They want you to start with just Las Vegas to see what a prototype of this would look like. Essentially, they want to know what makes Las Vegas distinct from the other four.\n",
    "\n",
    "Use the data you have to predict Las Vegas from the other variables you have. You should not be predicting the city from any kind of location data or other data perfectly associated with that city (or another city).\n",
    "\n",
    "You may use any classification algorithm you deem appropriate, or even multiple models. You should:\n",
    "\n",
    "1. Build at least one model predicting Las Vegas vs. the other cities.\n",
    "- Validate your model(s).\n",
    "- Interpret and visualize, in some way, the results.\n",
    "- Write up a \"profile\" for Las Vegas. This should be a writeup converting your findings from the model(s) into a human-readable description of the city."
   ]
  },
  {
   "cell_type": "code",
   "execution_count": 10,
   "metadata": {
    "collapsed": false
   },
   "outputs": [],
   "source": [
    "business_vegas = business_copy[business_copy['city'] == 'Las Vegas']\n",
    "# business_phoenix = business_copy[business_copy['city'] == 'Phoenix']\n",
    "# business_surprise = business_copy[business_copy['city'] == 'Surprise']\n",
    "# business_waterloo = business_copy[business_copy['city'] == 'Waterloo']\n",
    "business_not_vegas = business_copy[business_copy['city'] != 'Las Vegas']"
   ]
  },
  {
   "cell_type": "code",
   "execution_count": 11,
   "metadata": {
    "collapsed": false
   },
   "outputs": [
    {
     "data": {
      "text/plain": [
       "14086"
      ]
     },
     "execution_count": 11,
     "metadata": {},
     "output_type": "execute_result"
    }
   ],
   "source": [
    "business_vegas.Burgers[business_vegas['Burgers'] == True].count()"
   ]
  },
  {
   "cell_type": "code",
   "execution_count": 12,
   "metadata": {
    "collapsed": false
   },
   "outputs": [],
   "source": [
    "bvegas = (business_vegas==1).sum()\n",
    "bvegas = bvegas[11:].reset_index()\n",
    "bvegas.columns = ['Business', 'Las Vegas']\n",
    "# bphoenix = (business_phoenix==1).sum()\n",
    "# bphoenix = bphoenix[11:].reset_index()\n",
    "# bphoenix.columns = ['Business', 'Phoenix']\n",
    "# bsurprise = (business_surprise==1).sum()\n",
    "# bsurprise = bsurprise[11:].reset_index()\n",
    "# bsurprise.columns = ['Business', 'Surprise']\n",
    "# bwaterloo = (business_waterloo==1).sum()\n",
    "# bwaterloo = bwaterloo[11:].reset_index()\n",
    "# bwaterloo.columns = ['Business', 'Waterloo']\n",
    "\n",
    "\n",
    "notvegas = (business_not_vegas==1).sum()\n",
    "notvegas = notvegas[11:].reset_index()\n",
    "notvegas.columns = ['Business', 'Not Vegas']"
   ]
  },
  {
   "cell_type": "code",
   "execution_count": 13,
   "metadata": {
    "collapsed": false
   },
   "outputs": [
    {
     "data": {
      "text/html": [
       "<div>\n",
       "<table border=\"1\" class=\"dataframe\">\n",
       "  <thead>\n",
       "    <tr style=\"text-align: right;\">\n",
       "      <th></th>\n",
       "      <th>Business</th>\n",
       "      <th>Las Vegas</th>\n",
       "      <th>Not Vegas</th>\n",
       "    </tr>\n",
       "  </thead>\n",
       "  <tbody>\n",
       "    <tr>\n",
       "      <th>0</th>\n",
       "      <td>Airports</td>\n",
       "      <td>19</td>\n",
       "      <td>35</td>\n",
       "    </tr>\n",
       "    <tr>\n",
       "      <th>1</th>\n",
       "      <td>Breakfast &amp; Brunch</td>\n",
       "      <td>9734</td>\n",
       "      <td>9502</td>\n",
       "    </tr>\n",
       "    <tr>\n",
       "      <th>2</th>\n",
       "      <td>Bubble Tea</td>\n",
       "      <td>647</td>\n",
       "      <td>147</td>\n",
       "    </tr>\n",
       "    <tr>\n",
       "      <th>3</th>\n",
       "      <td>Burgers</td>\n",
       "      <td>14086</td>\n",
       "      <td>11426</td>\n",
       "    </tr>\n",
       "    <tr>\n",
       "      <th>4</th>\n",
       "      <td>Bars</td>\n",
       "      <td>36983</td>\n",
       "      <td>20372</td>\n",
       "    </tr>\n",
       "    <tr>\n",
       "      <th>5</th>\n",
       "      <td>Bakeries</td>\n",
       "      <td>4743</td>\n",
       "      <td>3920</td>\n",
       "    </tr>\n",
       "    <tr>\n",
       "      <th>6</th>\n",
       "      <td>Breweries</td>\n",
       "      <td>858</td>\n",
       "      <td>610</td>\n",
       "    </tr>\n",
       "    <tr>\n",
       "      <th>7</th>\n",
       "      <td>Cafes</td>\n",
       "      <td>5736</td>\n",
       "      <td>3857</td>\n",
       "    </tr>\n",
       "    <tr>\n",
       "      <th>8</th>\n",
       "      <td>Candy Stores</td>\n",
       "      <td>612</td>\n",
       "      <td>266</td>\n",
       "    </tr>\n",
       "    <tr>\n",
       "      <th>9</th>\n",
       "      <td>Comedy Clubs</td>\n",
       "      <td>962</td>\n",
       "      <td>197</td>\n",
       "    </tr>\n",
       "    <tr>\n",
       "      <th>10</th>\n",
       "      <td>Courthouses</td>\n",
       "      <td>4</td>\n",
       "      <td>4</td>\n",
       "    </tr>\n",
       "    <tr>\n",
       "      <th>11</th>\n",
       "      <td>Dance Clubs</td>\n",
       "      <td>3706</td>\n",
       "      <td>1084</td>\n",
       "    </tr>\n",
       "    <tr>\n",
       "      <th>12</th>\n",
       "      <td>Fast Food</td>\n",
       "      <td>23826</td>\n",
       "      <td>15861</td>\n",
       "    </tr>\n",
       "    <tr>\n",
       "      <th>13</th>\n",
       "      <td>Museums</td>\n",
       "      <td>360</td>\n",
       "      <td>301</td>\n",
       "    </tr>\n",
       "    <tr>\n",
       "      <th>14</th>\n",
       "      <td>Tattoo</td>\n",
       "      <td>1564</td>\n",
       "      <td>502</td>\n",
       "    </tr>\n",
       "    <tr>\n",
       "      <th>15</th>\n",
       "      <td>Vape Shops</td>\n",
       "      <td>1763</td>\n",
       "      <td>669</td>\n",
       "    </tr>\n",
       "    <tr>\n",
       "      <th>16</th>\n",
       "      <td>Yoga</td>\n",
       "      <td>502</td>\n",
       "      <td>623</td>\n",
       "    </tr>\n",
       "  </tbody>\n",
       "</table>\n",
       "</div>"
      ],
      "text/plain": [
       "              Business  Las Vegas  Not Vegas\n",
       "0             Airports         19         35\n",
       "1   Breakfast & Brunch       9734       9502\n",
       "2           Bubble Tea        647        147\n",
       "3              Burgers      14086      11426\n",
       "4                 Bars      36983      20372\n",
       "5             Bakeries       4743       3920\n",
       "6            Breweries        858        610\n",
       "7                Cafes       5736       3857\n",
       "8         Candy Stores        612        266\n",
       "9         Comedy Clubs        962        197\n",
       "10         Courthouses          4          4\n",
       "11         Dance Clubs       3706       1084\n",
       "12           Fast Food      23826      15861\n",
       "13             Museums        360        301\n",
       "14              Tattoo       1564        502\n",
       "15          Vape Shops       1763        669\n",
       "16                Yoga        502        623"
      ]
     },
     "execution_count": 13,
     "metadata": {},
     "output_type": "execute_result"
    }
   ],
   "source": [
    "businesstypes = bvegas.merge(notvegas)\n",
    "\n",
    "#businesstypes = businesstypes.merge(bsurprise)\n",
    "#businesstypes = businesstypes.merge(bwaterloo)\n",
    "businesstypes\n",
    "\n",
    "# notvegas = bphoenix.merge(bsurprise)\n",
    "# notvegas = notvegas.merge(bwaterloo)\n",
    "# notvega"
   ]
  },
  {
   "cell_type": "code",
   "execution_count": 14,
   "metadata": {
    "collapsed": false
   },
   "outputs": [
    {
     "data": {
      "image/png": "[encoded data removed]",
      "text/plain": [
       "<matplotlib.figure.Figure at 0x100537710>"
      ]
     },
     "metadata": {
      "image/png": {
       "height": 352,
       "width": 713
      }
     },
     "output_type": "display_data"
    }
   ],
   "source": [
    "businesstypes.plot(kind='barh', x='Business');"
   ]
  },
  {
   "cell_type": "code",
   "execution_count": 15,
   "metadata": {
    "collapsed": false
   },
   "outputs": [],
   "source": [
    "# bvegas.plot.bar(x='Business')\n",
    "# bphoenix.plot.bar(x='Business')\n",
    "# bsurprise.plot.bar(x='Business')\n",
    "# bwaterloo.plot.bar(x='Business')"
   ]
  },
  {
   "cell_type": "code",
   "execution_count": 16,
   "metadata": {
    "collapsed": false
   },
   "outputs": [],
   "source": [
    "#citydict = {'Las Vegas': 1, 'Phoenix':2, 'Surprise':3 , 'Waterloo': 4}\n",
    "citydict = {'Las Vegas': 1, 'Phoenix':0, 'Surprise':0 , 'Waterloo': 0}\n",
    "business_copy['city'] = business_copy['city'].map(citydict)"
   ]
  },
  {
   "cell_type": "code",
   "execution_count": 17,
   "metadata": {
    "collapsed": false
   },
   "outputs": [
    {
     "data": {
      "text/plain": [
       "['Airports',\n",
       " 'Breakfast & Brunch',\n",
       " 'Bubble Tea',\n",
       " 'Burgers',\n",
       " 'Bars',\n",
       " 'Bakeries',\n",
       " 'Breweries',\n",
       " 'Cafes',\n",
       " 'Candy Stores',\n",
       " 'Comedy Clubs',\n",
       " 'Courthouses',\n",
       " 'Dance Clubs',\n",
       " 'Fast Food',\n",
       " 'Museums',\n",
       " 'Tattoo',\n",
       " 'Vape Shops',\n",
       " 'Yoga']"
      ]
     },
     "execution_count": 17,
     "metadata": {},
     "output_type": "execute_result"
    }
   ],
   "source": [
    "categories = business_copy.columns[11:].tolist()\n",
    "categories"
   ]
  },
  {
   "cell_type": "code",
   "execution_count": 18,
   "metadata": {
    "collapsed": false
   },
   "outputs": [],
   "source": [
    "def truefalse(cat):\n",
    "    tf = {'True' : 1, 'False' : 0}\n",
    "    for x, y in tf.items():\n",
    "        cat = str(cat)\n",
    "        if x in cat:\n",
    "            return y\n",
    "    return 0\n",
    "\n",
    "for c in categories:\n",
    "    business_copy[c] = business_copy[c].apply(truefalse)"
   ]
  },
  {
   "cell_type": "code",
   "execution_count": 19,
   "metadata": {
    "collapsed": false
   },
   "outputs": [
    {
     "name": "stdout",
     "output_type": "stream",
     "text": [
      "(152832, 17) (152832,)\n"
     ]
    }
   ],
   "source": [
    "y = business_copy['city'].values\n",
    "X = business_copy[business_copy.columns[11:]]\n",
    "\n",
    "print X.shape, y.shape"
   ]
  },
  {
   "cell_type": "code",
   "execution_count": 20,
   "metadata": {
    "collapsed": false
   },
   "outputs": [
    {
     "name": "stdout",
     "output_type": "stream",
     "text": [
      "[ 0.62579497  0.62548091  0.62629885  0.62622033] 0.625948762323\n"
     ]
    }
   ],
   "source": [
    "dtcN = DecisionTreeClassifier()\n",
    "\n",
    "dtcN.fit(X, y)\n",
    "\n",
    "dtcN_scores = cross_val_score(dtcN, X, y, cv=4)\n",
    "\n",
    "print dtcN_scores, np.mean(dtcN_scores)"
   ]
  },
  {
   "cell_type": "code",
   "execution_count": 21,
   "metadata": {
    "collapsed": false
   },
   "outputs": [],
   "source": [
    "rf = RandomForestClassifier()\n",
    "et = ExtraTreesClassifier()"
   ]
  },
  {
   "cell_type": "code",
   "execution_count": 22,
   "metadata": {
    "collapsed": false
   },
   "outputs": [
    {
     "data": {
      "text/plain": [
       "(array([ 0.6257688 ,  0.62548091,  0.62627267,  0.62622033]),\n",
       " 0.62593567605797928)"
      ]
     },
     "execution_count": 22,
     "metadata": {},
     "output_type": "execute_result"
    }
   ],
   "source": [
    "rf.fit(X, y)\n",
    "rf_scores = cross_val_score(rf, X, y, cv=4)\n",
    "rf_scores, np.mean(rf_scores)"
   ]
  },
  {
   "cell_type": "code",
   "execution_count": 23,
   "metadata": {
    "collapsed": false
   },
   "outputs": [
    {
     "data": {
      "text/plain": [
       "(array([ 0.62579497,  0.62548091,  0.62629885,  0.62622033]),\n",
       " 0.62594876232264496)"
      ]
     },
     "execution_count": 23,
     "metadata": {},
     "output_type": "execute_result"
    }
   ],
   "source": [
    "et.fit(X, y)\n",
    "et_scores = cross_val_score(et, X, y, cv=4)\n",
    "et_scores, np.mean(et_scores)"
   ]
  },
  {
   "cell_type": "code",
   "execution_count": 24,
   "metadata": {
    "collapsed": false
   },
   "outputs": [
    {
     "name": "stdout",
     "output_type": "stream",
     "text": [
      "Fitting 5 folds for each of 150 candidates, totalling 750 fits\n"
     ]
    },
    {
     "name": "stderr",
     "output_type": "stream",
     "text": [
      "[Parallel(n_jobs=-1)]: Done  42 tasks      | elapsed:    3.5s\n",
      "[Parallel(n_jobs=-1)]: Done 192 tasks      | elapsed:   12.9s\n",
      "[Parallel(n_jobs=-1)]: Done 442 tasks      | elapsed:   29.8s\n",
      "[Parallel(n_jobs=-1)]: Done 750 out of 750 | elapsed:   51.2s finished\n"
     ]
    },
    {
     "data": {
      "text/plain": [
       "GridSearchCV(cv=5, error_score='raise',\n",
       "       estimator=DecisionTreeClassifier(class_weight=None, criterion='gini', max_depth=None,\n",
       "            max_features=None, max_leaf_nodes=None,\n",
       "            min_impurity_split=1e-07, min_samples_leaf=1,\n",
       "            min_samples_split=2, min_weight_fraction_leaf=0.0,\n",
       "            presort=False, random_state=None, splitter='best'),\n",
       "       fit_params={}, iid=True, n_jobs=-1,\n",
       "       param_grid={'max_features': [None, 'log2', 'sqrt', 2, 3, 4], 'min_samples_split': [2, 3, 4, 5, 10], 'max_depth': [None, 1, 2, 3, 4]},\n",
       "       pre_dispatch='2*n_jobs', refit=True, return_train_score=True,\n",
       "       scoring=None, verbose=1)"
      ]
     },
     "execution_count": 24,
     "metadata": {},
     "output_type": "execute_result"
    }
   ],
   "source": [
    "dtr_params = {\n",
    "    'max_depth':[None,1,2,3,4],\n",
    "    'max_features':[None,'log2','sqrt',2,3,4],\n",
    "    'min_samples_split':[2,3,4,5,10]\n",
    "}\n",
    "\n",
    "dtc_gs = GridSearchCV(DecisionTreeClassifier(), dtr_params, cv=5, verbose=1, n_jobs=-1)\n",
    "dtc_gs.fit(X, y)"
   ]
  },
  {
   "cell_type": "code",
   "execution_count": 25,
   "metadata": {
    "collapsed": false
   },
   "outputs": [
    {
     "name": "stdout",
     "output_type": "stream",
     "text": [
      "{'max_features': None, 'min_samples_split': 2, 'max_depth': None}\n",
      "0.625935667923\n"
     ]
    }
   ],
   "source": [
    "dtc_best = dtc_gs.best_estimator_\n",
    "print dtc_gs.best_params_\n",
    "print dtc_gs.best_score_"
   ]
  },
  {
   "cell_type": "code",
   "execution_count": 26,
   "metadata": {
    "collapsed": false
   },
   "outputs": [
    {
     "data": {
      "text/html": [
       "<div>\n",
       "<table border=\"1\" class=\"dataframe\">\n",
       "  <thead>\n",
       "    <tr style=\"text-align: right;\">\n",
       "      <th></th>\n",
       "      <th>feature</th>\n",
       "      <th>importance</th>\n",
       "    </tr>\n",
       "  </thead>\n",
       "  <tbody>\n",
       "    <tr>\n",
       "      <th>1</th>\n",
       "      <td>Breakfast &amp; Brunch</td>\n",
       "      <td>0.211809</td>\n",
       "    </tr>\n",
       "    <tr>\n",
       "      <th>3</th>\n",
       "      <td>Burgers</td>\n",
       "      <td>0.177771</td>\n",
       "    </tr>\n",
       "    <tr>\n",
       "      <th>4</th>\n",
       "      <td>Bars</td>\n",
       "      <td>0.134400</td>\n",
       "    </tr>\n",
       "    <tr>\n",
       "      <th>7</th>\n",
       "      <td>Cafes</td>\n",
       "      <td>0.108556</td>\n",
       "    </tr>\n",
       "    <tr>\n",
       "      <th>11</th>\n",
       "      <td>Dance Clubs</td>\n",
       "      <td>0.073203</td>\n",
       "    </tr>\n",
       "    <tr>\n",
       "      <th>12</th>\n",
       "      <td>Fast Food</td>\n",
       "      <td>0.070783</td>\n",
       "    </tr>\n",
       "    <tr>\n",
       "      <th>5</th>\n",
       "      <td>Bakeries</td>\n",
       "      <td>0.058665</td>\n",
       "    </tr>\n",
       "    <tr>\n",
       "      <th>16</th>\n",
       "      <td>Yoga</td>\n",
       "      <td>0.044208</td>\n",
       "    </tr>\n",
       "    <tr>\n",
       "      <th>2</th>\n",
       "      <td>Bubble Tea</td>\n",
       "      <td>0.038917</td>\n",
       "    </tr>\n",
       "    <tr>\n",
       "      <th>9</th>\n",
       "      <td>Comedy Clubs</td>\n",
       "      <td>0.026289</td>\n",
       "    </tr>\n",
       "    <tr>\n",
       "      <th>6</th>\n",
       "      <td>Breweries</td>\n",
       "      <td>0.016734</td>\n",
       "    </tr>\n",
       "    <tr>\n",
       "      <th>14</th>\n",
       "      <td>Tattoo</td>\n",
       "      <td>0.016361</td>\n",
       "    </tr>\n",
       "    <tr>\n",
       "      <th>15</th>\n",
       "      <td>Vape Shops</td>\n",
       "      <td>0.009486</td>\n",
       "    </tr>\n",
       "    <tr>\n",
       "      <th>13</th>\n",
       "      <td>Museums</td>\n",
       "      <td>0.006727</td>\n",
       "    </tr>\n",
       "    <tr>\n",
       "      <th>0</th>\n",
       "      <td>Airports</td>\n",
       "      <td>0.004142</td>\n",
       "    </tr>\n",
       "    <tr>\n",
       "      <th>8</th>\n",
       "      <td>Candy Stores</td>\n",
       "      <td>0.001948</td>\n",
       "    </tr>\n",
       "    <tr>\n",
       "      <th>10</th>\n",
       "      <td>Courthouses</td>\n",
       "      <td>0.000000</td>\n",
       "    </tr>\n",
       "  </tbody>\n",
       "</table>\n",
       "</div>"
      ],
      "text/plain": [
       "               feature  importance\n",
       "1   Breakfast & Brunch    0.211809\n",
       "3              Burgers    0.177771\n",
       "4                 Bars    0.134400\n",
       "7                Cafes    0.108556\n",
       "11         Dance Clubs    0.073203\n",
       "12           Fast Food    0.070783\n",
       "5             Bakeries    0.058665\n",
       "16                Yoga    0.044208\n",
       "2           Bubble Tea    0.038917\n",
       "9         Comedy Clubs    0.026289\n",
       "6            Breweries    0.016734\n",
       "14              Tattoo    0.016361\n",
       "15          Vape Shops    0.009486\n",
       "13             Museums    0.006727\n",
       "0             Airports    0.004142\n",
       "8         Candy Stores    0.001948\n",
       "10         Courthouses    0.000000"
      ]
     },
     "execution_count": 26,
     "metadata": {},
     "output_type": "execute_result"
    }
   ],
   "source": [
    "## Print Feature importances\n",
    "feature_importance = pd.DataFrame({'feature':categories, \n",
    "                                   'importance':dtc_best.feature_importances_})\n",
    "\n",
    "feature_importance.sort_values('importance', ascending=False, inplace=True)\n",
    "feature_importance"
   ]
  },
  {
   "cell_type": "raw",
   "metadata": {},
   "source": [
    "#used feature importance to explain vegas features\n",
    "\n",
    "Las Vegas is best compared with it's food shops in comparison with Phoenix, Surprise and Waterloo. Breakfast & Brunch, Burgers, Bars, Cafes, Dance Clubs, Fast Food were the business that most defined Las Vegas in the model."
   ]
  },
  {
   "cell_type": "markdown",
   "metadata": {},
   "source": [
    "<img src=\"http://imgur.com/l5NasQj.png\" style=\"float: left; margin: 25px 15px 0px 0px; height: 25px\">\n",
    "\n",
    "## 2. Different categories of ratings\n",
    "\n",
    "---\n",
    "\n",
    "Yelp is finally ready to admit that their rating system sucks. No one cares about the ratings, they just use the site to find out what's nearby. The ratings are simply too unreliable for people. \n",
    "\n",
    "Yelp hypothesizes that this is, in fact, because different people tend to give their ratings based on different things. They believe that perhaps some people always base their ratings on quality of food, others on service, and perhaps other categories as well. \n",
    "\n",
    "1. Do some users tend to talk about service more than others in reviews/tips? Divide up the tips/reviews into more \"service-focused\" ones and those less concerned with service.\n",
    "        service, not service\n",
    "2. Create two new ratings for businesses: ratings from just the service-focused reviews and ratings from the non-service reviews.\n",
    "        service, not service\n",
    "3. Construct a regression model for each of the two ratings. They should use the same predictor variables (of your choice). \n",
    "4. Validate the performance of the models.\n",
    "5. Do the models coefficients differ at all? What does this tell you about the hypothesis that there are in fact two different kinds of ratings?"
   ]
  },
  {
   "cell_type": "code",
   "execution_count": 27,
   "metadata": {
    "collapsed": false
   },
   "outputs": [
    {
     "data": {
      "text/html": [
       "<div>\n",
       "<table border=\"1\" class=\"dataframe\">\n",
       "  <thead>\n",
       "    <tr style=\"text-align: right;\">\n",
       "      <th></th>\n",
       "      <th>user_id</th>\n",
       "      <th>review_id</th>\n",
       "      <th>votes.cool</th>\n",
       "      <th>business_id</th>\n",
       "      <th>votes.funny</th>\n",
       "      <th>stars</th>\n",
       "      <th>date</th>\n",
       "      <th>votes.useful</th>\n",
       "      <th>10 minutes</th>\n",
       "      <th>15 minutes</th>\n",
       "      <th>...</th>\n",
       "      <th>service great</th>\n",
       "      <th>staff friendly</th>\n",
       "      <th>super friendly</th>\n",
       "      <th>sweet potato</th>\n",
       "      <th>tasted like</th>\n",
       "      <th>time vegas</th>\n",
       "      <th>try place</th>\n",
       "      <th>ve seen</th>\n",
       "      <th>ve tried</th>\n",
       "      <th>wait staff</th>\n",
       "    </tr>\n",
       "  </thead>\n",
       "  <tbody>\n",
       "    <tr>\n",
       "      <th>0</th>\n",
       "      <td>o_LCYay4uo5N4eq3U5pbrQ</td>\n",
       "      <td>biEOCicjWlibF26pNLvhcw</td>\n",
       "      <td>0</td>\n",
       "      <td>EmzaQR5hQlF0WIl24NxAZA</td>\n",
       "      <td>0</td>\n",
       "      <td>3</td>\n",
       "      <td>2007-09-14</td>\n",
       "      <td>1</td>\n",
       "      <td>0</td>\n",
       "      <td>0</td>\n",
       "      <td>...</td>\n",
       "      <td>0</td>\n",
       "      <td>0</td>\n",
       "      <td>0</td>\n",
       "      <td>0</td>\n",
       "      <td>0</td>\n",
       "      <td>0</td>\n",
       "      <td>0</td>\n",
       "      <td>0</td>\n",
       "      <td>0</td>\n",
       "      <td>0</td>\n",
       "    </tr>\n",
       "    <tr>\n",
       "      <th>1</th>\n",
       "      <td>sEWeeq41k4ohBz4jS_iGRw</td>\n",
       "      <td>tOhOHUAS7XJch7a_HW5Csw</td>\n",
       "      <td>3</td>\n",
       "      <td>EmzaQR5hQlF0WIl24NxAZA</td>\n",
       "      <td>12</td>\n",
       "      <td>2</td>\n",
       "      <td>2008-04-21</td>\n",
       "      <td>3</td>\n",
       "      <td>0</td>\n",
       "      <td>0</td>\n",
       "      <td>...</td>\n",
       "      <td>0</td>\n",
       "      <td>0</td>\n",
       "      <td>0</td>\n",
       "      <td>0</td>\n",
       "      <td>0</td>\n",
       "      <td>0</td>\n",
       "      <td>0</td>\n",
       "      <td>0</td>\n",
       "      <td>0</td>\n",
       "      <td>0</td>\n",
       "    </tr>\n",
       "    <tr>\n",
       "      <th>2</th>\n",
       "      <td>1AqEqmmVHgYCuzcMrF4h2g</td>\n",
       "      <td>2aGafu-x7onydGoDgDfeQQ</td>\n",
       "      <td>0</td>\n",
       "      <td>EmzaQR5hQlF0WIl24NxAZA</td>\n",
       "      <td>2</td>\n",
       "      <td>2</td>\n",
       "      <td>2009-11-16</td>\n",
       "      <td>0</td>\n",
       "      <td>0</td>\n",
       "      <td>0</td>\n",
       "      <td>...</td>\n",
       "      <td>0</td>\n",
       "      <td>0</td>\n",
       "      <td>0</td>\n",
       "      <td>0</td>\n",
       "      <td>0</td>\n",
       "      <td>0</td>\n",
       "      <td>0</td>\n",
       "      <td>0</td>\n",
       "      <td>0</td>\n",
       "      <td>0</td>\n",
       "    </tr>\n",
       "    <tr>\n",
       "      <th>3</th>\n",
       "      <td>pv82zTlB5Txsu2Pusu__FA</td>\n",
       "      <td>CY4SWiYcUZTWS_T_cGaGPA</td>\n",
       "      <td>4</td>\n",
       "      <td>EmzaQR5hQlF0WIl24NxAZA</td>\n",
       "      <td>9</td>\n",
       "      <td>2</td>\n",
       "      <td>2010-08-16</td>\n",
       "      <td>6</td>\n",
       "      <td>0</td>\n",
       "      <td>0</td>\n",
       "      <td>...</td>\n",
       "      <td>0</td>\n",
       "      <td>0</td>\n",
       "      <td>0</td>\n",
       "      <td>0</td>\n",
       "      <td>0</td>\n",
       "      <td>0</td>\n",
       "      <td>0</td>\n",
       "      <td>0</td>\n",
       "      <td>0</td>\n",
       "      <td>0</td>\n",
       "    </tr>\n",
       "    <tr>\n",
       "      <th>4</th>\n",
       "      <td>jlr3OBS1_Y3Lqa-H3-FR1g</td>\n",
       "      <td>VCKytaG-_YkxmQosH4E0jw</td>\n",
       "      <td>0</td>\n",
       "      <td>EmzaQR5hQlF0WIl24NxAZA</td>\n",
       "      <td>1</td>\n",
       "      <td>4</td>\n",
       "      <td>2010-12-04</td>\n",
       "      <td>0</td>\n",
       "      <td>0</td>\n",
       "      <td>0</td>\n",
       "      <td>...</td>\n",
       "      <td>0</td>\n",
       "      <td>0</td>\n",
       "      <td>0</td>\n",
       "      <td>0</td>\n",
       "      <td>0</td>\n",
       "      <td>0</td>\n",
       "      <td>0</td>\n",
       "      <td>0</td>\n",
       "      <td>0</td>\n",
       "      <td>0</td>\n",
       "    </tr>\n",
       "  </tbody>\n",
       "</table>\n",
       "<p>5 rows × 108 columns</p>\n",
       "</div>"
      ],
      "text/plain": [
       "                  user_id               review_id  votes.cool  \\\n",
       "0  o_LCYay4uo5N4eq3U5pbrQ  biEOCicjWlibF26pNLvhcw           0   \n",
       "1  sEWeeq41k4ohBz4jS_iGRw  tOhOHUAS7XJch7a_HW5Csw           3   \n",
       "2  1AqEqmmVHgYCuzcMrF4h2g  2aGafu-x7onydGoDgDfeQQ           0   \n",
       "3  pv82zTlB5Txsu2Pusu__FA  CY4SWiYcUZTWS_T_cGaGPA           4   \n",
       "4  jlr3OBS1_Y3Lqa-H3-FR1g  VCKytaG-_YkxmQosH4E0jw           0   \n",
       "\n",
       "              business_id  votes.funny  stars        date  votes.useful  \\\n",
       "0  EmzaQR5hQlF0WIl24NxAZA            0      3  2007-09-14             1   \n",
       "1  EmzaQR5hQlF0WIl24NxAZA           12      2  2008-04-21             3   \n",
       "2  EmzaQR5hQlF0WIl24NxAZA            2      2  2009-11-16             0   \n",
       "3  EmzaQR5hQlF0WIl24NxAZA            9      2  2010-08-16             6   \n",
       "4  EmzaQR5hQlF0WIl24NxAZA            1      4  2010-12-04             0   \n",
       "\n",
       "   10 minutes  15 minutes     ...      service great  staff friendly  \\\n",
       "0           0           0     ...                  0               0   \n",
       "1           0           0     ...                  0               0   \n",
       "2           0           0     ...                  0               0   \n",
       "3           0           0     ...                  0               0   \n",
       "4           0           0     ...                  0               0   \n",
       "\n",
       "   super friendly  sweet potato  tasted like  time vegas  try place  ve seen  \\\n",
       "0               0             0            0           0          0        0   \n",
       "1               0             0            0           0          0        0   \n",
       "2               0             0            0           0          0        0   \n",
       "3               0             0            0           0          0        0   \n",
       "4               0             0            0           0          0        0   \n",
       "\n",
       "   ve tried  wait staff  \n",
       "0         0           0  \n",
       "1         0           0  \n",
       "2         0           0  \n",
       "3         0           0  \n",
       "4         0           0  \n",
       "\n",
       "[5 rows x 108 columns]"
      ]
     },
     "execution_count": 27,
     "metadata": {},
     "output_type": "execute_result"
    }
   ],
   "source": [
    "reviews_copy = reviews.copy()\n",
    "tips_copy = tips.copy()\n",
    "#reviews_tip = reviews_copy.merge(tips_copy, on='user_id')\n",
    "#reviews_tip.head()\n",
    "reviews_copy.head()"
   ]
  },
  {
   "cell_type": "code",
   "execution_count": 28,
   "metadata": {
    "collapsed": false
   },
   "outputs": [],
   "source": [
    "#reviews_tip_col = reviews_tip.columns.tolist()\n",
    "#reviews_tip_col"
   ]
  },
  {
   "cell_type": "code",
   "execution_count": 29,
   "metadata": {
    "collapsed": false
   },
   "outputs": [],
   "source": [
    "#service, food, unknown, ambience\n",
    "ratecat = ['votes.cool', 'votes.funny', 'votes.useful']\n",
    "reviewsdict = {           \n",
    " '10 minutes': 'service',\n",
    " '15 minutes': 'service',\n",
    " '20 minutes': 'service',\n",
    " '30 minutes': 'service',\n",
    " 'customer service': 'service',\n",
    " 'food service': 'service',\n",
    " 'friendly staff': 'service',\n",
    " 'good service': 'service',\n",
    " 'good time': 'service',\n",
    " 'great service': 'service',\n",
    " 'great time': 'service',\n",
    " 'minutes later': 'service',\n",
    " 'right away': 'service',\n",
    " 'service excellent': 'service',\n",
    " 'service food': 'service',\n",
    " 'service friendly': 'service',\n",
    " 'service good': 'service',\n",
    " 'service great': 'service',\n",
    " 'staff friendly': 'service',\n",
    " 'super friendly': 'service',\n",
    " 'wait staff': 'service'}\n",
    "\n",
    "tipsdict = {\n",
    " 'awesome service': 'service',\n",
    " 'customer service': 'service',\n",
    " 'excellent service': 'service',\n",
    " 'fast service': 'service',\n",
    " 'food service': 'service',\n",
    " 'friendly service': 'service',\n",
    " 'friendly staff': 'service',\n",
    " 'good service': 'service',\n",
    " 'great service': 'service',\n",
    " 'great staff': 'service',\n",
    " 'service food': 'service',\n",
    " 'service good': 'service',\n",
    " 'service great': 'service',\n",
    " 'slow service': 'service',\n",
    " 'staff friendly': 'service',\n",
    " 'staff great': 'service',\n",
    " 'super friendly': 'service'}"
   ]
  },
  {
   "cell_type": "code",
   "execution_count": 30,
   "metadata": {
    "collapsed": false
   },
   "outputs": [
    {
     "data": {
      "text/html": [
       "<div>\n",
       "<table border=\"1\" class=\"dataframe\">\n",
       "  <thead>\n",
       "    <tr style=\"text-align: right;\">\n",
       "      <th></th>\n",
       "      <th>stars</th>\n",
       "      <th>staff friendly</th>\n",
       "      <th>minutes later</th>\n",
       "      <th>20 minutes</th>\n",
       "      <th>service friendly</th>\n",
       "      <th>customer service</th>\n",
       "      <th>10 minutes</th>\n",
       "      <th>15 minutes</th>\n",
       "      <th>friendly staff</th>\n",
       "      <th>service excellent</th>\n",
       "      <th>...</th>\n",
       "      <th>super friendly</th>\n",
       "      <th>good time</th>\n",
       "      <th>30 minutes</th>\n",
       "      <th>service food</th>\n",
       "      <th>right away</th>\n",
       "      <th>food service</th>\n",
       "      <th>good service</th>\n",
       "      <th>great service</th>\n",
       "      <th>service great</th>\n",
       "      <th>wait staff</th>\n",
       "    </tr>\n",
       "  </thead>\n",
       "  <tbody>\n",
       "    <tr>\n",
       "      <th>0</th>\n",
       "      <td>3</td>\n",
       "      <td>0</td>\n",
       "      <td>0</td>\n",
       "      <td>0</td>\n",
       "      <td>0</td>\n",
       "      <td>0</td>\n",
       "      <td>0</td>\n",
       "      <td>0</td>\n",
       "      <td>0</td>\n",
       "      <td>0</td>\n",
       "      <td>...</td>\n",
       "      <td>0</td>\n",
       "      <td>0</td>\n",
       "      <td>0</td>\n",
       "      <td>0</td>\n",
       "      <td>0</td>\n",
       "      <td>0</td>\n",
       "      <td>0</td>\n",
       "      <td>0</td>\n",
       "      <td>0</td>\n",
       "      <td>0</td>\n",
       "    </tr>\n",
       "    <tr>\n",
       "      <th>1</th>\n",
       "      <td>2</td>\n",
       "      <td>0</td>\n",
       "      <td>0</td>\n",
       "      <td>0</td>\n",
       "      <td>0</td>\n",
       "      <td>0</td>\n",
       "      <td>0</td>\n",
       "      <td>0</td>\n",
       "      <td>0</td>\n",
       "      <td>0</td>\n",
       "      <td>...</td>\n",
       "      <td>0</td>\n",
       "      <td>0</td>\n",
       "      <td>0</td>\n",
       "      <td>0</td>\n",
       "      <td>0</td>\n",
       "      <td>0</td>\n",
       "      <td>0</td>\n",
       "      <td>0</td>\n",
       "      <td>0</td>\n",
       "      <td>0</td>\n",
       "    </tr>\n",
       "    <tr>\n",
       "      <th>2</th>\n",
       "      <td>2</td>\n",
       "      <td>0</td>\n",
       "      <td>0</td>\n",
       "      <td>0</td>\n",
       "      <td>0</td>\n",
       "      <td>0</td>\n",
       "      <td>0</td>\n",
       "      <td>0</td>\n",
       "      <td>0</td>\n",
       "      <td>0</td>\n",
       "      <td>...</td>\n",
       "      <td>0</td>\n",
       "      <td>0</td>\n",
       "      <td>0</td>\n",
       "      <td>0</td>\n",
       "      <td>0</td>\n",
       "      <td>0</td>\n",
       "      <td>0</td>\n",
       "      <td>0</td>\n",
       "      <td>0</td>\n",
       "      <td>0</td>\n",
       "    </tr>\n",
       "    <tr>\n",
       "      <th>3</th>\n",
       "      <td>2</td>\n",
       "      <td>0</td>\n",
       "      <td>0</td>\n",
       "      <td>0</td>\n",
       "      <td>0</td>\n",
       "      <td>0</td>\n",
       "      <td>0</td>\n",
       "      <td>0</td>\n",
       "      <td>0</td>\n",
       "      <td>0</td>\n",
       "      <td>...</td>\n",
       "      <td>0</td>\n",
       "      <td>0</td>\n",
       "      <td>0</td>\n",
       "      <td>0</td>\n",
       "      <td>0</td>\n",
       "      <td>0</td>\n",
       "      <td>0</td>\n",
       "      <td>0</td>\n",
       "      <td>0</td>\n",
       "      <td>0</td>\n",
       "    </tr>\n",
       "    <tr>\n",
       "      <th>4</th>\n",
       "      <td>4</td>\n",
       "      <td>0</td>\n",
       "      <td>0</td>\n",
       "      <td>0</td>\n",
       "      <td>0</td>\n",
       "      <td>0</td>\n",
       "      <td>0</td>\n",
       "      <td>0</td>\n",
       "      <td>0</td>\n",
       "      <td>0</td>\n",
       "      <td>...</td>\n",
       "      <td>0</td>\n",
       "      <td>0</td>\n",
       "      <td>0</td>\n",
       "      <td>0</td>\n",
       "      <td>0</td>\n",
       "      <td>0</td>\n",
       "      <td>0</td>\n",
       "      <td>0</td>\n",
       "      <td>0</td>\n",
       "      <td>0</td>\n",
       "    </tr>\n",
       "  </tbody>\n",
       "</table>\n",
       "<p>5 rows × 22 columns</p>\n",
       "</div>"
      ],
      "text/plain": [
       "   stars  staff friendly  minutes later  20 minutes  service friendly  \\\n",
       "0      3               0              0           0                 0   \n",
       "1      2               0              0           0                 0   \n",
       "2      2               0              0           0                 0   \n",
       "3      2               0              0           0                 0   \n",
       "4      4               0              0           0                 0   \n",
       "\n",
       "   customer service  10 minutes  15 minutes  friendly staff  \\\n",
       "0                 0           0           0               0   \n",
       "1                 0           0           0               0   \n",
       "2                 0           0           0               0   \n",
       "3                 0           0           0               0   \n",
       "4                 0           0           0               0   \n",
       "\n",
       "   service excellent     ...      super friendly  good time  30 minutes  \\\n",
       "0                  0     ...                   0          0           0   \n",
       "1                  0     ...                   0          0           0   \n",
       "2                  0     ...                   0          0           0   \n",
       "3                  0     ...                   0          0           0   \n",
       "4                  0     ...                   0          0           0   \n",
       "\n",
       "   service food  right away  food service  good service  great service  \\\n",
       "0             0           0             0             0              0   \n",
       "1             0           0             0             0              0   \n",
       "2             0           0             0             0              0   \n",
       "3             0           0             0             0              0   \n",
       "4             0           0             0             0              0   \n",
       "\n",
       "   service great  wait staff  \n",
       "0              0           0  \n",
       "1              0           0  \n",
       "2              0           0  \n",
       "3              0           0  \n",
       "4              0           0  \n",
       "\n",
       "[5 rows x 22 columns]"
      ]
     },
     "execution_count": 30,
     "metadata": {},
     "output_type": "execute_result"
    }
   ],
   "source": [
    "service_reviews = reviews_copy[['stars']].join(reviews_copy[reviewsdict.keys()])\n",
    "not_service_reviews = reviews_copy[reviewsdict.keys()]\n",
    "service_reviews.head()"
   ]
  },
  {
   "cell_type": "code",
   "execution_count": 31,
   "metadata": {
    "collapsed": true
   },
   "outputs": [],
   "source": [
    "service_reviews['stars'] = service_reviews['stars'].map({5:1, 4:1, 3:1, 2:0, 1:0})"
   ]
  },
  {
   "cell_type": "code",
   "execution_count": 32,
   "metadata": {
    "collapsed": false
   },
   "outputs": [
    {
     "data": {
      "text/plain": [
       "((322398, 21), (322398,))"
      ]
     },
     "execution_count": 32,
     "metadata": {},
     "output_type": "execute_result"
    }
   ],
   "source": [
    "X = service_reviews[service_reviews.columns[1:]]\n",
    "y = service_reviews['stars']\n",
    "X.shape, y.shape"
   ]
  },
  {
   "cell_type": "code",
   "execution_count": 33,
   "metadata": {
    "collapsed": false
   },
   "outputs": [
    {
     "name": "stdout",
     "output_type": "stream",
     "text": [
      "[ 0.81364338  0.81394115  0.81469488] 0.814093139536\n"
     ]
    }
   ],
   "source": [
    "#run model for service\n",
    "dtcN = DecisionTreeClassifier()\n",
    "\n",
    "dtcN.fit(X, y)\n",
    "\n",
    "dtcN_scores = cross_val_score(dtcN, X, y)\n",
    "\n",
    "print dtcN_scores, np.mean(dtcN_scores)"
   ]
  },
  {
   "cell_type": "code",
   "execution_count": 34,
   "metadata": {
    "collapsed": false
   },
   "outputs": [
    {
     "name": "stdout",
     "output_type": "stream",
     "text": [
      "Fitting 5 folds for each of 250 candidates, totalling 1250 fits\n"
     ]
    },
    {
     "name": "stderr",
     "output_type": "stream",
     "text": [
      "[Parallel(n_jobs=-1)]: Done  42 tasks      | elapsed:   19.1s\n",
      "[Parallel(n_jobs=-1)]: Done 192 tasks      | elapsed:  1.0min\n",
      "[Parallel(n_jobs=-1)]: Done 442 tasks      | elapsed:  2.0min\n",
      "[Parallel(n_jobs=-1)]: Done 792 tasks      | elapsed:  3.3min\n",
      "[Parallel(n_jobs=-1)]: Done 1242 tasks      | elapsed:  5.1min\n",
      "[Parallel(n_jobs=-1)]: Done 1250 out of 1250 | elapsed:  5.2min finished\n"
     ]
    },
    {
     "data": {
      "text/plain": [
       "GridSearchCV(cv=5, error_score='raise',\n",
       "       estimator=DecisionTreeClassifier(class_weight=None, criterion='gini', max_depth=None,\n",
       "            max_features=None, max_leaf_nodes=None,\n",
       "            min_impurity_split=1e-07, min_samples_leaf=1,\n",
       "            min_samples_split=2, min_weight_fraction_leaf=0.0,\n",
       "            presort=False, random_state=None, splitter='best'),\n",
       "       fit_params={}, iid=True, n_jobs=-1,\n",
       "       param_grid={'max_features': [None, 'log2', 'sqrt', 2, 3], 'min_samples_split': [2, 3, 4, 5, 10, 15, 20, 25, 30, 40], 'max_depth': [None, 1, 2, 3, 4]},\n",
       "       pre_dispatch='2*n_jobs', refit=True, return_train_score=True,\n",
       "       scoring=None, verbose=1)"
      ]
     },
     "execution_count": 34,
     "metadata": {},
     "output_type": "execute_result"
    }
   ],
   "source": [
    "dtr_params = {\n",
    "    'max_depth':[None,1,2,3,4],\n",
    "    'max_features':[None,'log2','sqrt',2,3],\n",
    "    'min_samples_split':[2,3,4,5,10,15,20,25,30,40]\n",
    "}\n",
    "\n",
    "dtc_gs = GridSearchCV(DecisionTreeClassifier(), dtr_params, cv=5, verbose=1, n_jobs=-1)\n",
    "dtc_gs.fit(X, y)"
   ]
  },
  {
   "cell_type": "code",
   "execution_count": 35,
   "metadata": {
    "collapsed": false
   },
   "outputs": [
    {
     "name": "stdout",
     "output_type": "stream",
     "text": [
      "{'max_features': 2, 'min_samples_split': 40, 'max_depth': None}\n",
      "0.814390908132\n"
     ]
    }
   ],
   "source": [
    "dtc_best = dtc_gs.best_estimator_\n",
    "print dtc_gs.best_params_\n",
    "print dtc_gs.best_score_"
   ]
  },
  {
   "cell_type": "code",
   "execution_count": 36,
   "metadata": {
    "collapsed": false
   },
   "outputs": [
    {
     "data": {
      "text/html": [
       "<div>\n",
       "<table border=\"1\" class=\"dataframe\">\n",
       "  <thead>\n",
       "    <tr style=\"text-align: right;\">\n",
       "      <th></th>\n",
       "      <th>feature</th>\n",
       "      <th>importance</th>\n",
       "    </tr>\n",
       "  </thead>\n",
       "  <tbody>\n",
       "    <tr>\n",
       "      <th>2</th>\n",
       "      <td>20 minutes</td>\n",
       "      <td>0.183645</td>\n",
       "    </tr>\n",
       "    <tr>\n",
       "      <th>6</th>\n",
       "      <td>15 minutes</td>\n",
       "      <td>0.135264</td>\n",
       "    </tr>\n",
       "    <tr>\n",
       "      <th>5</th>\n",
       "      <td>10 minutes</td>\n",
       "      <td>0.101041</td>\n",
       "    </tr>\n",
       "    <tr>\n",
       "      <th>4</th>\n",
       "      <td>customer service</td>\n",
       "      <td>0.098202</td>\n",
       "    </tr>\n",
       "    <tr>\n",
       "      <th>1</th>\n",
       "      <td>minutes later</td>\n",
       "      <td>0.079449</td>\n",
       "    </tr>\n",
       "    <tr>\n",
       "      <th>13</th>\n",
       "      <td>30 minutes</td>\n",
       "      <td>0.066989</td>\n",
       "    </tr>\n",
       "    <tr>\n",
       "      <th>19</th>\n",
       "      <td>service great</td>\n",
       "      <td>0.052762</td>\n",
       "    </tr>\n",
       "    <tr>\n",
       "      <th>18</th>\n",
       "      <td>great service</td>\n",
       "      <td>0.047737</td>\n",
       "    </tr>\n",
       "    <tr>\n",
       "      <th>0</th>\n",
       "      <td>staff friendly</td>\n",
       "      <td>0.040118</td>\n",
       "    </tr>\n",
       "    <tr>\n",
       "      <th>8</th>\n",
       "      <td>service excellent</td>\n",
       "      <td>0.032837</td>\n",
       "    </tr>\n",
       "  </tbody>\n",
       "</table>\n",
       "</div>"
      ],
      "text/plain": [
       "              feature  importance\n",
       "2          20 minutes    0.183645\n",
       "6          15 minutes    0.135264\n",
       "5          10 minutes    0.101041\n",
       "4    customer service    0.098202\n",
       "1       minutes later    0.079449\n",
       "13         30 minutes    0.066989\n",
       "19      service great    0.052762\n",
       "18      great service    0.047737\n",
       "0      staff friendly    0.040118\n",
       "8   service excellent    0.032837"
      ]
     },
     "execution_count": 36,
     "metadata": {},
     "output_type": "execute_result"
    }
   ],
   "source": [
    "feature_importance = pd.DataFrame({'feature':X.columns, \n",
    "                                   'importance':dtc_best.feature_importances_})\n",
    "\n",
    "feature_importance.sort_values('importance', ascending=False, inplace=True)\n",
    "feature_importance.head(10)"
   ]
  },
  {
   "cell_type": "code",
   "execution_count": 37,
   "metadata": {
    "collapsed": false
   },
   "outputs": [
    {
     "data": {
      "text/plain": [
       "Index([u'votes.cool', u'votes.funny', u'votes.useful', u'bar food',\n",
       "       u'beer selection', u'best ve', u'bloody mary', u'bottle service',\n",
       "       u'chicken waffles', u'dance floor', u'decided try', u'definitely come',\n",
       "       u'definitely recommend', u'didn want', u'don know', u'don like',\n",
       "       u'don think', u'don want', u'eggs benedict', u'fast food', u'feel like',\n",
       "       u'felt like', u'fish chips', u'food amazing', u'food came',\n",
       "       u'food delicious', u'food good', u'food great', u'food just',\n",
       "       u'french fries', u'french toast', u'friday night', u'fried chicken',\n",
       "       u'good food', u'good place', u'good thing', u'great atmosphere',\n",
       "       u'great experience', u'great food', u'great place', u'happy hour',\n",
       "       u'hash browns', u'highly recommend', u'hip hop', u'ice cream',\n",
       "       u'just like', u'just ok', u'just right', u'las vegas', u'late night',\n",
       "       u'like place', u'little bit', u'long time', u'looked like',\n",
       "       u'looks like', u'love place', u'mac cheese', u'make sure',\n",
       "       u'mashed potatoes', u'medium rare', u'new york', u'onion rings',\n",
       "       u'place good', u'place great', u'place just', u'potato fries',\n",
       "       u'pretty good', u'quality food', u'really enjoyed', u'really good',\n",
       "       u'really like', u'really nice', u'recommend place', u'red velvet',\n",
       "       u'saturday night', u'second time', u'sweet potato', u'tasted like',\n",
       "       u'time vegas', u'try place', u've seen', u've tried'],\n",
       "      dtype='object')"
      ]
     },
     "execution_count": 37,
     "metadata": {},
     "output_type": "execute_result"
    }
   ],
   "source": [
    "service_cols = service_reviews.columns.tolist()\n",
    "no_good_cols = ['yelping_since', 'elite', 'name', 'user_id', 'business_id', 'review_id', 'date'] + service_cols\n",
    "mask = np.logical_not(reviews_copy.columns.isin(no_good_cols))\n",
    "#mask = np.logical_not(reviews_copy.columns.isin(service_reviews.columns))\n",
    "not_service = reviews_copy[reviews_copy.columns[mask]]\n",
    "not_service.columns"
   ]
  },
  {
   "cell_type": "code",
   "execution_count": 38,
   "metadata": {
    "collapsed": false
   },
   "outputs": [
    {
     "data": {
      "text/plain": [
       "((322398, 82), (322398,))"
      ]
     },
     "execution_count": 38,
     "metadata": {},
     "output_type": "execute_result"
    }
   ],
   "source": [
    "X = not_service[not_service.columns]\n",
    "y = service_reviews['stars']\n",
    "X.shape, y.shape"
   ]
  },
  {
   "cell_type": "code",
   "execution_count": 39,
   "metadata": {
    "collapsed": false
   },
   "outputs": [
    {
     "name": "stdout",
     "output_type": "stream",
     "text": [
      "[ 0.79664266  0.79666127  0.80586418] 0.799722702994\n"
     ]
    }
   ],
   "source": [
    "#run model for not service\n",
    "dtc = DecisionTreeClassifier()\n",
    "\n",
    "dtc.fit(X, y)\n",
    "\n",
    "dtc_score = cross_val_score(dtc, X, y)\n",
    "\n",
    "print dtc_score, np.mean(dtc_score)"
   ]
  },
  {
   "cell_type": "code",
   "execution_count": 40,
   "metadata": {
    "collapsed": false
   },
   "outputs": [
    {
     "name": "stdout",
     "output_type": "stream",
     "text": [
      "Fitting 5 folds for each of 250 candidates, totalling 1250 fits\n"
     ]
    },
    {
     "name": "stderr",
     "output_type": "stream",
     "text": [
      "[Parallel(n_jobs=-1)]: Done  42 tasks      | elapsed:  3.5min\n",
      "[Parallel(n_jobs=-1)]: Done 192 tasks      | elapsed:  6.1min\n",
      "[Parallel(n_jobs=-1)]: Done 442 tasks      | elapsed:  8.2min\n",
      "[Parallel(n_jobs=-1)]: Done 792 tasks      | elapsed: 10.9min\n",
      "[Parallel(n_jobs=-1)]: Done 1242 tasks      | elapsed: 14.5min\n",
      "[Parallel(n_jobs=-1)]: Done 1250 out of 1250 | elapsed: 14.5min finished\n"
     ]
    },
    {
     "data": {
      "text/plain": [
       "GridSearchCV(cv=5, error_score='raise',\n",
       "       estimator=DecisionTreeClassifier(class_weight=None, criterion='gini', max_depth=None,\n",
       "            max_features=None, max_leaf_nodes=None,\n",
       "            min_impurity_split=1e-07, min_samples_leaf=1,\n",
       "            min_samples_split=2, min_weight_fraction_leaf=0.0,\n",
       "            presort=False, random_state=None, splitter='best'),\n",
       "       fit_params={}, iid=True, n_jobs=-1,\n",
       "       param_grid={'max_features': [None, 'log2', 'sqrt', 2, 3], 'min_samples_split': [2, 3, 4, 5, 10, 15, 20, 25, 30, 40], 'max_depth': [None, 1, 2, 3, 4]},\n",
       "       pre_dispatch='2*n_jobs', refit=True, return_train_score=True,\n",
       "       scoring=None, verbose=1)"
      ]
     },
     "execution_count": 40,
     "metadata": {},
     "output_type": "execute_result"
    }
   ],
   "source": [
    "dtr_params = {\n",
    "    'max_depth':[None,1,2,3,4],\n",
    "    'max_features':[None,'log2','sqrt',2,3],\n",
    "    'min_samples_split':[2,3,4,5,10,15,20,25,30,40]\n",
    "}\n",
    "\n",
    "dtc_gs = GridSearchCV(DecisionTreeClassifier(), dtr_params, cv=5, verbose=1, n_jobs=-1)\n",
    "dtc_gs.fit(X, y)"
   ]
  },
  {
   "cell_type": "code",
   "execution_count": 41,
   "metadata": {
    "collapsed": false
   },
   "outputs": [
    {
     "name": "stdout",
     "output_type": "stream",
     "text": [
      "{'max_features': None, 'min_samples_split': 2, 'max_depth': 4}\n",
      "0.81422031154\n"
     ]
    }
   ],
   "source": [
    "dtc_best = dtc_gs.best_estimator_\n",
    "print dtc_gs.best_params_\n",
    "print dtc_gs.best_score_"
   ]
  },
  {
   "cell_type": "code",
   "execution_count": 43,
   "metadata": {
    "collapsed": false
   },
   "outputs": [
    {
     "data": {
      "text/html": [
       "<div>\n",
       "<table border=\"1\" class=\"dataframe\">\n",
       "  <thead>\n",
       "    <tr style=\"text-align: right;\">\n",
       "      <th></th>\n",
       "      <th>feature</th>\n",
       "      <th>importance</th>\n",
       "    </tr>\n",
       "  </thead>\n",
       "  <tbody>\n",
       "    <tr>\n",
       "      <th>0</th>\n",
       "      <td>votes.cool</td>\n",
       "      <td>0.465400</td>\n",
       "    </tr>\n",
       "    <tr>\n",
       "      <th>2</th>\n",
       "      <td>votes.useful</td>\n",
       "      <td>0.231906</td>\n",
       "    </tr>\n",
       "    <tr>\n",
       "      <th>1</th>\n",
       "      <td>votes.funny</td>\n",
       "      <td>0.221460</td>\n",
       "    </tr>\n",
       "    <tr>\n",
       "      <th>77</th>\n",
       "      <td>tasted like</td>\n",
       "      <td>0.080366</td>\n",
       "    </tr>\n",
       "    <tr>\n",
       "      <th>69</th>\n",
       "      <td>really good</td>\n",
       "      <td>0.000868</td>\n",
       "    </tr>\n",
       "    <tr>\n",
       "      <th>80</th>\n",
       "      <td>ve seen</td>\n",
       "      <td>0.000000</td>\n",
       "    </tr>\n",
       "    <tr>\n",
       "      <th>57</th>\n",
       "      <td>make sure</td>\n",
       "      <td>0.000000</td>\n",
       "    </tr>\n",
       "    <tr>\n",
       "      <th>56</th>\n",
       "      <td>mac cheese</td>\n",
       "      <td>0.000000</td>\n",
       "    </tr>\n",
       "    <tr>\n",
       "      <th>55</th>\n",
       "      <td>love place</td>\n",
       "      <td>0.000000</td>\n",
       "    </tr>\n",
       "    <tr>\n",
       "      <th>54</th>\n",
       "      <td>looks like</td>\n",
       "      <td>0.000000</td>\n",
       "    </tr>\n",
       "  </tbody>\n",
       "</table>\n",
       "</div>"
      ],
      "text/plain": [
       "         feature  importance\n",
       "0     votes.cool    0.465400\n",
       "2   votes.useful    0.231906\n",
       "1    votes.funny    0.221460\n",
       "77   tasted like    0.080366\n",
       "69   really good    0.000868\n",
       "80       ve seen    0.000000\n",
       "57     make sure    0.000000\n",
       "56    mac cheese    0.000000\n",
       "55    love place    0.000000\n",
       "54    looks like    0.000000"
      ]
     },
     "execution_count": 43,
     "metadata": {},
     "output_type": "execute_result"
    }
   ],
   "source": [
    "feature_importance = pd.DataFrame({'feature':X.columns, \n",
    "                                   'importance':dtc_best.feature_importances_})\n",
    "\n",
    "feature_importance.sort_values('importance', ascending=False, inplace=True)\n",
    "feature_importance.head(10)"
   ]
  },
  {
   "cell_type": "raw",
   "metadata": {},
   "source": [
    "#write up features for service and not service compared with the star \n",
    "#compare service and not service\n",
    "\n",
    "Best features for service: 20 minutes, 15 minutes, 10 minutes, customer service\n",
    "\n",
    "Best for not service: votes.cool, votes.useful, votes.funny"
   ]
  },
  {
   "cell_type": "markdown",
   "metadata": {},
   "source": [
    "<img src=\"http://imgur.com/l5NasQj.png\" style=\"float: left; margin: 25px 15px 0px 0px; height: 25px\">\n",
    "\n",
    "## 3. Identifying \"elite\" users\n",
    "\n",
    "---\n",
    "\n",
    "Yelp, though having their own formula for determining whether a user is elite or not, is interested in delving deeper into what differentiates an elite user from a normal user at a broader level.\n",
    "\n",
    "Use a classification model to predict whether a user is elite or not. Note that users can be elite in some years and not in others.\n",
    "\n",
    "1. What things predict well whether a user is elite or not?\n",
    "- Validate the model.\n",
    "- If you were to remove the \"counts\" metrics for users (reviews, votes, compliments), what distinguishes an elite user, if anything? Validate the model and compare it to the one with the count variables.\n",
    "- Think of a way to visually represent your results in a compelling way.\n",
    "- Give a brief write-up of your findings.\n"
   ]
  },
  {
   "cell_type": "code",
   "execution_count": 44,
   "metadata": {
    "collapsed": false
   },
   "outputs": [
    {
     "data": {
      "text/html": [
       "<div>\n",
       "<table border=\"1\" class=\"dataframe\">\n",
       "  <thead>\n",
       "    <tr style=\"text-align: right;\">\n",
       "      <th></th>\n",
       "      <th>yelping_since</th>\n",
       "      <th>compliments.plain</th>\n",
       "      <th>review_count</th>\n",
       "      <th>compliments.cute</th>\n",
       "      <th>compliments.writer</th>\n",
       "      <th>fans</th>\n",
       "      <th>compliments.note</th>\n",
       "      <th>compliments.hot</th>\n",
       "      <th>compliments.cool</th>\n",
       "      <th>compliments.profile</th>\n",
       "      <th>...</th>\n",
       "      <th>compliments.more</th>\n",
       "      <th>elite</th>\n",
       "      <th>name</th>\n",
       "      <th>user_id</th>\n",
       "      <th>votes.cool</th>\n",
       "      <th>compliments.list</th>\n",
       "      <th>votes.funny</th>\n",
       "      <th>compliments.photos</th>\n",
       "      <th>compliments.funny</th>\n",
       "      <th>votes.useful</th>\n",
       "    </tr>\n",
       "  </thead>\n",
       "  <tbody>\n",
       "    <tr>\n",
       "      <th>0</th>\n",
       "      <td>2004-10</td>\n",
       "      <td>959.0</td>\n",
       "      <td>1274</td>\n",
       "      <td>206.0</td>\n",
       "      <td>327.0</td>\n",
       "      <td>1179</td>\n",
       "      <td>611.0</td>\n",
       "      <td>1094.0</td>\n",
       "      <td>1642.0</td>\n",
       "      <td>116.0</td>\n",
       "      <td>...</td>\n",
       "      <td>134.0</td>\n",
       "      <td>[2005, 2006, 2007, 2008, 2009, 2010, 2011, 201...</td>\n",
       "      <td>Jeremy</td>\n",
       "      <td>rpOyqD_893cqmDAtJLbdog</td>\n",
       "      <td>11093</td>\n",
       "      <td>38.0</td>\n",
       "      <td>7681</td>\n",
       "      <td>330.0</td>\n",
       "      <td>580.0</td>\n",
       "      <td>14199</td>\n",
       "    </tr>\n",
       "  </tbody>\n",
       "</table>\n",
       "<p>1 rows × 21 columns</p>\n",
       "</div>"
      ],
      "text/plain": [
       "  yelping_since  compliments.plain  review_count  compliments.cute  \\\n",
       "0       2004-10              959.0          1274             206.0   \n",
       "\n",
       "   compliments.writer  fans  compliments.note  compliments.hot  \\\n",
       "0               327.0  1179             611.0           1094.0   \n",
       "\n",
       "   compliments.cool  compliments.profile      ...       compliments.more  \\\n",
       "0            1642.0                116.0      ...                  134.0   \n",
       "\n",
       "                                               elite    name  \\\n",
       "0  [2005, 2006, 2007, 2008, 2009, 2010, 2011, 201...  Jeremy   \n",
       "\n",
       "                  user_id votes.cool  compliments.list  votes.funny  \\\n",
       "0  rpOyqD_893cqmDAtJLbdog      11093              38.0         7681   \n",
       "\n",
       "   compliments.photos  compliments.funny  votes.useful  \n",
       "0               330.0              580.0         14199  \n",
       "\n",
       "[1 rows x 21 columns]"
      ]
     },
     "execution_count": 44,
     "metadata": {},
     "output_type": "execute_result"
    }
   ],
   "source": [
    "users_copy = users.copy()\n",
    "users_copy.head(1)"
   ]
  },
  {
   "cell_type": "code",
   "execution_count": 45,
   "metadata": {
    "collapsed": true
   },
   "outputs": [],
   "source": [
    "users_copy['elite'] = users_copy['elite'].apply(lambda x: 1 if x != '[]' else 0)"
   ]
  },
  {
   "cell_type": "code",
   "execution_count": 46,
   "metadata": {
    "collapsed": false
   },
   "outputs": [
    {
     "data": {
      "text/html": [
       "<div>\n",
       "<table border=\"1\" class=\"dataframe\">\n",
       "  <thead>\n",
       "    <tr style=\"text-align: right;\">\n",
       "      <th></th>\n",
       "      <th>yelping_since</th>\n",
       "      <th>compliments.plain</th>\n",
       "      <th>review_count</th>\n",
       "      <th>compliments.cute</th>\n",
       "      <th>compliments.writer</th>\n",
       "      <th>fans</th>\n",
       "      <th>compliments.note</th>\n",
       "      <th>compliments.hot</th>\n",
       "      <th>compliments.cool</th>\n",
       "      <th>compliments.profile</th>\n",
       "      <th>...</th>\n",
       "      <th>compliments.more</th>\n",
       "      <th>elite</th>\n",
       "      <th>name</th>\n",
       "      <th>user_id</th>\n",
       "      <th>votes.cool</th>\n",
       "      <th>compliments.list</th>\n",
       "      <th>votes.funny</th>\n",
       "      <th>compliments.photos</th>\n",
       "      <th>compliments.funny</th>\n",
       "      <th>votes.useful</th>\n",
       "    </tr>\n",
       "  </thead>\n",
       "  <tbody>\n",
       "    <tr>\n",
       "      <th>0</th>\n",
       "      <td>2004-10</td>\n",
       "      <td>959.0</td>\n",
       "      <td>1274</td>\n",
       "      <td>206.0</td>\n",
       "      <td>327.0</td>\n",
       "      <td>1179</td>\n",
       "      <td>611.0</td>\n",
       "      <td>1094.0</td>\n",
       "      <td>1642.0</td>\n",
       "      <td>116.0</td>\n",
       "      <td>...</td>\n",
       "      <td>134.0</td>\n",
       "      <td>1</td>\n",
       "      <td>Jeremy</td>\n",
       "      <td>rpOyqD_893cqmDAtJLbdog</td>\n",
       "      <td>11093</td>\n",
       "      <td>38.0</td>\n",
       "      <td>7681</td>\n",
       "      <td>330.0</td>\n",
       "      <td>580.0</td>\n",
       "      <td>14199</td>\n",
       "    </tr>\n",
       "    <tr>\n",
       "      <th>1</th>\n",
       "      <td>2004-10</td>\n",
       "      <td>89.0</td>\n",
       "      <td>442</td>\n",
       "      <td>23.0</td>\n",
       "      <td>24.0</td>\n",
       "      <td>100</td>\n",
       "      <td>83.0</td>\n",
       "      <td>101.0</td>\n",
       "      <td>145.0</td>\n",
       "      <td>9.0</td>\n",
       "      <td>...</td>\n",
       "      <td>19.0</td>\n",
       "      <td>1</td>\n",
       "      <td>Michael</td>\n",
       "      <td>4U9kSBLuBDU391x6bxU-YA</td>\n",
       "      <td>732</td>\n",
       "      <td>4.0</td>\n",
       "      <td>908</td>\n",
       "      <td>24.0</td>\n",
       "      <td>120.0</td>\n",
       "      <td>1483</td>\n",
       "    </tr>\n",
       "    <tr>\n",
       "      <th>2</th>\n",
       "      <td>2004-10</td>\n",
       "      <td>2.0</td>\n",
       "      <td>66</td>\n",
       "      <td>2.0</td>\n",
       "      <td>2.0</td>\n",
       "      <td>4</td>\n",
       "      <td>1.0</td>\n",
       "      <td>1.0</td>\n",
       "      <td>1.0</td>\n",
       "      <td>NaN</td>\n",
       "      <td>...</td>\n",
       "      <td>1.0</td>\n",
       "      <td>1</td>\n",
       "      <td>Katherine</td>\n",
       "      <td>SIBCL7HBkrP4llolm4SC2A</td>\n",
       "      <td>13</td>\n",
       "      <td>NaN</td>\n",
       "      <td>11</td>\n",
       "      <td>NaN</td>\n",
       "      <td>NaN</td>\n",
       "      <td>34</td>\n",
       "    </tr>\n",
       "    <tr>\n",
       "      <th>3</th>\n",
       "      <td>2004-10</td>\n",
       "      <td>5.0</td>\n",
       "      <td>101</td>\n",
       "      <td>1.0</td>\n",
       "      <td>3.0</td>\n",
       "      <td>7</td>\n",
       "      <td>3.0</td>\n",
       "      <td>5.0</td>\n",
       "      <td>4.0</td>\n",
       "      <td>1.0</td>\n",
       "      <td>...</td>\n",
       "      <td>2.0</td>\n",
       "      <td>0</td>\n",
       "      <td>Nader</td>\n",
       "      <td>UTS9XcT14H2ZscRIf0MYHQ</td>\n",
       "      <td>49</td>\n",
       "      <td>NaN</td>\n",
       "      <td>53</td>\n",
       "      <td>1.0</td>\n",
       "      <td>8.0</td>\n",
       "      <td>243</td>\n",
       "    </tr>\n",
       "    <tr>\n",
       "      <th>4</th>\n",
       "      <td>2004-10</td>\n",
       "      <td>104.0</td>\n",
       "      <td>983</td>\n",
       "      <td>82.0</td>\n",
       "      <td>17.0</td>\n",
       "      <td>78</td>\n",
       "      <td>85.0</td>\n",
       "      <td>265.0</td>\n",
       "      <td>212.0</td>\n",
       "      <td>9.0</td>\n",
       "      <td>...</td>\n",
       "      <td>16.0</td>\n",
       "      <td>1</td>\n",
       "      <td>Helen</td>\n",
       "      <td>ZWOj6LmzwGvMDh-A85EOtA</td>\n",
       "      <td>1928</td>\n",
       "      <td>3.0</td>\n",
       "      <td>1109</td>\n",
       "      <td>57.0</td>\n",
       "      <td>70.0</td>\n",
       "      <td>2404</td>\n",
       "    </tr>\n",
       "  </tbody>\n",
       "</table>\n",
       "<p>5 rows × 21 columns</p>\n",
       "</div>"
      ],
      "text/plain": [
       "  yelping_since  compliments.plain  review_count  compliments.cute  \\\n",
       "0       2004-10              959.0          1274             206.0   \n",
       "1       2004-10               89.0           442              23.0   \n",
       "2       2004-10                2.0            66               2.0   \n",
       "3       2004-10                5.0           101               1.0   \n",
       "4       2004-10              104.0           983              82.0   \n",
       "\n",
       "   compliments.writer  fans  compliments.note  compliments.hot  \\\n",
       "0               327.0  1179             611.0           1094.0   \n",
       "1                24.0   100              83.0            101.0   \n",
       "2                 2.0     4               1.0              1.0   \n",
       "3                 3.0     7               3.0              5.0   \n",
       "4                17.0    78              85.0            265.0   \n",
       "\n",
       "   compliments.cool  compliments.profile      ...       compliments.more  \\\n",
       "0            1642.0                116.0      ...                  134.0   \n",
       "1             145.0                  9.0      ...                   19.0   \n",
       "2               1.0                  NaN      ...                    1.0   \n",
       "3               4.0                  1.0      ...                    2.0   \n",
       "4             212.0                  9.0      ...                   16.0   \n",
       "\n",
       "   elite       name                 user_id votes.cool  compliments.list  \\\n",
       "0      1     Jeremy  rpOyqD_893cqmDAtJLbdog      11093              38.0   \n",
       "1      1    Michael  4U9kSBLuBDU391x6bxU-YA        732               4.0   \n",
       "2      1  Katherine  SIBCL7HBkrP4llolm4SC2A         13               NaN   \n",
       "3      0      Nader  UTS9XcT14H2ZscRIf0MYHQ         49               NaN   \n",
       "4      1      Helen  ZWOj6LmzwGvMDh-A85EOtA       1928               3.0   \n",
       "\n",
       "   votes.funny  compliments.photos  compliments.funny  votes.useful  \n",
       "0         7681               330.0              580.0         14199  \n",
       "1          908                24.0              120.0          1483  \n",
       "2           11                 NaN                NaN            34  \n",
       "3           53                 1.0                8.0           243  \n",
       "4         1109                57.0               70.0          2404  \n",
       "\n",
       "[5 rows x 21 columns]"
      ]
     },
     "execution_count": 46,
     "metadata": {},
     "output_type": "execute_result"
    }
   ],
   "source": [
    "#users_copy['elite'] = users_copy['elite'].apply(lambda x: len(x.split()) if x != '[]' else 0)\n",
    "users_copy.head()"
   ]
  },
  {
   "cell_type": "code",
   "execution_count": 47,
   "metadata": {
    "collapsed": false
   },
   "outputs": [
    {
     "name": "stderr",
     "output_type": "stream",
     "text": [
      "/Users/lana/anaconda/envs/dsi/lib/python2.7/site-packages/pandas/core/frame.py:2762: SettingWithCopyWarning: \n",
      "A value is trying to be set on a copy of a slice from a DataFrame\n",
      "\n",
      "See the caveats in the documentation: http://pandas.pydata.org/pandas-docs/stable/indexing.html#indexing-view-versus-copy\n",
      "  downcast=downcast, **kwargs)\n"
     ]
    },
    {
     "data": {
      "text/html": [
       "<div>\n",
       "<table border=\"1\" class=\"dataframe\">\n",
       "  <thead>\n",
       "    <tr style=\"text-align: right;\">\n",
       "      <th></th>\n",
       "      <th>compliments.plain</th>\n",
       "      <th>review_count</th>\n",
       "      <th>compliments.cute</th>\n",
       "      <th>compliments.writer</th>\n",
       "      <th>fans</th>\n",
       "      <th>compliments.note</th>\n",
       "      <th>compliments.hot</th>\n",
       "      <th>compliments.cool</th>\n",
       "      <th>compliments.profile</th>\n",
       "      <th>average_stars</th>\n",
       "      <th>compliments.more</th>\n",
       "      <th>votes.cool</th>\n",
       "      <th>compliments.list</th>\n",
       "      <th>votes.funny</th>\n",
       "      <th>compliments.photos</th>\n",
       "      <th>compliments.funny</th>\n",
       "      <th>votes.useful</th>\n",
       "    </tr>\n",
       "  </thead>\n",
       "  <tbody>\n",
       "    <tr>\n",
       "      <th>0</th>\n",
       "      <td>959.0</td>\n",
       "      <td>1274</td>\n",
       "      <td>206.0</td>\n",
       "      <td>327.0</td>\n",
       "      <td>1179</td>\n",
       "      <td>611.0</td>\n",
       "      <td>1094.0</td>\n",
       "      <td>1642.0</td>\n",
       "      <td>116.0</td>\n",
       "      <td>3.66</td>\n",
       "      <td>134.0</td>\n",
       "      <td>11093</td>\n",
       "      <td>38.0</td>\n",
       "      <td>7681</td>\n",
       "      <td>330.0</td>\n",
       "      <td>580.0</td>\n",
       "      <td>14199</td>\n",
       "    </tr>\n",
       "    <tr>\n",
       "      <th>1</th>\n",
       "      <td>89.0</td>\n",
       "      <td>442</td>\n",
       "      <td>23.0</td>\n",
       "      <td>24.0</td>\n",
       "      <td>100</td>\n",
       "      <td>83.0</td>\n",
       "      <td>101.0</td>\n",
       "      <td>145.0</td>\n",
       "      <td>9.0</td>\n",
       "      <td>3.60</td>\n",
       "      <td>19.0</td>\n",
       "      <td>732</td>\n",
       "      <td>4.0</td>\n",
       "      <td>908</td>\n",
       "      <td>24.0</td>\n",
       "      <td>120.0</td>\n",
       "      <td>1483</td>\n",
       "    </tr>\n",
       "    <tr>\n",
       "      <th>2</th>\n",
       "      <td>2.0</td>\n",
       "      <td>66</td>\n",
       "      <td>2.0</td>\n",
       "      <td>2.0</td>\n",
       "      <td>4</td>\n",
       "      <td>1.0</td>\n",
       "      <td>1.0</td>\n",
       "      <td>1.0</td>\n",
       "      <td>0.0</td>\n",
       "      <td>3.80</td>\n",
       "      <td>1.0</td>\n",
       "      <td>13</td>\n",
       "      <td>0.0</td>\n",
       "      <td>11</td>\n",
       "      <td>0.0</td>\n",
       "      <td>0.0</td>\n",
       "      <td>34</td>\n",
       "    </tr>\n",
       "    <tr>\n",
       "      <th>3</th>\n",
       "      <td>5.0</td>\n",
       "      <td>101</td>\n",
       "      <td>1.0</td>\n",
       "      <td>3.0</td>\n",
       "      <td>7</td>\n",
       "      <td>3.0</td>\n",
       "      <td>5.0</td>\n",
       "      <td>4.0</td>\n",
       "      <td>1.0</td>\n",
       "      <td>3.58</td>\n",
       "      <td>2.0</td>\n",
       "      <td>49</td>\n",
       "      <td>0.0</td>\n",
       "      <td>53</td>\n",
       "      <td>1.0</td>\n",
       "      <td>8.0</td>\n",
       "      <td>243</td>\n",
       "    </tr>\n",
       "    <tr>\n",
       "      <th>4</th>\n",
       "      <td>104.0</td>\n",
       "      <td>983</td>\n",
       "      <td>82.0</td>\n",
       "      <td>17.0</td>\n",
       "      <td>78</td>\n",
       "      <td>85.0</td>\n",
       "      <td>265.0</td>\n",
       "      <td>212.0</td>\n",
       "      <td>9.0</td>\n",
       "      <td>4.02</td>\n",
       "      <td>16.0</td>\n",
       "      <td>1928</td>\n",
       "      <td>3.0</td>\n",
       "      <td>1109</td>\n",
       "      <td>57.0</td>\n",
       "      <td>70.0</td>\n",
       "      <td>2404</td>\n",
       "    </tr>\n",
       "  </tbody>\n",
       "</table>\n",
       "</div>"
      ],
      "text/plain": [
       "   compliments.plain  review_count  compliments.cute  compliments.writer  \\\n",
       "0              959.0          1274             206.0               327.0   \n",
       "1               89.0           442              23.0                24.0   \n",
       "2                2.0            66               2.0                 2.0   \n",
       "3                5.0           101               1.0                 3.0   \n",
       "4              104.0           983              82.0                17.0   \n",
       "\n",
       "   fans  compliments.note  compliments.hot  compliments.cool  \\\n",
       "0  1179             611.0           1094.0            1642.0   \n",
       "1   100              83.0            101.0             145.0   \n",
       "2     4               1.0              1.0               1.0   \n",
       "3     7               3.0              5.0               4.0   \n",
       "4    78              85.0            265.0             212.0   \n",
       "\n",
       "   compliments.profile  average_stars  compliments.more  votes.cool  \\\n",
       "0                116.0           3.66             134.0       11093   \n",
       "1                  9.0           3.60              19.0         732   \n",
       "2                  0.0           3.80               1.0          13   \n",
       "3                  1.0           3.58               2.0          49   \n",
       "4                  9.0           4.02              16.0        1928   \n",
       "\n",
       "   compliments.list  votes.funny  compliments.photos  compliments.funny  \\\n",
       "0              38.0         7681               330.0              580.0   \n",
       "1               4.0          908                24.0              120.0   \n",
       "2               0.0           11                 0.0                0.0   \n",
       "3               0.0           53                 1.0                8.0   \n",
       "4               3.0         1109                57.0               70.0   \n",
       "\n",
       "   votes.useful  \n",
       "0         14199  \n",
       "1          1483  \n",
       "2            34  \n",
       "3           243  \n",
       "4          2404  "
      ]
     },
     "execution_count": 47,
     "metadata": {},
     "output_type": "execute_result"
    }
   ],
   "source": [
    "no_good_cols = ['yelping_since', 'elite', 'name', 'user_id']\n",
    "mask = np.logical_not(users_copy.columns.isin(no_good_cols))\n",
    "X = users_copy[users_copy.columns[mask]]\n",
    "X.fillna(value=0, inplace=True)\n",
    "y = users_copy['elite']\n",
    "X.head()"
   ]
  },
  {
   "cell_type": "code",
   "execution_count": 48,
   "metadata": {
    "collapsed": false
   },
   "outputs": [
    {
     "name": "stdout",
     "output_type": "stream",
     "text": [
      "Logistic Regression: [ 0.94696549  0.94582825  0.94383113  0.94194175] 0.944641655688\n"
     ]
    }
   ],
   "source": [
    "#run model to see get featurs for elite users\n",
    "lr = LogisticRegression()\n",
    "logreg = lr.fit(X, y)\n",
    "\n",
    "#Logistic\n",
    "cls_scores = cross_val_score(lr, X, y, cv=4)\n",
    "\n",
    "print 'Logistic Regression:', cls_scores, np.mean(cls_scores)"
   ]
  },
  {
   "cell_type": "code",
   "execution_count": 49,
   "metadata": {
    "collapsed": false
   },
   "outputs": [
    {
     "name": "stdout",
     "output_type": "stream",
     "text": [
      "LogReg Score: 0.944580051037\n",
      "             precision    recall  f1-score   support\n",
      "\n",
      "          0       0.95      0.99      0.97     31779\n",
      "          1       0.87      0.63      0.73      4273\n",
      "\n",
      "avg / total       0.94      0.94      0.94     36052\n",
      "\n"
     ]
    }
   ],
   "source": [
    "X_train, X_test, y_train, y_test = train_test_split(X, y)\n",
    "\n",
    "y_pred = lr.predict(X_test)\n",
    "lr_score = lr.score(X_test, y_test)\n",
    "\n",
    "lr_report = classification_report(y_test, y_pred)\n",
    "\n",
    "print 'LogReg Score:', lr_score\n",
    "print lr_report"
   ]
  },
  {
   "cell_type": "code",
   "execution_count": 60,
   "metadata": {
    "collapsed": false
   },
   "outputs": [],
   "source": [
    "#run model again without counts of \n",
    "#use test train split\n"
   ]
  },
  {
   "cell_type": "markdown",
   "metadata": {},
   "source": [
    "<img src=\"http://imgur.com/GCAf1UX.png\" style=\"float: left; margin: 25px 15px 0px 0px; height: 25px\">\n",
    "\n",
    "## 4. Find something interesting on your own\n",
    "\n",
    "---\n",
    "\n",
    "You want to impress your superiors at Yelp by doing some investigation into the data on your own. You want to do classification, but you're not sure on what.\n",
    "\n",
    "1. Create a hypothesis or hypotheses about the data based on whatever you are interested in, as long as it is predicting a category of some kind (classification).\n",
    "2. Explore the data visually (ideally related to this hypothesis).\n",
    "3. Build one or more classification models to predict your target variable. **Your modeling should include gridsearching to find optimal model parameters.**\n",
    "4. Evaluate the performance of your model. Explain why your model may have chosen those specific parameters during the gridsearch process.\n",
    "5. Write up what the model tells you. Does it validate or invalidate your hypothesis? Write this up as if for a non-technical audience."
   ]
  },
  {
   "cell_type": "code",
   "execution_count": null,
   "metadata": {
    "collapsed": true
   },
   "outputs": [],
   "source": []
  },
  {
   "cell_type": "markdown",
   "metadata": {},
   "source": [
    "<img src=\"http://imgur.com/GCAf1UX.png\" style=\"float: left; margin: 25px 15px 0px 0px; height: 25px\">\n",
    "\n",
    "## 5. ROC and Precision-recall\n",
    "\n",
    "---\n",
    "\n",
    "Some categories have fewer overall businesses than others. Choose two categories of businesses to predict, one that makes your proportion of target classes as even as possible, and another that has very few businesses and thus makes the target varible imbalanced.\n",
    "\n",
    "1. Create two classification models predicting these categories. Optimize the models and choose variables as you see fit.\n",
    "- Make confusion matrices for your models. Describe the confusion matrices and explain what they tell you about your models' performance.\n",
    "- Make ROC curves for both models. What do the ROC curves describe and what do they tell you about your model?\n",
    "- Make Precision-Recall curves for the models. What do they describe? How do they compare to the ROC curves?\n",
    "- Explain when Precision-Recall may be preferable to ROC. Is that the case in either of your models?"
   ]
  },
  {
   "cell_type": "code",
   "execution_count": 58,
   "metadata": {
    "collapsed": false
   },
   "outputs": [
    {
     "data": {
      "image/png": "[encoded data removed]",
      "text/plain": [
       "<matplotlib.figure.Figure at 0x113715050>"
      ]
     },
     "metadata": {
      "image/png": {
       "height": 770,
       "width": 1045
      }
     },
     "output_type": "display_data"
    }
   ],
   "source": [
    "Y_score = logreg.decision_function(X_test)\n",
    "\n",
    "FPR = dict()\n",
    "TPR = dict()\n",
    "ROC_AUC = dict()\n",
    "\n",
    "# For class 1, find the area under the curve\n",
    "FPR[1], TPR[1], _ = roc_curve(y_test, Y_score)\n",
    "ROC_AUC[1] = auc(FPR[1], TPR[1])\n",
    "\n",
    "# Plot of a ROC curve for class 1 (has_cancer)\n",
    "plt.figure(figsize=[11,9])\n",
    "plt.plot(FPR[1], TPR[1], label='ROC curve (area = %0.2f)' % ROC_AUC[1], linewidth=4)\n",
    "plt.plot([0, 1], [0, 1], 'k--', linewidth=4)\n",
    "plt.xlim([0.0, 1.0])\n",
    "plt.ylim([0.0, 1.05])\n",
    "plt.xlabel('False Positive Rate', fontsize=18)\n",
    "plt.ylabel('True Positive Rate', fontsize=18)\n",
    "plt.legend(loc=\"lower right\")\n",
    "plt.show()"
   ]
  },
  {
   "cell_type": "markdown",
   "metadata": {
    "collapsed": true
   },
   "source": [
    "## OOP, Stochastic Gradient Descent, and Linear Algebra\n",
    "\n",
    "---\n",
    "\n",
    "In this part of the project, you will implement machine learning algorithms we have covered in class from scratch. \n",
    "\n",
    "--- "
   ]
  },
  {
   "cell_type": "markdown",
   "metadata": {},
   "source": [
    "<img src=\"http://imgur.com/GCAf1UX.png\" style=\"float: left; margin: 25px 15px 0px 0px; height: 25px\">\n",
    "\n",
    "### 6. Implement the `LinearRegrssion` class using Stochastic Gradient Descent to include the following: \n",
    "\n",
    "- An option to regularize the model with Ridge Regression. The method should automatically calculate the best `alpha` for the user. The closed form solution for Ridge Regression may be helpful [Hint: Think of the `n_alphas` parameter in sklearn]\n",
    "\n",
    "\n",
    "Protip: Compare if your implemenation works by applying it on the Diabetes Dataset and seeing it how it compares to opensource implemenations in `sklearn` and `statsmodels`. \n",
    "\n",
    "http://statsmodels.sourceforge.net/devel/examples/#regression\n",
    "\n",
    "http://scikit-learn.org/stable/auto_examples/linear_model/plot_ols.html"
   ]
  },
  {
   "cell_type": "code",
   "execution_count": null,
   "metadata": {
    "collapsed": true
   },
   "outputs": [],
   "source": []
  },
  {
   "cell_type": "markdown",
   "metadata": {},
   "source": [
    "<img src=\"http://imgur.com/GCAf1UX.png\" style=\"float: left; margin: 25px 15px 0px 0px; height: 25px\">\n",
    "\n",
    "### 7. Extend the Binary `LogisticRegression` model to implement Multi-class classification that fits the model using Stochastic Gradient Descent. Include the following : \n",
    "\n",
    "- Use the program we coded in class that implemented Logistic regression for Binary classification and extend it to implement Multi-class classification \n",
    "  - [Binary Logistic regression program](https://github.com/ga-students/DSI-SF-5/blob/master/curriculum/week-04/logistic_regression/Logistic_regression.py)\n",
    "\n",
    "- An option to regularize the model with Ridge Regression. The method should automatically calculate the best `alpha` for the user. The closed form solution for Ridge Regression may be helpful [Hint: Think of the `n_alphas` parameter in sklear\n",
    "\n",
    "Check if the results of your `LogisticRegression` implementation matches with the Sklearn implementation: http://scikit-learn.org/stable/modules/generated/sklearn.linear_model.LogisticRegression.html"
   ]
  },
  {
   "cell_type": "code",
   "execution_count": null,
   "metadata": {
    "collapsed": true
   },
   "outputs": [],
   "source": []
  },
  {
   "cell_type": "markdown",
   "metadata": {},
   "source": [
    "<img src=\"http://imgur.com/GCAf1UX.png\" style=\"float: left; margin: 25px 15px 0px 0px; height: 25px\">\n",
    "### 8. Singular Value Decomposition \n",
    "\n",
    "- Read articles on image compression with SVD and use `numpy` apply it to images from the MNIST Datasets. To get the MNIST Datset, use the following comands. Note that the `mnist` data has shape `(70000, 784)`. You will need to convert it to 28x28 images [Hint: `np.reshape`]. \n",
    "       \n",
    "       from sklearn.datasets import fetch_mldata\n",
    "       mnist = fetch_mldata('MNIST original', data_home=custom_data_home)\n",
    "\n",
    "    https://inst.eecs.berkeley.edu/~ee127a/book/login/l_svd_apps_image.html\n",
    "\n",
    "    http://www.frankcleary.com/svdimage/\n",
    "    \n",
    "    \n",
    "- Apply Logistic Regression to classify MNIST Images. This may require having the images be `784` dimensions rather than `28x28`. Compare results of the classifier on a test set when you apply it on the raw dataset vs. the compressed version of dataset from SVD. "
   ]
  },
  {
   "cell_type": "code",
   "execution_count": null,
   "metadata": {
    "collapsed": true
   },
   "outputs": [],
   "source": []
  },
  {
   "cell_type": "markdown",
   "metadata": {},
   "source": [
    "## Optional: Interview Practice"
   ]
  },
  {
   "cell_type": "markdown",
   "metadata": {},
   "source": [
    "## Coding Questions \n",
    "- Implement Binary Search in Python and write down the algorithmic complexity of the Binary Search Algorithm.\n",
    "\n",
    "\n",
    "- Implement Merge Sort in Python [Hint: First implement the `merge` function that combines two sorted arrays into one sorted array linear time]. What is the time complexity of `mergesort` ?\n",
    "\n",
    "\n",
    "- Find the closest pair from two sorted arrays. Given two sorted arrays and a number x, find the pair whose sum is closest to x and the pair has an element from each array. We are given two arrays ar1[0…m-1] and ar2[0..n-1] and a number x, we need to find the pair ar1[i] + ar2[j] such that absolute value of (ar1[i] + ar2[j] – x) is minimum. What is the time complexity of this algorithm?"
   ]
  },
  {
   "cell_type": "code",
   "execution_count": null,
   "metadata": {
    "collapsed": false
   },
   "outputs": [],
   "source": [
    "#Implement Binary Search in Python and write down the algorithmic complexity of the Binary Search Algorithm.\n",
    "def binary_search(sorted_list, num):\n",
    "    if not sorted_list:\n",
    "        return False\n",
    "    else:\n",
    "        mid_idx = len(sorted_list)/2\n",
    "        midpoint = sorted_list[mid_idx]\n",
    "        if midpoint == num:\n",
    "            return True\n",
    "        elif midpoint > num:\n",
    "            return binary_search(sorted_list[:mid_idx], num)\n",
    "        elif midpoint < num:\n",
    "            return binary_search(sorted_list[mid_idx+1:], num)\n",
    "        \n",
    "\n",
    "sorted_list = range(100)\n",
    "\n",
    "assert binary_search(sorted_list, -1) == False\n",
    "assert binary_search(sorted_list, 100) == False\n",
    "assert binary_search(sorted_list, 50) == True\n",
    "assert binary_search(sorted_list, 101) == False\n",
    "assert binary_search(sorted_list, 0) == True\n",
    "\n",
    "#the algorithmic complexity of the Binary Search Algorithm is O(log n) \n",
    "#because the list is being divided in half until it is found"
   ]
  },
  {
   "cell_type": "code",
   "execution_count": null,
   "metadata": {
    "collapsed": false
   },
   "outputs": [],
   "source": [
    "#Implement Merge Sort in Python. What is the time complexity of mergesort?\n",
    "def merge_sort(input_list):\n",
    "    if len(input_list) <= 1:\n",
    "        return input_list\n",
    "    \n",
    "    print input_list\n",
    "    mid = len(input_list) / 2\n",
    "    left = merge_sort(input_list[:mid])\n",
    "    print \"Left \", left\n",
    "    right = merge_sort(input_list[mid:])\n",
    "    print \"Right \", right\n",
    "    return merge(left,right)\n",
    "    \n",
    "\n",
    "def merge(left,right):\n",
    "    if not left:\n",
    "        return right\n",
    "    if not right:\n",
    "        return left\n",
    "    first_left = left[0]\n",
    "    first_right = right[0]\n",
    "    if first_left < first_right:\n",
    "        return [first_left] + merge(left[1:], right)\n",
    "    else:\n",
    "        return [first_right] + merge(left, right[1:])\n",
    "\n",
    "#the algorithmic complexity of the Binary Search Algorithm is O(n log n) "
   ]
  },
  {
   "cell_type": "code",
   "execution_count": null,
   "metadata": {
    "collapsed": true
   },
   "outputs": [],
   "source": [
    "#Find the closest pair from two sorted arrays. Given two sorted arrays and a number x, \n",
    "#find the pair whose sum is closest to x and the pair has an element from each array. \n",
    "#We are given two arrays ar1[0…m-1] and ar2[0..n-1] and a number x, we need to find \n",
    "#the pair ar1[i] + ar2[j] such that absolute value of (ar1[i] + ar2[j] – x) is minimum. \n",
    "#What is the time complexity of this algorithm?\n",
    "\n",
    "\n",
    "def closestpair(ar1, ar2, num):\n",
    "    \n",
    "    \n",
    "    \n",
    "#to figure out logic    \n",
    "    for i in ar1:\n",
    "        for j in ar2:\n",
    "            asum = arl[i]+ar2[j]\n",
    "            asub = abs(num-asum)\n",
    "                              \n",
    "                \n",
    "    \n",
    "\n",
    "\n",
    "\n"
   ]
  },
  {
   "cell_type": "markdown",
   "metadata": {},
   "source": [
    "## Probability  and Statistics Questions \n",
    "\n",
    "- In any 15-minute interval, there is a 20% probability that you will see at least one shooting star. What is the probability that you see at least one shooting star in the period of an hour?"
   ]
  },
  {
   "cell_type": "markdown",
   "metadata": {},
   "source": [
    "- A certain couple tells you that they have two children, at least one of which is a girl. What is the probability that they have two girls?"
   ]
  },
  {
   "cell_type": "code",
   "execution_count": null,
   "metadata": {
    "collapsed": true
   },
   "outputs": [],
   "source": []
  },
  {
   "cell_type": "markdown",
   "metadata": {},
   "source": [
    "## Interview Questions Related to Material\n",
    "\n",
    "- Explain what is bias-variance tradeoff to a non-technical person. Why is it a useful framework? How do you detect bias in your models? How about you variance? \n",
    "\n",
    "        Bias-variance tradeoff is about how general or specfic you want your model to be. Bias-variance tradeoff is useful because you want a model that works for any possible cases, not just the data you're testing against. If a model is too general (bias), then it is doesn't really work. If the model is too specfic/complex (variance) then your model will only work is certain cases or just one the data you provided. \n",
    "        Cross-validation is a \n",
    "\n",
    "\n",
    "- Explain why cross-validation is important.\n",
    "\n",
    "        Cross-validation is important because it checks your model with your data to ensure that you don't overfit your model. It is also good pratice to used diffent sets of data to train and test your models\n",
    "\n",
    "\n",
    "- What is regularization? What are the advantages/disadvantages of different types of regularization schemes? \n",
    "        Regularization is used to prevent overfitting.\n",
    "        \n",
    "        Ridge\n",
    "        Lasso\n",
    "        Elastic Net\n",
    "\n",
    "\n",
    "- What are the loss functions associated with linear regression, logistic regression, and KNN? \n",
    "\n",
    "\n",
    "- Can you give examples of feature engineering on datasets you have worked with? \n",
    "        Taking the mean and the standard deviations on the testing data."
   ]
  }
 ],
 "metadata": {
  "anaconda-cloud": {},
  "kernelspec": {
   "display_name": "Python [conda env:dsi]",
   "language": "python",
   "name": "conda-env-dsi-py"
  },
  "language_info": {
   "codemirror_mode": {
    "name": "ipython",
    "version": 2
   },
   "file_extension": ".py",
   "mimetype": "text/x-python",
   "name": "python",
   "nbconvert_exporter": "python",
   "pygments_lexer": "ipython2",
   "version": "2.7.12"
  }
 },
 "nbformat": 4,
 "nbformat_minor": 0
}
