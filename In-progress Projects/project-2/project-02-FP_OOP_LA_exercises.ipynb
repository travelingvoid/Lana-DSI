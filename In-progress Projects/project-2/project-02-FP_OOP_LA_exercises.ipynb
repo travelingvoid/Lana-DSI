{
 "cells": [
  {
   "cell_type": "markdown",
   "metadata": {},
   "source": [
    "## Functional & Object Oriented Programming "
   ]
  },
  {
   "cell_type": "markdown",
   "metadata": {},
   "source": [
    "### Functional Programming in Python\n",
    "In class, we briefly explored the Functional Programming in Python through lambda functions, map, filter, iterators, generators, and deocrators. This note will review those ideas. "
   ]
  },
  {
   "cell_type": "markdown",
   "metadata": {},
   "source": [
    "#### Lambda Functions \n"
   ]
  },
  {
   "cell_type": "markdown",
   "metadata": {
    "collapsed": false
   },
   "source": [
    "Exercise : For this exercise solve the following problem on Hackerrank and post your solution in the cell below\n",
    "\n",
    "[Validating Email addresses with a Filter](https://www.hackerrank.com/contests/pythonista-practice-session/challenges/validate-list-of-email-address-with-filter)\n"
   ]
  },
  {
   "cell_type": "code",
   "execution_count": null,
   "metadata": {
    "collapsed": true
   },
   "outputs": [],
   "source": [
    "#Write code here"
   ]
  },
  {
   "cell_type": "markdown",
   "metadata": {},
   "source": [
    "#### Generators\n",
    "\n",
    "Exercise :\n",
    "Write a infinite generator that successively yields the triangle numbers 0, 1, 3, 6, 10, ...\n",
    "\n",
    "[Triangle Numbers](https://en.wikipedia.org/wiki/Triangular_number)"
   ]
  },
  {
   "cell_type": "code",
   "execution_count": 6,
   "metadata": {
    "collapsed": false
   },
   "outputs": [
    {
     "data": {
      "text/plain": [
       "6"
      ]
     },
     "execution_count": 6,
     "metadata": {},
     "output_type": "execute_result"
    }
   ],
   "source": [
    "### Generators\n",
    "\"\"\"\n",
    "Exercise :\n",
    "Write a infinite generator that successively yields the triangle numbers 0, 1, 3, 6, 10, ...\n",
    "\n",
    "Triangle Numbers : https://en.wikipedia.org/wiki/Triangular_number\n",
    "\n",
    "sum = 0\n",
    "for x in range(a):\n",
    "    sum = sum + x\n",
    "\"\"\"\n",
    "def generate_triangles():\n",
    "    a, b = 0, 0\n",
    "    while True:\n",
    "        a = a + b\n",
    "        b += 1\n",
    "        yield a\n",
    "\n",
    "g = generate_triangles()\n",
    "next(g)\n",
    "next(g)\n",
    "next(g)\n",
    "next(g)"
   ]
  },
  {
   "cell_type": "code",
   "execution_count": 3,
   "metadata": {
    "collapsed": false
   },
   "outputs": [
    {
     "name": "stdout",
     "output_type": "stream",
     "text": [
      "0\n",
      "1\n",
      "3\n",
      "6\n",
      "10\n",
      "15\n",
      "21\n",
      "28\n",
      "36\n",
      "45\n"
     ]
    }
   ],
   "source": [
    "\"\"\"\n",
    "Use your generator to write a function triangles_under(n) that prints out all triangle\n",
    "numbers strictly less than the parameter n.\n",
    "\n",
    "\"\"\"\n",
    "def triangles_under(n):\n",
    "    for f in generate_triangles():\n",
    "        if f > n:\n",
    "            break\n",
    "        print(f)\n",
    "        \n",
    "triangles_under(50)"
   ]
  },
  {
   "cell_type": "markdown",
   "metadata": {},
   "source": [
    "#### Decorators \n",
    "Exercise : Standardize Mobile Numbers using Decorators\n",
    "\n",
    "Make a list of the mobile numbers and pass it to a function that sorts the array \n",
    "in ascending order. Make a decorator that standardizes the mobile numbers and \n",
    "apply it to the function.\n",
    "\n",
    "Input : Take a list of mobile numbers. Sort them in ascending order then print them in \n",
    "the standard format shown below:\n",
    "    \n",
    "    +1 xxx xxx xxxx\n",
    "\n",
    "The given mobile numbers may have +1, 1 or 0 written before the actual digit number. \n",
    "Alternatively, there may not be any prefix at all. \n",
    "\n",
    "Sample Input : \n",
    "    06502505121\n",
    "    +19658764040\n",
    "\n",
    "Sample output :\n",
    "    +1 650 250 5121\n",
    "    +1 965 876 4040\n"
   ]
  },
  {
   "cell_type": "code",
   "execution_count": null,
   "metadata": {
    "collapsed": false
   },
   "outputs": [],
   "source": [
    "\"\"\"\n",
    "def wrapper(f):\n",
    "    def fun(l):\n",
    "        phonelist = []\n",
    "        for item in l:\n",
    "            phone = item[0:2] + \" \" + item[2:5] + \" \" + item[5:8] + \" \" + item[8:12]\n",
    "            phonelist.append(phone)\n",
    "    return fun\n",
    "\n",
    "        elif len(item) == 10:\n",
    "            new_list.append(\"+1\" + item)\n",
    "elif item[0] == '0':\n",
    "            new_list.append(\"+1\" + item[1:])\n",
    "        elif item[0] != '+':\n",
    "            new_list.append(\"+\" + item)\n",
    "        elif item[1] != '1':\n",
    "            new_list.append(item[0] + '1' + item[1:])\n",
    "        else:\n",
    "            new_list.append(item)\n",
    "\"\"\"\n",
    "\"\"\"\n",
    "def fun(l):\n",
    "    phonelist = []\n",
    "    for item in l:\n",
    "        phone = \"+1 \" + item[-10:-7] + \" \" + item[-7:-4] + \" \" + item[-4:]\n",
    "        phonelist.append(phone)\n",
    "    return phonelist\n",
    "\n",
    "def wrapper(f):\n",
    "    def fun(l):\n",
    "        new_list = []\n",
    "        for item in l:\n",
    "            item = str(item)\n",
    "            if len(item) >= 10:\n",
    "                #new_list.append(item[-10:])\n",
    "                print \"+1 \" + item[-10:-7] + \" \" + item[-7:-4] + \" \" + item[-4:]\n",
    "    return fun\n",
    "\n",
    "@wrapper\n",
    "def phone(phone_list):\n",
    "    print sorted(phone_list)\n",
    "    \n",
    "phone(us_phone_numbers)    \n",
    "    \n",
    "\"\"\""
   ]
  },
  {
   "cell_type": "code",
   "execution_count": 28,
   "metadata": {
    "collapsed": false
   },
   "outputs": [],
   "source": [
    "us_phone_numbers = ['06295539993', 12455147864, '+14984567027', 5555555, '02143791793', \n",
    "                    3049532512, 5254162249, 16242380135, '07397028947', '+12819467837']"
   ]
  },
  {
   "cell_type": "code",
   "execution_count": 37,
   "metadata": {
    "collapsed": false
   },
   "outputs": [
    {
     "name": "stdout",
     "output_type": "stream",
     "text": [
      "+1 214 379 1793\n",
      "+1 245 514 7864\n",
      "+1 281 946 7837\n",
      "+1 304 953 2512\n",
      "+1 498 456 7027\n",
      "+1 525 416 2249\n",
      "+1 624 238 0135\n",
      "+1 629 553 9993\n",
      "+1 739 702 8947\n"
     ]
    }
   ],
   "source": [
    "#Write code here\n",
    "#f('+1 {} {} {}'.format(n[-10:-6], n[-6:-3], n[-3:]) for n in l)\n",
    "def fun(l):\n",
    "    for n in l:\n",
    "        #n = str(n)\n",
    "        print \"+1 \" + n[-10:-7] + \" \" + n[-7:-4] + \" \" + n[-4:]\n",
    "\n",
    "def phone(phone_list):\n",
    "    new_list = []\n",
    "    for item in phone_list:\n",
    "        item = str(item)\n",
    "        if len(item) >= 10:\n",
    "            new_list.append(item[-10:])\n",
    "    return sorted(new_list)\n",
    "\n",
    "fun(phone(us_phone_numbers))"
   ]
  },
  {
   "cell_type": "code",
   "execution_count": 36,
   "metadata": {
    "collapsed": false
   },
   "outputs": [
    {
     "name": "stdout",
     "output_type": "stream",
     "text": [
      "['06295539993', 12455147864, '+14984567027', 5555555, '02143791793', 3049532512, 5254162249, 16242380135, '07397028947', '+12819467837']\n",
      "+1 629 553 9993\n",
      "['06295539993', 12455147864, '+14984567027', 5555555, '02143791793', 3049532512, 5254162249, 16242380135, '07397028947', '+12819467837']\n"
     ]
    },
    {
     "ename": "TypeError",
     "evalue": "'int' object has no attribute '__getitem__'",
     "output_type": "error",
     "traceback": [
      "\u001b[0;31m---------------------------------------------------------------------------\u001b[0m",
      "\u001b[0;31mTypeError\u001b[0m                                 Traceback (most recent call last)",
      "\u001b[0;32m<ipython-input-36-bdaf07d5b11b>\u001b[0m in \u001b[0;36m<module>\u001b[0;34m()\u001b[0m\n\u001b[1;32m     17\u001b[0m     \u001b[0;32mreturn\u001b[0m \u001b[0msorted\u001b[0m\u001b[0;34m(\u001b[0m\u001b[0mnew_list\u001b[0m\u001b[0;34m)\u001b[0m\u001b[0;34m\u001b[0m\u001b[0m\n\u001b[1;32m     18\u001b[0m \u001b[0;34m\u001b[0m\u001b[0m\n\u001b[0;32m---> 19\u001b[0;31m \u001b[0mphone\u001b[0m\u001b[0;34m(\u001b[0m\u001b[0mus_phone_numbers\u001b[0m\u001b[0;34m)\u001b[0m\u001b[0;34m\u001b[0m\u001b[0m\n\u001b[0m",
      "\u001b[0;32m<ipython-input-36-bdaf07d5b11b>\u001b[0m in \u001b[0;36mfun\u001b[0;34m(l)\u001b[0m\n\u001b[1;32m      5\u001b[0m             \u001b[0;32mprint\u001b[0m \u001b[0ml\u001b[0m\u001b[0;34m\u001b[0m\u001b[0m\n\u001b[1;32m      6\u001b[0m             \u001b[0;31m#n = str(n)\u001b[0m\u001b[0;34m\u001b[0m\u001b[0;34m\u001b[0m\u001b[0m\n\u001b[0;32m----> 7\u001b[0;31m             \u001b[0;32mprint\u001b[0m \u001b[0;34m\"+1 \"\u001b[0m \u001b[0;34m+\u001b[0m \u001b[0mn\u001b[0m\u001b[0;34m[\u001b[0m\u001b[0;34m-\u001b[0m\u001b[0;36m10\u001b[0m\u001b[0;34m:\u001b[0m\u001b[0;34m-\u001b[0m\u001b[0;36m7\u001b[0m\u001b[0;34m]\u001b[0m \u001b[0;34m+\u001b[0m \u001b[0;34m\" \"\u001b[0m \u001b[0;34m+\u001b[0m \u001b[0mn\u001b[0m\u001b[0;34m[\u001b[0m\u001b[0;34m-\u001b[0m\u001b[0;36m7\u001b[0m\u001b[0;34m:\u001b[0m\u001b[0;34m-\u001b[0m\u001b[0;36m4\u001b[0m\u001b[0;34m]\u001b[0m \u001b[0;34m+\u001b[0m \u001b[0;34m\" \"\u001b[0m \u001b[0;34m+\u001b[0m \u001b[0mn\u001b[0m\u001b[0;34m[\u001b[0m\u001b[0;34m-\u001b[0m\u001b[0;36m4\u001b[0m\u001b[0;34m:\u001b[0m\u001b[0;34m]\u001b[0m\u001b[0;34m\u001b[0m\u001b[0m\n\u001b[0m\u001b[1;32m      8\u001b[0m     \u001b[0;32mreturn\u001b[0m \u001b[0mfun\u001b[0m\u001b[0;34m\u001b[0m\u001b[0m\n\u001b[1;32m      9\u001b[0m \u001b[0;34m\u001b[0m\u001b[0m\n",
      "\u001b[0;31mTypeError\u001b[0m: 'int' object has no attribute '__getitem__'"
     ]
    }
   ],
   "source": [
    "#why doesn't the logic from above not work with a wrapper?\n",
    "def wrapper(f):\n",
    "    def fun(l): \n",
    "        for n in l:\n",
    "            print l\n",
    "            #n = str(n)\n",
    "            print \"+1 \" + n[-10:-7] + \" \" + n[-7:-4] + \" \" + n[-4:]\n",
    "    return fun\n",
    "\n",
    "@wrapper\n",
    "def phone(phone_list):\n",
    "    new_list = []\n",
    "    for item in phone_list:\n",
    "        item = str(item)\n",
    "        if len(item) >= 10:\n",
    "            new_list.append(item[-10:])\n",
    "    return sorted(new_list)\n",
    "    \n",
    "phone(us_phone_numbers)"
   ]
  },
  {
   "cell_type": "markdown",
   "metadata": {},
   "source": [
    "### Object Oriented Programming in Python"
   ]
  },
  {
   "cell_type": "markdown",
   "metadata": {},
   "source": [
    "#### Exercise 1: "
   ]
  },
  {
   "cell_type": "code",
   "execution_count": null,
   "metadata": {
    "collapsed": false
   },
   "outputs": [],
   "source": [
    "# Before compiling the following code snippets, write down what\n",
    "# each individual call will return in an inline comment. \n",
    "# If you think it returns an error, why would it be the case. \n",
    " \n",
    "\n",
    "class Account(object):\n",
    "    interest = 0.02\n",
    "    def __init__(self, account_holder):\n",
    "        self.balance = 0\n",
    "        self.holder = account_holder\n",
    "    def deposit(self, amount):\n",
    "        self.balance = self.balance + amount\n",
    "        print(\"Yes!\")\n",
    "\n",
    "a = Account(\"Billy\") # Account class is initializes as a\n",
    "____________\n",
    "\n",
    "a.account_holder # Return error because account_holder isn't set as a str value\n",
    "____________\n",
    "\n",
    "Account.holder # Return error because a holder hasn't been assigned to the class\n",
    "______\n",
    "\n",
    "Account.interest # 0.02\n",
    "______\n",
    "\n",
    "a.interest # 0.02\n",
    "______\n",
    "\n",
    "Account.interest = 0.03 \n",
    "a.interest  #0.03\n",
    "______ #interest have been set to 0.03 because Account.interest changes the class \n",
    "\n",
    "a.deposit(1000) # Yes!\n",
    "______\n",
    "\n",
    "a.balance  # 1000\n",
    "______"
   ]
  },
  {
   "cell_type": "markdown",
   "metadata": {},
   "source": [
    "#### Exercise 2: Timed Key Value Store \n",
    "\n",
    "At a high-level, we'll be building a key-value store (think Dictionary or HashMap) that has a get method that takes an optional second parameter as a time object in Python to return the most recent value before that period in time. If no key-value pair was added to the map before that period in time, return None.\n",
    "\n",
    "For consistency’s sake, let’s call this class TimedKVStore and put it into a file called kv_store.py\n",
    "\n",
    "You’ll need some sort of time object to track when key-value pairs are getting added to this map. Consider using the time module from Python Docs\n",
    "\n",
    "To give you an idea of how this class works, this is what should happen after you implement TimedKVStore.\n",
    "\n"
   ]
  },
  {
   "cell_type": "code",
   "execution_count": null,
   "metadata": {
    "collapsed": true
   },
   "outputs": [],
   "source": [
    "d = TimedKVStore()\n",
    "\n",
    "t0 = time.time()\n",
    "d.put(\"1\", 1)\n",
    "\n",
    "t1 = time.time()\n",
    "d.put(\"1\", 1.1)\n",
    "\n",
    "d.get(\"1\")\n",
    "#Output : 1.1\n",
    "        \n",
    "d.get(\"1\", t1)\n",
    "#Output : 1\n",
    "    \n",
    "d.get(\"1\", t0)\n",
    "#Output : None"
   ]
  },
  {
   "cell_type": "code",
   "execution_count": null,
   "metadata": {
    "collapsed": true
   },
   "outputs": [],
   "source": [
    "#Write code here \n",
    "#it imitatades a dictionary, if there is a key. \n",
    "#Define TimedKVStore\n",
    "#Define the init() method\n",
    "#\n",
    "class TimedKVStore(object):\n",
    "    def __init__(self):\n",
    "        self.key\n",
    "        self.value\n",
    "    def time(key, value):\n",
    "        \n",
    "    def get(value, key=None):\n",
    "        \n",
    "        print \"Output : {}\".format()\n",
    "        "
   ]
  },
  {
   "cell_type": "markdown",
   "metadata": {
    "collapsed": true
   },
   "source": [
    "#### Exercise 3 : \n",
    "For this problem you will be creating a class and apply OOP priciples to it. The problem is divided into two parts.\n",
    "\n",
    "#### 1. PART 1: \n",
    "* Define a Rocket() class.\n",
    "* Define the __init__() method. Let your __init__() method accept x and y values for the initial position of the rocket. Make sure the default behavior is to position the rocket at (0,0).\n",
    "* Define the move_rocket() method. The method should accept an amount to move (x,y)\n",
    "* Create a Rocket object. Move the rocket around, printing its position after each move.\n",
    "* Create a small fleet of rockets. Move several of them around, and print their final positions to prove that each rocket can move independently of the other rockets.\n",
    "* Define the get_distance() method. The method should accept a Rocket object, and calculate the distance between the current rocket and the rocket that is passed into the method.\n",
    "* Use the get_distance() method to print the distances between several of the rockets in your fleet.\n",
    "\n",
    "#### 2. PART 2 : Applying Inheritance\n",
    "* Define a class SpaceShuttle() which extends class Rocket()\n",
    "* Add more attributes that are particular to space shuttles such as maximum number of flights, capability of supporting spacewalks, and capability of docking with the ISS.\n",
    "* Add a method to the class, that relates to shuttle behavior. This method could simply print a statement, such as \"Docking with the ISS,\" for a dock_ISS() method.\n",
    "* Create a Shuttle object with these attributes, and then call your new method.\n",
    "\n",
    "Hints/Notes :\n",
    "* You can use the Euclidean distance to calculate the distances between different Rocket objects\n",
    "\n",
    "    - Euclidean distance((x, y), (a, b)) = √(x - a)² + (y - b)²\n",
    "\n"
   ]
  },
  {
   "cell_type": "code",
   "execution_count": 39,
   "metadata": {
    "collapsed": false
   },
   "outputs": [
    {
     "name": "stdout",
     "output_type": "stream",
     "text": [
      "0, 3\n",
      "4, 0\n",
      "5, 4\n",
      "0, 8\n",
      "5.0\n",
      "5.0\n",
      "8.94427191\n"
     ]
    }
   ],
   "source": [
    "#Write code here \n",
    "import math\n",
    "\n",
    "class Rocket(object):\n",
    "    def __init__(self, x=0, y=0):\n",
    "        self.x = x\n",
    "        self.y = y\n",
    "    def move_rocket(self, x, y):\n",
    "        self.x = self.x + x\n",
    "        self.y = self.y + y\n",
    "        print \"{}, {}\".format(self.x, self.y)\n",
    "    def get_distance(self, new_rocket):\n",
    "        distance = math.sqrt((self.x - new_rocket.x)**2 + (self.y - new_rocket.y)**2)\n",
    "        print distance\n",
    "    \n",
    "r1 = Rocket()\n",
    "r2 = Rocket()\n",
    "r3 = Rocket()\n",
    "r1.move_rocket(0, 3)\n",
    "r2.move_rocket(4, 0)\n",
    "r3.move_rocket(5, 4)\n",
    "r3.move_rocket(-5, 4)\n",
    "r1.get_distance(r2)\n",
    "r1.get_distance(r3)\n",
    "r2.get_distance(r3)    "
   ]
  },
  {
   "cell_type": "code",
   "execution_count": 41,
   "metadata": {
    "collapsed": false
   },
   "outputs": [
    {
     "name": "stdout",
     "output_type": "stream",
     "text": [
      "7, 3\n",
      "4.24264068712\n",
      "8, 7\n",
      "Docking with the ISS.\n",
      "Shuttle cannot dock with the ISS\n"
     ]
    }
   ],
   "source": [
    "class SpaceShuttle(Rocket):    \n",
    "    max_flights = 2\n",
    "    spacewalks = True\n",
    "    docking = True\n",
    "    def dock_ISS(self):\n",
    "        if self.docking:\n",
    "            print \"Docking with the ISS.\"\n",
    "        else:\n",
    "            print \"Shuttle cannot dock with the ISS\"\n",
    "        \n",
    "s1 = SpaceShuttle()\n",
    "s1.move_rocket(7, 3)\n",
    "s1.get_distance(r2)\n",
    "s1.move_rocket(1, 4)\n",
    "s1.dock_ISS()\n",
    "s1.docking = False\n",
    "s1.dock_ISS()"
   ]
  },
  {
   "cell_type": "markdown",
   "metadata": {},
   "source": [
    "### Linear Algebra Review\n",
    "\n",
    "Exercise: Read through and review [Stanford's Linear Algebra Review](http://cs229.stanford.edu/section/cs229-linalg.pdf) \n",
    "\n",
    "\n",
    "Exercise : Go through videos : \n",
    "[Chapter 7 ,Chapter 9 , Chapter 10 , Chapter 11](https://www.youtube.com/playlist?list=PLZHQObOWTQDPD3MizzM2xVFitgF8hE_ab) and try to derive the algorithmic complexity of each vector and matrix operation. \n"
   ]
  },
  {
   "cell_type": "code",
   "execution_count": null,
   "metadata": {
    "collapsed": true
   },
   "outputs": [],
   "source": [
    "#get bigO notataion for matrix addition, multiplication and etc\n",
    "\n",
    "\n",
    "inner product\n",
    "outer product"
   ]
  }
 ],
 "metadata": {
  "anaconda-cloud": {},
  "kernelspec": {
   "display_name": "Python [default]",
   "language": "python",
   "name": "python2"
  },
  "language_info": {
   "codemirror_mode": {
    "name": "ipython",
    "version": 2
   },
   "file_extension": ".py",
   "mimetype": "text/x-python",
   "name": "python",
   "nbconvert_exporter": "python",
   "pygments_lexer": "ipython2",
   "version": "2.7.12"
  }
 },
 "nbformat": 4,
 "nbformat_minor": 1
}
