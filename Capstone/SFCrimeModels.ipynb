{
 "cells": [
  {
   "cell_type": "code",
   "execution_count": 1,
   "metadata": {
    "collapsed": true
   },
   "outputs": [],
   "source": [
    "import numpy as np\n",
    "import pandas as pd\n",
    "\n",
    "import geopandas as gpd\n",
    "import matplotlib.pyplot as plt\n",
    "import seaborn as sns\n",
    "\n",
    "from dateutil.parser import parse\n",
    "from datetime import datetime, timedelta\n",
    "import shapely\n",
    "\n",
    "from sklearn.linear_model import LogisticRegression\n",
    "from sklearn.model_selection import train_test_split, cross_val_score\n",
    "from sklearn import metrics\n",
    "from sklearn.metrics import roc_curve, auc, accuracy_score, roc_auc_score\n",
    "from sklearn.ensemble import RandomForestClassifier, GradientBoostingClassifier\n",
    "\n",
    "%matplotlib inline"
   ]
  },
  {
   "cell_type": "markdown",
   "metadata": {},
   "source": [
    "## Create Baseline"
   ]
  },
  {
   "cell_type": "code",
   "execution_count": 2,
   "metadata": {
    "collapsed": false
   },
   "outputs": [
    {
     "data": {
      "text/html": [
       "<div>\n",
       "<table border=\"1\" class=\"dataframe\">\n",
       "  <thead>\n",
       "    <tr style=\"text-align: right;\">\n",
       "      <th></th>\n",
       "      <th>Unnamed: 0</th>\n",
       "      <th>IncidntNum</th>\n",
       "      <th>Category</th>\n",
       "      <th>Descript</th>\n",
       "      <th>DayOfWeek</th>\n",
       "      <th>Date</th>\n",
       "      <th>Time</th>\n",
       "      <th>PdDistrict</th>\n",
       "      <th>Location</th>\n",
       "      <th>latitude</th>\n",
       "      <th>longitude</th>\n",
       "      <th>geometry</th>\n",
       "      <th>Neighborhoods</th>\n",
       "      <th>Hour</th>\n",
       "      <th>Day</th>\n",
       "      <th>Year</th>\n",
       "      <th>Type</th>\n",
       "    </tr>\n",
       "  </thead>\n",
       "  <tbody>\n",
       "    <tr>\n",
       "      <th>0</th>\n",
       "      <td>0</td>\n",
       "      <td>150060275</td>\n",
       "      <td>NON-CRIMINAL</td>\n",
       "      <td>LOST PROPERTY</td>\n",
       "      <td>Monday</td>\n",
       "      <td>2015-01-19 00:00:00</td>\n",
       "      <td>1900-01-01 14:00:00</td>\n",
       "      <td>MISSION</td>\n",
       "      <td>(37.7617007179518, -122.42158168137)</td>\n",
       "      <td>37.761701</td>\n",
       "      <td>-122.421582</td>\n",
       "      <td>POINT (-122.42158168137 37.7617007179518)</td>\n",
       "      <td>Mission</td>\n",
       "      <td>14</td>\n",
       "      <td>0</td>\n",
       "      <td>2015</td>\n",
       "      <td>OTHER</td>\n",
       "    </tr>\n",
       "  </tbody>\n",
       "</table>\n",
       "</div>"
      ],
      "text/plain": [
       "   Unnamed: 0  IncidntNum      Category       Descript DayOfWeek  \\\n",
       "0           0   150060275  NON-CRIMINAL  LOST PROPERTY    Monday   \n",
       "\n",
       "                  Date                 Time PdDistrict  \\\n",
       "0  2015-01-19 00:00:00  1900-01-01 14:00:00    MISSION   \n",
       "\n",
       "                               Location   latitude   longitude  \\\n",
       "0  (37.7617007179518, -122.42158168137)  37.761701 -122.421582   \n",
       "\n",
       "                                    geometry Neighborhoods  Hour  Day  Year  \\\n",
       "0  POINT (-122.42158168137 37.7617007179518)       Mission    14    0  2015   \n",
       "\n",
       "    Type  \n",
       "0  OTHER  "
      ]
     },
     "execution_count": 2,
     "metadata": {},
     "output_type": "execute_result"
    }
   ],
   "source": [
    "sfcrime = pd.read_csv('data/sfcrime_no_wc.csv')\n",
    "sfcrime.head(1)"
   ]
  },
  {
   "cell_type": "code",
   "execution_count": 3,
   "metadata": {
    "collapsed": false
   },
   "outputs": [
    {
     "data": {
      "text/plain": [
       "Day  Hour  Neighborhoods          Type       \n",
       "0    0     Bayview Hunters Point  NON-VIOLENT    135\n",
       "                                  OTHER          424\n",
       "                                  PROPERTY       112\n",
       "                                  VIOLENT        138\n",
       "           Bernal Heights         NON-VIOLENT     63\n",
       "Name: IncidntNum, dtype: int64"
      ]
     },
     "execution_count": 3,
     "metadata": {},
     "output_type": "execute_result"
    }
   ],
   "source": [
    "# Group crime by day, hour, neighborhood, and Type \n",
    "crime_type_count = sfcrime.groupby([\"Day\", \"Hour\", \"Neighborhoods\", \"Type\"])[\"IncidntNum\"].count()\n",
    "crime_type_count.head()"
   ]
  },
  {
   "cell_type": "code",
   "execution_count": 4,
   "metadata": {
    "collapsed": false
   },
   "outputs": [
    {
     "data": {
      "text/html": [
       "<div>\n",
       "<table border=\"1\" class=\"dataframe\">\n",
       "  <thead>\n",
       "    <tr style=\"text-align: right;\">\n",
       "      <th></th>\n",
       "      <th>Day</th>\n",
       "      <th>Hour</th>\n",
       "      <th>Neighborhoods</th>\n",
       "      <th>Type</th>\n",
       "      <th>IncidntNum</th>\n",
       "    </tr>\n",
       "  </thead>\n",
       "  <tbody>\n",
       "    <tr>\n",
       "      <th>0</th>\n",
       "      <td>0</td>\n",
       "      <td>0</td>\n",
       "      <td>Bayview Hunters Point</td>\n",
       "      <td>NON-VIOLENT</td>\n",
       "      <td>135</td>\n",
       "    </tr>\n",
       "    <tr>\n",
       "      <th>1</th>\n",
       "      <td>0</td>\n",
       "      <td>0</td>\n",
       "      <td>Bayview Hunters Point</td>\n",
       "      <td>OTHER</td>\n",
       "      <td>424</td>\n",
       "    </tr>\n",
       "  </tbody>\n",
       "</table>\n",
       "</div>"
      ],
      "text/plain": [
       "   Day  Hour          Neighborhoods         Type  IncidntNum\n",
       "0    0     0  Bayview Hunters Point  NON-VIOLENT         135\n",
       "1    0     0  Bayview Hunters Point        OTHER         424"
      ]
     },
     "execution_count": 4,
     "metadata": {},
     "output_type": "execute_result"
    }
   ],
   "source": [
    "# Covert to dataframe\n",
    "crime_type_count = crime_type_count.reset_index()\n",
    "crime_type_count.head(2)"
   ]
  },
  {
   "cell_type": "code",
   "execution_count": 5,
   "metadata": {
    "collapsed": false
   },
   "outputs": [
    {
     "data": {
      "text/html": [
       "<div>\n",
       "<table border=\"1\" class=\"dataframe\">\n",
       "  <thead>\n",
       "    <tr style=\"text-align: right;\">\n",
       "      <th></th>\n",
       "      <th>Day</th>\n",
       "      <th>Hour</th>\n",
       "      <th>Neighborhoods</th>\n",
       "      <th>NeighIncidntNum</th>\n",
       "    </tr>\n",
       "  </thead>\n",
       "  <tbody>\n",
       "    <tr>\n",
       "      <th>0</th>\n",
       "      <td>0</td>\n",
       "      <td>0</td>\n",
       "      <td>Bayview Hunters Point</td>\n",
       "      <td>809</td>\n",
       "    </tr>\n",
       "    <tr>\n",
       "      <th>1</th>\n",
       "      <td>0</td>\n",
       "      <td>0</td>\n",
       "      <td>Bernal Heights</td>\n",
       "      <td>345</td>\n",
       "    </tr>\n",
       "  </tbody>\n",
       "</table>\n",
       "</div>"
      ],
      "text/plain": [
       "   Day  Hour          Neighborhoods  NeighIncidntNum\n",
       "0    0     0  Bayview Hunters Point              809\n",
       "1    0     0         Bernal Heights              345"
      ]
     },
     "execution_count": 5,
     "metadata": {},
     "output_type": "execute_result"
    }
   ],
   "source": [
    "#get number or incidents by day, hour, neighborhood\n",
    "crime_by_neigh = sfcrime.groupby([\"Day\", \"Hour\", \"Neighborhoods\"])[\"IncidntNum\"].count().reset_index()\n",
    "crime_by_neigh.columns = [\"Day\", \"Hour\", \"Neighborhoods\", \"NeighIncidntNum\"]\n",
    "crime_by_neigh.head(2)"
   ]
  },
  {
   "cell_type": "code",
   "execution_count": 6,
   "metadata": {
    "collapsed": false
   },
   "outputs": [
    {
     "data": {
      "text/html": [
       "<div>\n",
       "<table border=\"1\" class=\"dataframe\">\n",
       "  <thead>\n",
       "    <tr style=\"text-align: right;\">\n",
       "      <th></th>\n",
       "      <th>Day</th>\n",
       "      <th>Hour</th>\n",
       "      <th>Neighborhoods</th>\n",
       "      <th>Type</th>\n",
       "      <th>IncidntNum</th>\n",
       "      <th>NeighIncidntNum</th>\n",
       "    </tr>\n",
       "  </thead>\n",
       "  <tbody>\n",
       "    <tr>\n",
       "      <th>0</th>\n",
       "      <td>0</td>\n",
       "      <td>0</td>\n",
       "      <td>Bayview Hunters Point</td>\n",
       "      <td>NON-VIOLENT</td>\n",
       "      <td>135</td>\n",
       "      <td>809</td>\n",
       "    </tr>\n",
       "    <tr>\n",
       "      <th>1</th>\n",
       "      <td>0</td>\n",
       "      <td>0</td>\n",
       "      <td>Bayview Hunters Point</td>\n",
       "      <td>OTHER</td>\n",
       "      <td>424</td>\n",
       "      <td>809</td>\n",
       "    </tr>\n",
       "  </tbody>\n",
       "</table>\n",
       "</div>"
      ],
      "text/plain": [
       "   Day  Hour          Neighborhoods         Type  IncidntNum  NeighIncidntNum\n",
       "0    0     0  Bayview Hunters Point  NON-VIOLENT         135              809\n",
       "1    0     0  Bayview Hunters Point        OTHER         424              809"
      ]
     },
     "execution_count": 6,
     "metadata": {},
     "output_type": "execute_result"
    }
   ],
   "source": [
    "#merge df to get probility for crime type by the neigborhood\n",
    "crime_prob = crime_type_count.merge(crime_by_neigh, on=[\"Day\", \"Hour\", \"Neighborhoods\"])\n",
    "crime_prob.head(2)"
   ]
  },
  {
   "cell_type": "code",
   "execution_count": 7,
   "metadata": {
    "collapsed": false
   },
   "outputs": [
    {
     "data": {
      "text/html": [
       "<div>\n",
       "<table border=\"1\" class=\"dataframe\">\n",
       "  <thead>\n",
       "    <tr style=\"text-align: right;\">\n",
       "      <th></th>\n",
       "      <th>Day</th>\n",
       "      <th>Hour</th>\n",
       "      <th>Neighborhoods</th>\n",
       "      <th>Type</th>\n",
       "      <th>IncidntNum</th>\n",
       "      <th>NeighIncidntNum</th>\n",
       "      <th>CrimeProbInNeigh</th>\n",
       "    </tr>\n",
       "  </thead>\n",
       "  <tbody>\n",
       "    <tr>\n",
       "      <th>0</th>\n",
       "      <td>0</td>\n",
       "      <td>0</td>\n",
       "      <td>Bayview Hunters Point</td>\n",
       "      <td>NON-VIOLENT</td>\n",
       "      <td>135</td>\n",
       "      <td>809</td>\n",
       "      <td>0.166873</td>\n",
       "    </tr>\n",
       "    <tr>\n",
       "      <th>1</th>\n",
       "      <td>0</td>\n",
       "      <td>0</td>\n",
       "      <td>Bayview Hunters Point</td>\n",
       "      <td>OTHER</td>\n",
       "      <td>424</td>\n",
       "      <td>809</td>\n",
       "      <td>0.524104</td>\n",
       "    </tr>\n",
       "  </tbody>\n",
       "</table>\n",
       "</div>"
      ],
      "text/plain": [
       "   Day  Hour          Neighborhoods         Type  IncidntNum  NeighIncidntNum  \\\n",
       "0    0     0  Bayview Hunters Point  NON-VIOLENT         135              809   \n",
       "1    0     0  Bayview Hunters Point        OTHER         424              809   \n",
       "\n",
       "   CrimeProbInNeigh  \n",
       "0          0.166873  \n",
       "1          0.524104  "
      ]
     },
     "execution_count": 7,
     "metadata": {},
     "output_type": "execute_result"
    }
   ],
   "source": [
    "#get probility\n",
    "crime_prob[\"CrimeProbInNeigh\"] = crime_prob['IncidntNum']/crime_prob['NeighIncidntNum']\n",
    "crime_prob.head(2)"
   ]
  },
  {
   "cell_type": "code",
   "execution_count": 8,
   "metadata": {
    "collapsed": false
   },
   "outputs": [
    {
     "data": {
      "text/plain": [
       "1.0"
      ]
     },
     "execution_count": 8,
     "metadata": {},
     "output_type": "execute_result"
    }
   ],
   "source": [
    "# santiy check probabilities\n",
    "bayviewF0 = (crime_prob['Day'] == 0) & (crime_prob['Hour'] == 0) & (crime_prob['Neighborhoods'] == 'Bayview Hunters Point')\n",
    "crime_prob[bayviewF0][\"CrimeProbInNeigh\"].sum()"
   ]
  },
  {
   "cell_type": "markdown",
   "metadata": {},
   "source": [
    "## Prepare Data"
   ]
  },
  {
   "cell_type": "code",
   "execution_count": 9,
   "metadata": {
    "collapsed": false
   },
   "outputs": [
    {
     "data": {
      "text/html": [
       "<div>\n",
       "<table border=\"1\" class=\"dataframe\">\n",
       "  <thead>\n",
       "    <tr style=\"text-align: right;\">\n",
       "      <th></th>\n",
       "      <th>IncidntNum</th>\n",
       "      <th>Category</th>\n",
       "      <th>Descript</th>\n",
       "      <th>DayOfWeek</th>\n",
       "      <th>Date</th>\n",
       "      <th>Time</th>\n",
       "      <th>PdDistrict</th>\n",
       "      <th>Location</th>\n",
       "      <th>latitude</th>\n",
       "      <th>longitude</th>\n",
       "      <th>geometry</th>\n",
       "      <th>Neighborhoods</th>\n",
       "      <th>Hour</th>\n",
       "      <th>Day</th>\n",
       "      <th>Year</th>\n",
       "      <th>Type</th>\n",
       "    </tr>\n",
       "  </thead>\n",
       "  <tbody>\n",
       "    <tr>\n",
       "      <th>0</th>\n",
       "      <td>150060275</td>\n",
       "      <td>NON-CRIMINAL</td>\n",
       "      <td>LOST PROPERTY</td>\n",
       "      <td>Monday</td>\n",
       "      <td>2015-01-19 00:00:00</td>\n",
       "      <td>1900-01-01 14:00:00</td>\n",
       "      <td>MISSION</td>\n",
       "      <td>(37.7617007179518, -122.42158168137)</td>\n",
       "      <td>37.761701</td>\n",
       "      <td>-122.421582</td>\n",
       "      <td>POINT (-122.42158168137 37.7617007179518)</td>\n",
       "      <td>Mission</td>\n",
       "      <td>14</td>\n",
       "      <td>0</td>\n",
       "      <td>2015</td>\n",
       "      <td>OTHER</td>\n",
       "    </tr>\n",
       "    <tr>\n",
       "      <th>1</th>\n",
       "      <td>150098210</td>\n",
       "      <td>ROBBERY</td>\n",
       "      <td>ROBBERY, BODILY FORCE</td>\n",
       "      <td>Sunday</td>\n",
       "      <td>2015-02-01 00:00:00</td>\n",
       "      <td>1900-01-01 15:45:00</td>\n",
       "      <td>TENDERLOIN</td>\n",
       "      <td>(37.7841907151119, -122.414406029855)</td>\n",
       "      <td>37.784191</td>\n",
       "      <td>-122.414406</td>\n",
       "      <td>POINT (-122.414406029855 37.7841907151119)</td>\n",
       "      <td>Tenderloin</td>\n",
       "      <td>15</td>\n",
       "      <td>6</td>\n",
       "      <td>2015</td>\n",
       "      <td>VIOLENT</td>\n",
       "    </tr>\n",
       "  </tbody>\n",
       "</table>\n",
       "</div>"
      ],
      "text/plain": [
       "   IncidntNum      Category               Descript DayOfWeek  \\\n",
       "0   150060275  NON-CRIMINAL          LOST PROPERTY    Monday   \n",
       "1   150098210       ROBBERY  ROBBERY, BODILY FORCE    Sunday   \n",
       "\n",
       "                  Date                 Time  PdDistrict  \\\n",
       "0  2015-01-19 00:00:00  1900-01-01 14:00:00     MISSION   \n",
       "1  2015-02-01 00:00:00  1900-01-01 15:45:00  TENDERLOIN   \n",
       "\n",
       "                                Location   latitude   longitude  \\\n",
       "0   (37.7617007179518, -122.42158168137)  37.761701 -122.421582   \n",
       "1  (37.7841907151119, -122.414406029855)  37.784191 -122.414406   \n",
       "\n",
       "                                     geometry Neighborhoods  Hour  Day  Year  \\\n",
       "0   POINT (-122.42158168137 37.7617007179518)       Mission    14    0  2015   \n",
       "1  POINT (-122.414406029855 37.7841907151119)    Tenderloin    15    6  2015   \n",
       "\n",
       "      Type  \n",
       "0    OTHER  \n",
       "1  VIOLENT  "
      ]
     },
     "execution_count": 9,
     "metadata": {},
     "output_type": "execute_result"
    }
   ],
   "source": [
    "del sfcrime['Unnamed: 0']\n",
    "sfcrime.head(2)"
   ]
  },
  {
   "cell_type": "code",
   "execution_count": 10,
   "metadata": {
    "collapsed": false
   },
   "outputs": [],
   "source": [
    "#use a pivot table\n",
    "incidence_by_nhood = \\\n",
    "pd.pivot_table(sfcrime, \n",
    "               values=['IncidntNum'], \n",
    "               columns=['Neighborhoods', 'Day', 'Hour', 'latitude', 'longitude'], \n",
    "               index=['Type'], \n",
    "               aggfunc='count')"
   ]
  },
  {
   "cell_type": "code",
   "execution_count": 11,
   "metadata": {
    "collapsed": false
   },
   "outputs": [
    {
     "data": {
      "text/html": [
       "<div>\n",
       "<table border=\"1\" class=\"dataframe\">\n",
       "  <thead>\n",
       "    <tr>\n",
       "      <th></th>\n",
       "      <th colspan=\"21\" halign=\"left\">IncidntNum</th>\n",
       "    </tr>\n",
       "    <tr>\n",
       "      <th>Neighborhoods</th>\n",
       "      <th colspan=\"10\" halign=\"left\">Bayview Hunters Point</th>\n",
       "      <th>...</th>\n",
       "      <th colspan=\"10\" halign=\"left\">Western Addition</th>\n",
       "    </tr>\n",
       "    <tr>\n",
       "      <th>Day</th>\n",
       "      <th colspan=\"10\" halign=\"left\">0</th>\n",
       "      <th>...</th>\n",
       "      <th colspan=\"10\" halign=\"left\">6</th>\n",
       "    </tr>\n",
       "    <tr>\n",
       "      <th>Hour</th>\n",
       "      <th colspan=\"10\" halign=\"left\">0</th>\n",
       "      <th>...</th>\n",
       "      <th colspan=\"10\" halign=\"left\">23</th>\n",
       "    </tr>\n",
       "    <tr>\n",
       "      <th>latitude</th>\n",
       "      <th>37.709971</th>\n",
       "      <th>37.710198</th>\n",
       "      <th>37.710368</th>\n",
       "      <th>37.710700</th>\n",
       "      <th>37.710732</th>\n",
       "      <th>37.710757</th>\n",
       "      <th>37.711051</th>\n",
       "      <th>37.711141</th>\n",
       "      <th>37.711147</th>\n",
       "      <th>37.711346</th>\n",
       "      <th>...</th>\n",
       "      <th>37.788966</th>\n",
       "      <th>37.789043</th>\n",
       "      <th>37.789151</th>\n",
       "      <th>37.789203</th>\n",
       "      <th>37.789411</th>\n",
       "      <th>37.789491</th>\n",
       "      <th>37.789682</th>\n",
       "      <th>37.790000</th>\n",
       "      <th>37.790209</th>\n",
       "      <th>37.790369</th>\n",
       "    </tr>\n",
       "    <tr>\n",
       "      <th>longitude</th>\n",
       "      <th>-122.396282</th>\n",
       "      <th>-122.397242</th>\n",
       "      <th>-122.390889</th>\n",
       "      <th>-122.397460</th>\n",
       "      <th>-122.397592</th>\n",
       "      <th>-122.390793</th>\n",
       "      <th>-122.401061</th>\n",
       "      <th>-122.399313</th>\n",
       "      <th>-122.396884</th>\n",
       "      <th>-122.400176</th>\n",
       "      <th>...</th>\n",
       "      <th>-122.423803</th>\n",
       "      <th>-122.424607</th>\n",
       "      <th>-122.424629</th>\n",
       "      <th>-122.423785</th>\n",
       "      <th>-122.422140</th>\n",
       "      <th>-122.425453</th>\n",
       "      <th>-122.423948</th>\n",
       "      <th>-122.424800</th>\n",
       "      <th>-122.423157</th>\n",
       "      <th>-122.422330</th>\n",
       "    </tr>\n",
       "    <tr>\n",
       "      <th>Type</th>\n",
       "      <th></th>\n",
       "      <th></th>\n",
       "      <th></th>\n",
       "      <th></th>\n",
       "      <th></th>\n",
       "      <th></th>\n",
       "      <th></th>\n",
       "      <th></th>\n",
       "      <th></th>\n",
       "      <th></th>\n",
       "      <th></th>\n",
       "      <th></th>\n",
       "      <th></th>\n",
       "      <th></th>\n",
       "      <th></th>\n",
       "      <th></th>\n",
       "      <th></th>\n",
       "      <th></th>\n",
       "      <th></th>\n",
       "      <th></th>\n",
       "      <th></th>\n",
       "    </tr>\n",
       "  </thead>\n",
       "  <tbody>\n",
       "    <tr>\n",
       "      <th>NON-VIOLENT</th>\n",
       "      <td>NaN</td>\n",
       "      <td>NaN</td>\n",
       "      <td>NaN</td>\n",
       "      <td>NaN</td>\n",
       "      <td>NaN</td>\n",
       "      <td>NaN</td>\n",
       "      <td>NaN</td>\n",
       "      <td>NaN</td>\n",
       "      <td>NaN</td>\n",
       "      <td>NaN</td>\n",
       "      <td>...</td>\n",
       "      <td>1.0</td>\n",
       "      <td>NaN</td>\n",
       "      <td>NaN</td>\n",
       "      <td>1.0</td>\n",
       "      <td>1.0</td>\n",
       "      <td>NaN</td>\n",
       "      <td>NaN</td>\n",
       "      <td>NaN</td>\n",
       "      <td>NaN</td>\n",
       "      <td>3.0</td>\n",
       "    </tr>\n",
       "    <tr>\n",
       "      <th>OTHER</th>\n",
       "      <td>1.0</td>\n",
       "      <td>NaN</td>\n",
       "      <td>1.0</td>\n",
       "      <td>NaN</td>\n",
       "      <td>1.0</td>\n",
       "      <td>1.0</td>\n",
       "      <td>1.0</td>\n",
       "      <td>NaN</td>\n",
       "      <td>1.0</td>\n",
       "      <td>NaN</td>\n",
       "      <td>...</td>\n",
       "      <td>NaN</td>\n",
       "      <td>1.0</td>\n",
       "      <td>NaN</td>\n",
       "      <td>NaN</td>\n",
       "      <td>3.0</td>\n",
       "      <td>1.0</td>\n",
       "      <td>1.0</td>\n",
       "      <td>1.0</td>\n",
       "      <td>NaN</td>\n",
       "      <td>5.0</td>\n",
       "    </tr>\n",
       "    <tr>\n",
       "      <th>PROPERTY</th>\n",
       "      <td>NaN</td>\n",
       "      <td>1.0</td>\n",
       "      <td>NaN</td>\n",
       "      <td>1.0</td>\n",
       "      <td>NaN</td>\n",
       "      <td>NaN</td>\n",
       "      <td>NaN</td>\n",
       "      <td>1.0</td>\n",
       "      <td>NaN</td>\n",
       "      <td>NaN</td>\n",
       "      <td>...</td>\n",
       "      <td>NaN</td>\n",
       "      <td>NaN</td>\n",
       "      <td>1.0</td>\n",
       "      <td>NaN</td>\n",
       "      <td>NaN</td>\n",
       "      <td>1.0</td>\n",
       "      <td>NaN</td>\n",
       "      <td>NaN</td>\n",
       "      <td>1.0</td>\n",
       "      <td>NaN</td>\n",
       "    </tr>\n",
       "    <tr>\n",
       "      <th>VIOLENT</th>\n",
       "      <td>NaN</td>\n",
       "      <td>NaN</td>\n",
       "      <td>NaN</td>\n",
       "      <td>NaN</td>\n",
       "      <td>NaN</td>\n",
       "      <td>NaN</td>\n",
       "      <td>NaN</td>\n",
       "      <td>NaN</td>\n",
       "      <td>NaN</td>\n",
       "      <td>1.0</td>\n",
       "      <td>...</td>\n",
       "      <td>NaN</td>\n",
       "      <td>NaN</td>\n",
       "      <td>NaN</td>\n",
       "      <td>NaN</td>\n",
       "      <td>NaN</td>\n",
       "      <td>NaN</td>\n",
       "      <td>NaN</td>\n",
       "      <td>NaN</td>\n",
       "      <td>NaN</td>\n",
       "      <td>NaN</td>\n",
       "    </tr>\n",
       "  </tbody>\n",
       "</table>\n",
       "<p>4 rows × 846185 columns</p>\n",
       "</div>"
      ],
      "text/plain": [
       "                         IncidntNum                                      \\\n",
       "Neighborhoods Bayview Hunters Point                                       \n",
       "Day                               0                                       \n",
       "Hour                             0                                        \n",
       "latitude                  37.709971   37.710198   37.710368   37.710700   \n",
       "longitude               -122.396282 -122.397242 -122.390889 -122.397460   \n",
       "Type                                                                      \n",
       "NON-VIOLENT                     NaN         NaN         NaN         NaN   \n",
       "OTHER                           1.0         NaN         1.0         NaN   \n",
       "PROPERTY                        NaN         1.0         NaN         1.0   \n",
       "VIOLENT                         NaN         NaN         NaN         NaN   \n",
       "\n",
       "                                                                           \\\n",
       "Neighborhoods                                                               \n",
       "Day                                                                         \n",
       "Hour                                                                        \n",
       "latitude        37.710732   37.710757   37.711051   37.711141   37.711147   \n",
       "longitude     -122.397592 -122.390793 -122.401061 -122.399313 -122.396884   \n",
       "Type                                                                        \n",
       "NON-VIOLENT           NaN         NaN         NaN         NaN         NaN   \n",
       "OTHER                 1.0         1.0         1.0         NaN         1.0   \n",
       "PROPERTY              NaN         NaN         NaN         1.0         NaN   \n",
       "VIOLENT               NaN         NaN         NaN         NaN         NaN   \n",
       "\n",
       "                              ...                                   \\\n",
       "Neighborhoods                 ...     Western Addition               \n",
       "Day                           ...                    6               \n",
       "Hour                          ...                   23               \n",
       "latitude        37.711346     ...            37.788966   37.789043   \n",
       "longitude     -122.400176     ...          -122.423803 -122.424607   \n",
       "Type                          ...                                    \n",
       "NON-VIOLENT           NaN     ...                  1.0         NaN   \n",
       "OTHER                 NaN     ...                  NaN         1.0   \n",
       "PROPERTY              NaN     ...                  NaN         NaN   \n",
       "VIOLENT               1.0     ...                  NaN         NaN   \n",
       "\n",
       "                                                                           \\\n",
       "Neighborhoods                                                               \n",
       "Day                                                                         \n",
       "Hour                                                                        \n",
       "latitude        37.789151   37.789203   37.789411   37.789491   37.789682   \n",
       "longitude     -122.424629 -122.423785 -122.422140 -122.425453 -122.423948   \n",
       "Type                                                                        \n",
       "NON-VIOLENT           NaN         1.0         1.0         NaN         NaN   \n",
       "OTHER                 NaN         NaN         3.0         1.0         1.0   \n",
       "PROPERTY              1.0         NaN         NaN         1.0         NaN   \n",
       "VIOLENT               NaN         NaN         NaN         NaN         NaN   \n",
       "\n",
       "                                                   \n",
       "Neighborhoods                                      \n",
       "Day                                                \n",
       "Hour                                               \n",
       "latitude        37.790000   37.790209   37.790369  \n",
       "longitude     -122.424800 -122.423157 -122.422330  \n",
       "Type                                               \n",
       "NON-VIOLENT           NaN         NaN         3.0  \n",
       "OTHER                 1.0         NaN         5.0  \n",
       "PROPERTY              NaN         1.0         NaN  \n",
       "VIOLENT               NaN         NaN         NaN  \n",
       "\n",
       "[4 rows x 846185 columns]"
      ]
     },
     "execution_count": 11,
     "metadata": {},
     "output_type": "execute_result"
    }
   ],
   "source": [
    "incidence_by_nhood.head()"
   ]
  },
  {
   "cell_type": "code",
   "execution_count": 12,
   "metadata": {
    "collapsed": false
   },
   "outputs": [
    {
     "data": {
      "text/html": [
       "<div>\n",
       "<table border=\"1\" class=\"dataframe\">\n",
       "  <thead>\n",
       "    <tr style=\"text-align: right;\">\n",
       "      <th></th>\n",
       "      <th>Neighborhoods</th>\n",
       "      <th>Day</th>\n",
       "      <th>Hour</th>\n",
       "      <th>latitude</th>\n",
       "      <th>longitude</th>\n",
       "      <th>Type</th>\n",
       "      <th>CrimeHappened</th>\n",
       "    </tr>\n",
       "  </thead>\n",
       "  <tbody>\n",
       "    <tr>\n",
       "      <th>0</th>\n",
       "      <td>Bayview Hunters Point</td>\n",
       "      <td>0</td>\n",
       "      <td>0</td>\n",
       "      <td>37.709971</td>\n",
       "      <td>-122.396282</td>\n",
       "      <td>NON-VIOLENT</td>\n",
       "      <td>NaN</td>\n",
       "    </tr>\n",
       "    <tr>\n",
       "      <th>1</th>\n",
       "      <td>Bayview Hunters Point</td>\n",
       "      <td>0</td>\n",
       "      <td>0</td>\n",
       "      <td>37.709971</td>\n",
       "      <td>-122.396282</td>\n",
       "      <td>OTHER</td>\n",
       "      <td>1.0</td>\n",
       "    </tr>\n",
       "  </tbody>\n",
       "</table>\n",
       "</div>"
      ],
      "text/plain": [
       "           Neighborhoods  Day  Hour   latitude   longitude         Type  \\\n",
       "0  Bayview Hunters Point    0     0  37.709971 -122.396282  NON-VIOLENT   \n",
       "1  Bayview Hunters Point    0     0  37.709971 -122.396282        OTHER   \n",
       "\n",
       "   CrimeHappened  \n",
       "0            NaN  \n",
       "1            1.0  "
      ]
     },
     "execution_count": 12,
     "metadata": {},
     "output_type": "execute_result"
    }
   ],
   "source": [
    "crime_pivot = pd.DataFrame(incidence_by_nhood.unstack()).reset_index()\n",
    "del crime_pivot['level_0']\n",
    "crime_pivot.columns = ['Neighborhoods', 'Day','Hour','latitude', 'longitude', 'Type', 'CrimeHappened']\n",
    "crime_pivot.head(2)"
   ]
  },
  {
   "cell_type": "code",
   "execution_count": 13,
   "metadata": {
    "collapsed": false
   },
   "outputs": [
    {
     "data": {
      "text/html": [
       "<div>\n",
       "<table border=\"1\" class=\"dataframe\">\n",
       "  <thead>\n",
       "    <tr style=\"text-align: right;\">\n",
       "      <th></th>\n",
       "      <th>Neighborhoods</th>\n",
       "      <th>Day</th>\n",
       "      <th>Hour</th>\n",
       "      <th>latitude</th>\n",
       "      <th>longitude</th>\n",
       "      <th>Type</th>\n",
       "      <th>CrimeHappened</th>\n",
       "    </tr>\n",
       "  </thead>\n",
       "  <tbody>\n",
       "    <tr>\n",
       "      <th>0</th>\n",
       "      <td>Bayview Hunters Point</td>\n",
       "      <td>0</td>\n",
       "      <td>0</td>\n",
       "      <td>37.709971</td>\n",
       "      <td>-122.396282</td>\n",
       "      <td>NON-VIOLENT</td>\n",
       "      <td>0.0</td>\n",
       "    </tr>\n",
       "    <tr>\n",
       "      <th>1</th>\n",
       "      <td>Bayview Hunters Point</td>\n",
       "      <td>0</td>\n",
       "      <td>0</td>\n",
       "      <td>37.709971</td>\n",
       "      <td>-122.396282</td>\n",
       "      <td>OTHER</td>\n",
       "      <td>1.0</td>\n",
       "    </tr>\n",
       "    <tr>\n",
       "      <th>2</th>\n",
       "      <td>Bayview Hunters Point</td>\n",
       "      <td>0</td>\n",
       "      <td>0</td>\n",
       "      <td>37.709971</td>\n",
       "      <td>-122.396282</td>\n",
       "      <td>PROPERTY</td>\n",
       "      <td>0.0</td>\n",
       "    </tr>\n",
       "    <tr>\n",
       "      <th>3</th>\n",
       "      <td>Bayview Hunters Point</td>\n",
       "      <td>0</td>\n",
       "      <td>0</td>\n",
       "      <td>37.709971</td>\n",
       "      <td>-122.396282</td>\n",
       "      <td>VIOLENT</td>\n",
       "      <td>0.0</td>\n",
       "    </tr>\n",
       "    <tr>\n",
       "      <th>4</th>\n",
       "      <td>Bayview Hunters Point</td>\n",
       "      <td>0</td>\n",
       "      <td>0</td>\n",
       "      <td>37.710198</td>\n",
       "      <td>-122.397242</td>\n",
       "      <td>NON-VIOLENT</td>\n",
       "      <td>0.0</td>\n",
       "    </tr>\n",
       "  </tbody>\n",
       "</table>\n",
       "</div>"
      ],
      "text/plain": [
       "           Neighborhoods  Day  Hour   latitude   longitude         Type  \\\n",
       "0  Bayview Hunters Point    0     0  37.709971 -122.396282  NON-VIOLENT   \n",
       "1  Bayview Hunters Point    0     0  37.709971 -122.396282        OTHER   \n",
       "2  Bayview Hunters Point    0     0  37.709971 -122.396282     PROPERTY   \n",
       "3  Bayview Hunters Point    0     0  37.709971 -122.396282      VIOLENT   \n",
       "4  Bayview Hunters Point    0     0  37.710198 -122.397242  NON-VIOLENT   \n",
       "\n",
       "   CrimeHappened  \n",
       "0            0.0  \n",
       "1            1.0  \n",
       "2            0.0  \n",
       "3            0.0  \n",
       "4            0.0  "
      ]
     },
     "execution_count": 13,
     "metadata": {},
     "output_type": "execute_result"
    }
   ],
   "source": [
    "crime_pivot.fillna(value=0, inplace=True)\n",
    "crime_pivot.head()"
   ]
  },
  {
   "cell_type": "code",
   "execution_count": 14,
   "metadata": {
    "collapsed": true
   },
   "outputs": [],
   "source": [
    "#pd.DataFrame(crime_pivot).to_csv('data/crime_pivot.csv')"
   ]
  },
  {
   "cell_type": "code",
   "execution_count": 15,
   "metadata": {
    "collapsed": false
   },
   "outputs": [
    {
     "data": {
      "text/plain": [
       "(3384740, 7)"
      ]
     },
     "execution_count": 15,
     "metadata": {},
     "output_type": "execute_result"
    }
   ],
   "source": [
    "crime_pivot.shape"
   ]
  },
  {
   "cell_type": "markdown",
   "metadata": {},
   "source": [
    "### Get sample of data to train"
   ]
  },
  {
   "cell_type": "code",
   "execution_count": 16,
   "metadata": {
    "collapsed": true
   },
   "outputs": [],
   "source": [
    "sf_test = crime_pivot.sample(1000000)\n",
    "y = sf_test[['CrimeHappened']]\n",
    "sf_test_X = sf_test[['Neighborhoods','Day','Hour','latitude','longitude','Type']]"
   ]
  },
  {
   "cell_type": "code",
   "execution_count": 17,
   "metadata": {
    "collapsed": false
   },
   "outputs": [
    {
     "name": "stderr",
     "output_type": "stream",
     "text": [
      "/Users/lana/anaconda/envs/dsi/lib/python2.7/site-packages/ipykernel/__main__.py:1: SettingWithCopyWarning: \n",
      "A value is trying to be set on a copy of a slice from a DataFrame.\n",
      "Try using .loc[row_indexer,col_indexer] = value instead\n",
      "\n",
      "See the caveats in the documentation: http://pandas.pydata.org/pandas-docs/stable/indexing.html#indexing-view-versus-copy\n",
      "  if __name__ == '__main__':\n"
     ]
    }
   ],
   "source": [
    "y['CrimeHappened'] = y['CrimeHappened'].apply(lambda x: 1 if x >= 1 else 0)"
   ]
  },
  {
   "cell_type": "code",
   "execution_count": 18,
   "metadata": {
    "collapsed": false
   },
   "outputs": [
    {
     "data": {
      "text/html": [
       "<div>\n",
       "<table border=\"1\" class=\"dataframe\">\n",
       "  <thead>\n",
       "    <tr style=\"text-align: right;\">\n",
       "      <th></th>\n",
       "      <th>Neighborhoods</th>\n",
       "      <th>Day</th>\n",
       "      <th>Hour</th>\n",
       "      <th>latitude</th>\n",
       "      <th>longitude</th>\n",
       "      <th>Type</th>\n",
       "    </tr>\n",
       "  </thead>\n",
       "  <tbody>\n",
       "    <tr>\n",
       "      <th>596718</th>\n",
       "      <td>Excelsior</td>\n",
       "      <td>5</td>\n",
       "      <td>17</td>\n",
       "      <td>37.722430</td>\n",
       "      <td>-122.427912</td>\n",
       "      <td>PROPERTY</td>\n",
       "    </tr>\n",
       "    <tr>\n",
       "      <th>3202546</th>\n",
       "      <td>West of Twin Peaks</td>\n",
       "      <td>2</td>\n",
       "      <td>10</td>\n",
       "      <td>37.738609</td>\n",
       "      <td>-122.448768</td>\n",
       "      <td>PROPERTY</td>\n",
       "    </tr>\n",
       "    <tr>\n",
       "      <th>1680561</th>\n",
       "      <td>Mission</td>\n",
       "      <td>6</td>\n",
       "      <td>4</td>\n",
       "      <td>37.766959</td>\n",
       "      <td>-122.416011</td>\n",
       "      <td>OTHER</td>\n",
       "    </tr>\n",
       "    <tr>\n",
       "      <th>134937</th>\n",
       "      <td>Bayview Hunters Point</td>\n",
       "      <td>3</td>\n",
       "      <td>15</td>\n",
       "      <td>37.727899</td>\n",
       "      <td>-122.371476</td>\n",
       "      <td>OTHER</td>\n",
       "    </tr>\n",
       "    <tr>\n",
       "      <th>2848352</th>\n",
       "      <td>Sunset/Parkside</td>\n",
       "      <td>4</td>\n",
       "      <td>0</td>\n",
       "      <td>37.750335</td>\n",
       "      <td>-122.500990</td>\n",
       "      <td>NON-VIOLENT</td>\n",
       "    </tr>\n",
       "  </tbody>\n",
       "</table>\n",
       "</div>"
      ],
      "text/plain": [
       "                 Neighborhoods  Day  Hour   latitude   longitude         Type\n",
       "596718               Excelsior    5    17  37.722430 -122.427912     PROPERTY\n",
       "3202546     West of Twin Peaks    2    10  37.738609 -122.448768     PROPERTY\n",
       "1680561                Mission    6     4  37.766959 -122.416011        OTHER\n",
       "134937   Bayview Hunters Point    3    15  37.727899 -122.371476        OTHER\n",
       "2848352        Sunset/Parkside    4     0  37.750335 -122.500990  NON-VIOLENT"
      ]
     },
     "execution_count": 18,
     "metadata": {},
     "output_type": "execute_result"
    }
   ],
   "source": [
    "sf_test_X.head()"
   ]
  },
  {
   "cell_type": "code",
   "execution_count": 19,
   "metadata": {
    "collapsed": false
   },
   "outputs": [
    {
     "data": {
      "text/html": [
       "<div>\n",
       "<table border=\"1\" class=\"dataframe\">\n",
       "  <thead>\n",
       "    <tr style=\"text-align: right;\">\n",
       "      <th></th>\n",
       "      <th>CrimeHappened</th>\n",
       "    </tr>\n",
       "  </thead>\n",
       "  <tbody>\n",
       "    <tr>\n",
       "      <th>596718</th>\n",
       "      <td>1</td>\n",
       "    </tr>\n",
       "    <tr>\n",
       "      <th>3202546</th>\n",
       "      <td>0</td>\n",
       "    </tr>\n",
       "    <tr>\n",
       "      <th>1680561</th>\n",
       "      <td>1</td>\n",
       "    </tr>\n",
       "    <tr>\n",
       "      <th>134937</th>\n",
       "      <td>0</td>\n",
       "    </tr>\n",
       "    <tr>\n",
       "      <th>2848352</th>\n",
       "      <td>1</td>\n",
       "    </tr>\n",
       "  </tbody>\n",
       "</table>\n",
       "</div>"
      ],
      "text/plain": [
       "         CrimeHappened\n",
       "596718               1\n",
       "3202546              0\n",
       "1680561              1\n",
       "134937               0\n",
       "2848352              1"
      ]
     },
     "execution_count": 19,
     "metadata": {},
     "output_type": "execute_result"
    }
   ],
   "source": [
    "y.head()"
   ]
  },
  {
   "cell_type": "code",
   "execution_count": 20,
   "metadata": {
    "collapsed": false
   },
   "outputs": [
    {
     "name": "stdout",
     "output_type": "stream",
     "text": [
      "(1000000, 1)\n",
      "(1000000, 49)\n"
     ]
    }
   ],
   "source": [
    "sf_test_X = pd.get_dummies(sf_test_X)\n",
    "print y.shape\n",
    "print sf_test_X.shape"
   ]
  },
  {
   "cell_type": "markdown",
   "metadata": {},
   "source": [
    "### train_test_split data and baseline"
   ]
  },
  {
   "cell_type": "code",
   "execution_count": 21,
   "metadata": {
    "collapsed": false
   },
   "outputs": [],
   "source": [
    "X_train, X_test, y_train, y_test = train_test_split(sf_test_X, y, test_size=0.3, random_state=14)"
   ]
  },
  {
   "cell_type": "code",
   "execution_count": 22,
   "metadata": {
    "collapsed": false
   },
   "outputs": [
    {
     "data": {
      "text/html": [
       "<div>\n",
       "<table border=\"1\" class=\"dataframe\">\n",
       "  <thead>\n",
       "    <tr style=\"text-align: right;\">\n",
       "      <th></th>\n",
       "      <th>Day</th>\n",
       "      <th>Hour</th>\n",
       "      <th>Neighborhoods</th>\n",
       "      <th>Type</th>\n",
       "      <th>CrimeProbInNeigh</th>\n",
       "    </tr>\n",
       "  </thead>\n",
       "  <tbody>\n",
       "    <tr>\n",
       "      <th>0</th>\n",
       "      <td>0</td>\n",
       "      <td>0</td>\n",
       "      <td>Bayview Hunters Point</td>\n",
       "      <td>NON-VIOLENT</td>\n",
       "      <td>0.166873</td>\n",
       "    </tr>\n",
       "    <tr>\n",
       "      <th>1</th>\n",
       "      <td>0</td>\n",
       "      <td>0</td>\n",
       "      <td>Bayview Hunters Point</td>\n",
       "      <td>OTHER</td>\n",
       "      <td>0.524104</td>\n",
       "    </tr>\n",
       "  </tbody>\n",
       "</table>\n",
       "</div>"
      ],
      "text/plain": [
       "   Day  Hour          Neighborhoods         Type  CrimeProbInNeigh\n",
       "0    0     0  Bayview Hunters Point  NON-VIOLENT          0.166873\n",
       "1    0     0  Bayview Hunters Point        OTHER          0.524104"
      ]
     },
     "execution_count": 22,
     "metadata": {},
     "output_type": "execute_result"
    }
   ],
   "source": [
    "# Baseline probabilites\n",
    "sfcrime_prob = crime_prob[[\"Day\", \"Hour\", \"Neighborhoods\", 'Type', 'CrimeProbInNeigh']]\n",
    "sfcrime_prob.head(2)"
   ]
  },
  {
   "cell_type": "code",
   "execution_count": 23,
   "metadata": {
    "collapsed": true
   },
   "outputs": [],
   "source": [
    "#pd.DataFrame(sfcrime_prob).to_csv('data/sfcrime_prob.csv')"
   ]
  },
  {
   "cell_type": "code",
   "execution_count": 24,
   "metadata": {
    "collapsed": false
   },
   "outputs": [
    {
     "data": {
      "text/html": [
       "<div>\n",
       "<table border=\"1\" class=\"dataframe\">\n",
       "  <thead>\n",
       "    <tr style=\"text-align: right;\">\n",
       "      <th></th>\n",
       "      <th>Day</th>\n",
       "      <th>Hour</th>\n",
       "      <th>latitude</th>\n",
       "      <th>longitude</th>\n",
       "      <th>Neighborhoods_Bayview Hunters Point</th>\n",
       "      <th>Neighborhoods_Bernal Heights</th>\n",
       "      <th>Neighborhoods_Castro/Upper Market</th>\n",
       "      <th>Neighborhoods_Chinatown</th>\n",
       "      <th>Neighborhoods_Excelsior</th>\n",
       "      <th>Neighborhoods_Financial District/South Beach</th>\n",
       "      <th>...</th>\n",
       "      <th>Neighborhoods_Tenderloin</th>\n",
       "      <th>Neighborhoods_Treasure Island</th>\n",
       "      <th>Neighborhoods_Twin Peaks</th>\n",
       "      <th>Neighborhoods_Visitacion Valley</th>\n",
       "      <th>Neighborhoods_West of Twin Peaks</th>\n",
       "      <th>Neighborhoods_Western Addition</th>\n",
       "      <th>Type_NON-VIOLENT</th>\n",
       "      <th>Type_OTHER</th>\n",
       "      <th>Type_PROPERTY</th>\n",
       "      <th>Type_VIOLENT</th>\n",
       "    </tr>\n",
       "  </thead>\n",
       "  <tbody>\n",
       "    <tr>\n",
       "      <th>1429899</th>\n",
       "      <td>1</td>\n",
       "      <td>5</td>\n",
       "      <td>37.749695</td>\n",
       "      <td>-122.420360</td>\n",
       "      <td>0.0</td>\n",
       "      <td>0.0</td>\n",
       "      <td>0.0</td>\n",
       "      <td>0.0</td>\n",
       "      <td>0.0</td>\n",
       "      <td>0.0</td>\n",
       "      <td>...</td>\n",
       "      <td>0.0</td>\n",
       "      <td>0.0</td>\n",
       "      <td>0.0</td>\n",
       "      <td>0.0</td>\n",
       "      <td>0.0</td>\n",
       "      <td>0.0</td>\n",
       "      <td>0.0</td>\n",
       "      <td>0.0</td>\n",
       "      <td>0.0</td>\n",
       "      <td>1.0</td>\n",
       "    </tr>\n",
       "    <tr>\n",
       "      <th>2155040</th>\n",
       "      <td>0</td>\n",
       "      <td>15</td>\n",
       "      <td>37.772313</td>\n",
       "      <td>-122.509895</td>\n",
       "      <td>0.0</td>\n",
       "      <td>0.0</td>\n",
       "      <td>0.0</td>\n",
       "      <td>0.0</td>\n",
       "      <td>0.0</td>\n",
       "      <td>0.0</td>\n",
       "      <td>...</td>\n",
       "      <td>0.0</td>\n",
       "      <td>0.0</td>\n",
       "      <td>0.0</td>\n",
       "      <td>0.0</td>\n",
       "      <td>0.0</td>\n",
       "      <td>0.0</td>\n",
       "      <td>1.0</td>\n",
       "      <td>0.0</td>\n",
       "      <td>0.0</td>\n",
       "      <td>0.0</td>\n",
       "    </tr>\n",
       "  </tbody>\n",
       "</table>\n",
       "<p>2 rows × 49 columns</p>\n",
       "</div>"
      ],
      "text/plain": [
       "         Day  Hour   latitude   longitude  \\\n",
       "1429899    1     5  37.749695 -122.420360   \n",
       "2155040    0    15  37.772313 -122.509895   \n",
       "\n",
       "         Neighborhoods_Bayview Hunters Point  Neighborhoods_Bernal Heights  \\\n",
       "1429899                                  0.0                           0.0   \n",
       "2155040                                  0.0                           0.0   \n",
       "\n",
       "         Neighborhoods_Castro/Upper Market  Neighborhoods_Chinatown  \\\n",
       "1429899                                0.0                      0.0   \n",
       "2155040                                0.0                      0.0   \n",
       "\n",
       "         Neighborhoods_Excelsior  \\\n",
       "1429899                      0.0   \n",
       "2155040                      0.0   \n",
       "\n",
       "         Neighborhoods_Financial District/South Beach      ...       \\\n",
       "1429899                                           0.0      ...        \n",
       "2155040                                           0.0      ...        \n",
       "\n",
       "         Neighborhoods_Tenderloin  Neighborhoods_Treasure Island  \\\n",
       "1429899                       0.0                            0.0   \n",
       "2155040                       0.0                            0.0   \n",
       "\n",
       "         Neighborhoods_Twin Peaks  Neighborhoods_Visitacion Valley  \\\n",
       "1429899                       0.0                              0.0   \n",
       "2155040                       0.0                              0.0   \n",
       "\n",
       "         Neighborhoods_West of Twin Peaks  Neighborhoods_Western Addition  \\\n",
       "1429899                               0.0                             0.0   \n",
       "2155040                               0.0                             0.0   \n",
       "\n",
       "         Type_NON-VIOLENT  Type_OTHER  Type_PROPERTY  Type_VIOLENT  \n",
       "1429899               0.0         0.0            0.0           1.0  \n",
       "2155040               1.0         0.0            0.0           0.0  \n",
       "\n",
       "[2 rows x 49 columns]"
      ]
     },
     "execution_count": 24,
     "metadata": {},
     "output_type": "execute_result"
    }
   ],
   "source": [
    "X_test.head(2)"
   ]
  },
  {
   "cell_type": "code",
   "execution_count": 25,
   "metadata": {
    "collapsed": false
   },
   "outputs": [
    {
     "data": {
      "text/html": [
       "<div>\n",
       "<table border=\"1\" class=\"dataframe\">\n",
       "  <thead>\n",
       "    <tr style=\"text-align: right;\">\n",
       "      <th></th>\n",
       "      <th>idx</th>\n",
       "      <th>Day</th>\n",
       "      <th>Hour</th>\n",
       "      <th>latitude</th>\n",
       "      <th>longitude</th>\n",
       "      <th>Neighborhoods_Bayview Hunters Point</th>\n",
       "      <th>Neighborhoods_Bernal Heights</th>\n",
       "      <th>Neighborhoods_Castro/Upper Market</th>\n",
       "      <th>Neighborhoods_Chinatown</th>\n",
       "      <th>Neighborhoods_Excelsior</th>\n",
       "      <th>...</th>\n",
       "      <th>Neighborhoods_Tenderloin</th>\n",
       "      <th>Neighborhoods_Treasure Island</th>\n",
       "      <th>Neighborhoods_Twin Peaks</th>\n",
       "      <th>Neighborhoods_Visitacion Valley</th>\n",
       "      <th>Neighborhoods_West of Twin Peaks</th>\n",
       "      <th>Neighborhoods_Western Addition</th>\n",
       "      <th>Type_NON-VIOLENT</th>\n",
       "      <th>Type_OTHER</th>\n",
       "      <th>Type_PROPERTY</th>\n",
       "      <th>Type_VIOLENT</th>\n",
       "    </tr>\n",
       "  </thead>\n",
       "  <tbody>\n",
       "    <tr>\n",
       "      <th>0</th>\n",
       "      <td>1429899</td>\n",
       "      <td>1</td>\n",
       "      <td>5</td>\n",
       "      <td>37.749695</td>\n",
       "      <td>-122.420360</td>\n",
       "      <td>0.0</td>\n",
       "      <td>0.0</td>\n",
       "      <td>0.0</td>\n",
       "      <td>0.0</td>\n",
       "      <td>0.0</td>\n",
       "      <td>...</td>\n",
       "      <td>0.0</td>\n",
       "      <td>0.0</td>\n",
       "      <td>0.0</td>\n",
       "      <td>0.0</td>\n",
       "      <td>0.0</td>\n",
       "      <td>0.0</td>\n",
       "      <td>0.0</td>\n",
       "      <td>0.0</td>\n",
       "      <td>0.0</td>\n",
       "      <td>1.0</td>\n",
       "    </tr>\n",
       "    <tr>\n",
       "      <th>1</th>\n",
       "      <td>2155040</td>\n",
       "      <td>0</td>\n",
       "      <td>15</td>\n",
       "      <td>37.772313</td>\n",
       "      <td>-122.509895</td>\n",
       "      <td>0.0</td>\n",
       "      <td>0.0</td>\n",
       "      <td>0.0</td>\n",
       "      <td>0.0</td>\n",
       "      <td>0.0</td>\n",
       "      <td>...</td>\n",
       "      <td>0.0</td>\n",
       "      <td>0.0</td>\n",
       "      <td>0.0</td>\n",
       "      <td>0.0</td>\n",
       "      <td>0.0</td>\n",
       "      <td>0.0</td>\n",
       "      <td>1.0</td>\n",
       "      <td>0.0</td>\n",
       "      <td>0.0</td>\n",
       "      <td>0.0</td>\n",
       "    </tr>\n",
       "  </tbody>\n",
       "</table>\n",
       "<p>2 rows × 50 columns</p>\n",
       "</div>"
      ],
      "text/plain": [
       "       idx  Day  Hour   latitude   longitude  \\\n",
       "0  1429899    1     5  37.749695 -122.420360   \n",
       "1  2155040    0    15  37.772313 -122.509895   \n",
       "\n",
       "   Neighborhoods_Bayview Hunters Point  Neighborhoods_Bernal Heights  \\\n",
       "0                                  0.0                           0.0   \n",
       "1                                  0.0                           0.0   \n",
       "\n",
       "   Neighborhoods_Castro/Upper Market  Neighborhoods_Chinatown  \\\n",
       "0                                0.0                      0.0   \n",
       "1                                0.0                      0.0   \n",
       "\n",
       "   Neighborhoods_Excelsior      ...       Neighborhoods_Tenderloin  \\\n",
       "0                      0.0      ...                            0.0   \n",
       "1                      0.0      ...                            0.0   \n",
       "\n",
       "   Neighborhoods_Treasure Island  Neighborhoods_Twin Peaks  \\\n",
       "0                            0.0                       0.0   \n",
       "1                            0.0                       0.0   \n",
       "\n",
       "   Neighborhoods_Visitacion Valley  Neighborhoods_West of Twin Peaks  \\\n",
       "0                              0.0                               0.0   \n",
       "1                              0.0                               0.0   \n",
       "\n",
       "   Neighborhoods_Western Addition  Type_NON-VIOLENT  Type_OTHER  \\\n",
       "0                             0.0               0.0         0.0   \n",
       "1                             0.0               1.0         0.0   \n",
       "\n",
       "   Type_PROPERTY  Type_VIOLENT  \n",
       "0            0.0           1.0  \n",
       "1            0.0           0.0  \n",
       "\n",
       "[2 rows x 50 columns]"
      ]
     },
     "execution_count": 25,
     "metadata": {},
     "output_type": "execute_result"
    }
   ],
   "source": [
    "x_test_tomerge = X_test.reset_index(level=0)\n",
    "x_test_tomerge = x_test_tomerge.rename(columns={'index': 'idx'})\n",
    "x_test_tomerge.head(2)"
   ]
  },
  {
   "cell_type": "code",
   "execution_count": 26,
   "metadata": {
    "collapsed": false
   },
   "outputs": [
    {
     "data": {
      "text/html": [
       "<div>\n",
       "<table border=\"1\" class=\"dataframe\">\n",
       "  <thead>\n",
       "    <tr style=\"text-align: right;\">\n",
       "      <th></th>\n",
       "      <th>Neighborhoods</th>\n",
       "      <th>Day</th>\n",
       "      <th>Hour</th>\n",
       "      <th>latitude</th>\n",
       "      <th>longitude</th>\n",
       "      <th>Type</th>\n",
       "      <th>CrimeHappened</th>\n",
       "    </tr>\n",
       "  </thead>\n",
       "  <tbody>\n",
       "    <tr>\n",
       "      <th>0</th>\n",
       "      <td>Bayview Hunters Point</td>\n",
       "      <td>0</td>\n",
       "      <td>0</td>\n",
       "      <td>37.709971</td>\n",
       "      <td>-122.396282</td>\n",
       "      <td>NON-VIOLENT</td>\n",
       "      <td>0.0</td>\n",
       "    </tr>\n",
       "    <tr>\n",
       "      <th>1</th>\n",
       "      <td>Bayview Hunters Point</td>\n",
       "      <td>0</td>\n",
       "      <td>0</td>\n",
       "      <td>37.709971</td>\n",
       "      <td>-122.396282</td>\n",
       "      <td>OTHER</td>\n",
       "      <td>1.0</td>\n",
       "    </tr>\n",
       "  </tbody>\n",
       "</table>\n",
       "</div>"
      ],
      "text/plain": [
       "           Neighborhoods  Day  Hour   latitude   longitude         Type  \\\n",
       "0  Bayview Hunters Point    0     0  37.709971 -122.396282  NON-VIOLENT   \n",
       "1  Bayview Hunters Point    0     0  37.709971 -122.396282        OTHER   \n",
       "\n",
       "   CrimeHappened  \n",
       "0            0.0  \n",
       "1            1.0  "
      ]
     },
     "execution_count": 26,
     "metadata": {},
     "output_type": "execute_result"
    }
   ],
   "source": [
    "crime_pivot.head(2)"
   ]
  },
  {
   "cell_type": "code",
   "execution_count": 27,
   "metadata": {
    "collapsed": false
   },
   "outputs": [
    {
     "data": {
      "text/html": [
       "<div>\n",
       "<table border=\"1\" class=\"dataframe\">\n",
       "  <thead>\n",
       "    <tr style=\"text-align: right;\">\n",
       "      <th></th>\n",
       "      <th>idx</th>\n",
       "      <th>Neighborhoods</th>\n",
       "      <th>Day</th>\n",
       "      <th>Hour</th>\n",
       "      <th>latitude</th>\n",
       "      <th>longitude</th>\n",
       "      <th>Type</th>\n",
       "      <th>CrimeHappened</th>\n",
       "    </tr>\n",
       "  </thead>\n",
       "  <tbody>\n",
       "    <tr>\n",
       "      <th>0</th>\n",
       "      <td>0</td>\n",
       "      <td>Bayview Hunters Point</td>\n",
       "      <td>0</td>\n",
       "      <td>0</td>\n",
       "      <td>37.709971</td>\n",
       "      <td>-122.396282</td>\n",
       "      <td>NON-VIOLENT</td>\n",
       "      <td>0.0</td>\n",
       "    </tr>\n",
       "    <tr>\n",
       "      <th>1</th>\n",
       "      <td>1</td>\n",
       "      <td>Bayview Hunters Point</td>\n",
       "      <td>0</td>\n",
       "      <td>0</td>\n",
       "      <td>37.709971</td>\n",
       "      <td>-122.396282</td>\n",
       "      <td>OTHER</td>\n",
       "      <td>1.0</td>\n",
       "    </tr>\n",
       "  </tbody>\n",
       "</table>\n",
       "</div>"
      ],
      "text/plain": [
       "   idx          Neighborhoods  Day  Hour   latitude   longitude         Type  \\\n",
       "0    0  Bayview Hunters Point    0     0  37.709971 -122.396282  NON-VIOLENT   \n",
       "1    1  Bayview Hunters Point    0     0  37.709971 -122.396282        OTHER   \n",
       "\n",
       "   CrimeHappened  \n",
       "0            0.0  \n",
       "1            1.0  "
      ]
     },
     "execution_count": 27,
     "metadata": {},
     "output_type": "execute_result"
    }
   ],
   "source": [
    "crime_pivot_reindex = crime_pivot.reset_index(level=0)\n",
    "crime_pivot_reindex = crime_pivot_reindex.rename(columns={'index': 'idx'})\n",
    "crime_pivot_reindex.head(2)"
   ]
  },
  {
   "cell_type": "code",
   "execution_count": 28,
   "metadata": {
    "collapsed": false
   },
   "outputs": [
    {
     "data": {
      "text/html": [
       "<div>\n",
       "<table border=\"1\" class=\"dataframe\">\n",
       "  <thead>\n",
       "    <tr style=\"text-align: right;\">\n",
       "      <th></th>\n",
       "      <th>idx</th>\n",
       "      <th>Day_x</th>\n",
       "      <th>Hour_x</th>\n",
       "      <th>latitude_x</th>\n",
       "      <th>longitude_x</th>\n",
       "      <th>Neighborhoods_Bayview Hunters Point</th>\n",
       "      <th>Neighborhoods_Bernal Heights</th>\n",
       "      <th>Neighborhoods_Castro/Upper Market</th>\n",
       "      <th>Neighborhoods_Chinatown</th>\n",
       "      <th>Neighborhoods_Excelsior</th>\n",
       "      <th>...</th>\n",
       "      <th>Type_OTHER</th>\n",
       "      <th>Type_PROPERTY</th>\n",
       "      <th>Type_VIOLENT</th>\n",
       "      <th>Neighborhoods</th>\n",
       "      <th>Day_y</th>\n",
       "      <th>Hour_y</th>\n",
       "      <th>latitude_y</th>\n",
       "      <th>longitude_y</th>\n",
       "      <th>Type</th>\n",
       "      <th>CrimeHappened</th>\n",
       "    </tr>\n",
       "  </thead>\n",
       "  <tbody>\n",
       "    <tr>\n",
       "      <th>0</th>\n",
       "      <td>1429899</td>\n",
       "      <td>1</td>\n",
       "      <td>5</td>\n",
       "      <td>37.749695</td>\n",
       "      <td>-122.420360</td>\n",
       "      <td>0.0</td>\n",
       "      <td>0.0</td>\n",
       "      <td>0.0</td>\n",
       "      <td>0.0</td>\n",
       "      <td>0.0</td>\n",
       "      <td>...</td>\n",
       "      <td>0.0</td>\n",
       "      <td>0.0</td>\n",
       "      <td>1.0</td>\n",
       "      <td>Mission</td>\n",
       "      <td>1</td>\n",
       "      <td>5</td>\n",
       "      <td>37.749695</td>\n",
       "      <td>-122.420360</td>\n",
       "      <td>VIOLENT</td>\n",
       "      <td>0.0</td>\n",
       "    </tr>\n",
       "    <tr>\n",
       "      <th>1</th>\n",
       "      <td>2155040</td>\n",
       "      <td>0</td>\n",
       "      <td>15</td>\n",
       "      <td>37.772313</td>\n",
       "      <td>-122.509895</td>\n",
       "      <td>0.0</td>\n",
       "      <td>0.0</td>\n",
       "      <td>0.0</td>\n",
       "      <td>0.0</td>\n",
       "      <td>0.0</td>\n",
       "      <td>...</td>\n",
       "      <td>0.0</td>\n",
       "      <td>0.0</td>\n",
       "      <td>0.0</td>\n",
       "      <td>Outer Richmond</td>\n",
       "      <td>0</td>\n",
       "      <td>15</td>\n",
       "      <td>37.772313</td>\n",
       "      <td>-122.509895</td>\n",
       "      <td>NON-VIOLENT</td>\n",
       "      <td>0.0</td>\n",
       "    </tr>\n",
       "  </tbody>\n",
       "</table>\n",
       "<p>2 rows × 57 columns</p>\n",
       "</div>"
      ],
      "text/plain": [
       "       idx  Day_x  Hour_x  latitude_x  longitude_x  \\\n",
       "0  1429899      1       5   37.749695  -122.420360   \n",
       "1  2155040      0      15   37.772313  -122.509895   \n",
       "\n",
       "   Neighborhoods_Bayview Hunters Point  Neighborhoods_Bernal Heights  \\\n",
       "0                                  0.0                           0.0   \n",
       "1                                  0.0                           0.0   \n",
       "\n",
       "   Neighborhoods_Castro/Upper Market  Neighborhoods_Chinatown  \\\n",
       "0                                0.0                      0.0   \n",
       "1                                0.0                      0.0   \n",
       "\n",
       "   Neighborhoods_Excelsior      ...        Type_OTHER  Type_PROPERTY  \\\n",
       "0                      0.0      ...               0.0            0.0   \n",
       "1                      0.0      ...               0.0            0.0   \n",
       "\n",
       "   Type_VIOLENT   Neighborhoods  Day_y  Hour_y  latitude_y  longitude_y  \\\n",
       "0           1.0         Mission      1       5   37.749695  -122.420360   \n",
       "1           0.0  Outer Richmond      0      15   37.772313  -122.509895   \n",
       "\n",
       "          Type  CrimeHappened  \n",
       "0      VIOLENT            0.0  \n",
       "1  NON-VIOLENT            0.0  \n",
       "\n",
       "[2 rows x 57 columns]"
      ]
     },
     "execution_count": 28,
     "metadata": {},
     "output_type": "execute_result"
    }
   ],
   "source": [
    "idxMerge = x_test_tomerge.merge(crime_pivot_reindex, on=['idx'])\n",
    "idxMerge.head(2)"
   ]
  },
  {
   "cell_type": "code",
   "execution_count": 29,
   "metadata": {
    "collapsed": false
   },
   "outputs": [
    {
     "data": {
      "text/html": [
       "<div>\n",
       "<table border=\"1\" class=\"dataframe\">\n",
       "  <thead>\n",
       "    <tr style=\"text-align: right;\">\n",
       "      <th></th>\n",
       "      <th>idx</th>\n",
       "      <th>Day_x</th>\n",
       "      <th>Hour_x</th>\n",
       "      <th>latitude_x</th>\n",
       "      <th>longitude_x</th>\n",
       "      <th>Neighborhoods_Bayview Hunters Point</th>\n",
       "      <th>Neighborhoods_Bernal Heights</th>\n",
       "      <th>Neighborhoods_Castro/Upper Market</th>\n",
       "      <th>Neighborhoods_Chinatown</th>\n",
       "      <th>Neighborhoods_Excelsior</th>\n",
       "      <th>...</th>\n",
       "      <th>Neighborhoods</th>\n",
       "      <th>Day_y</th>\n",
       "      <th>Hour_y</th>\n",
       "      <th>latitude_y</th>\n",
       "      <th>longitude_y</th>\n",
       "      <th>Type</th>\n",
       "      <th>CrimeHappened</th>\n",
       "      <th>Day</th>\n",
       "      <th>Hour</th>\n",
       "      <th>CrimeProbInNeigh</th>\n",
       "    </tr>\n",
       "  </thead>\n",
       "  <tbody>\n",
       "    <tr>\n",
       "      <th>0</th>\n",
       "      <td>1429899</td>\n",
       "      <td>1</td>\n",
       "      <td>5</td>\n",
       "      <td>37.749695</td>\n",
       "      <td>-122.420360</td>\n",
       "      <td>0.0</td>\n",
       "      <td>0.0</td>\n",
       "      <td>0.0</td>\n",
       "      <td>0.0</td>\n",
       "      <td>0.0</td>\n",
       "      <td>...</td>\n",
       "      <td>Mission</td>\n",
       "      <td>1</td>\n",
       "      <td>5</td>\n",
       "      <td>37.749695</td>\n",
       "      <td>-122.420360</td>\n",
       "      <td>VIOLENT</td>\n",
       "      <td>0.0</td>\n",
       "      <td>1</td>\n",
       "      <td>5</td>\n",
       "      <td>0.141975</td>\n",
       "    </tr>\n",
       "    <tr>\n",
       "      <th>1</th>\n",
       "      <td>1430071</td>\n",
       "      <td>1</td>\n",
       "      <td>5</td>\n",
       "      <td>37.757065</td>\n",
       "      <td>-122.419322</td>\n",
       "      <td>0.0</td>\n",
       "      <td>0.0</td>\n",
       "      <td>0.0</td>\n",
       "      <td>0.0</td>\n",
       "      <td>0.0</td>\n",
       "      <td>...</td>\n",
       "      <td>Mission</td>\n",
       "      <td>1</td>\n",
       "      <td>5</td>\n",
       "      <td>37.757065</td>\n",
       "      <td>-122.419322</td>\n",
       "      <td>VIOLENT</td>\n",
       "      <td>0.0</td>\n",
       "      <td>1</td>\n",
       "      <td>5</td>\n",
       "      <td>0.141975</td>\n",
       "    </tr>\n",
       "  </tbody>\n",
       "</table>\n",
       "<p>2 rows × 60 columns</p>\n",
       "</div>"
      ],
      "text/plain": [
       "       idx  Day_x  Hour_x  latitude_x  longitude_x  \\\n",
       "0  1429899      1       5   37.749695  -122.420360   \n",
       "1  1430071      1       5   37.757065  -122.419322   \n",
       "\n",
       "   Neighborhoods_Bayview Hunters Point  Neighborhoods_Bernal Heights  \\\n",
       "0                                  0.0                           0.0   \n",
       "1                                  0.0                           0.0   \n",
       "\n",
       "   Neighborhoods_Castro/Upper Market  Neighborhoods_Chinatown  \\\n",
       "0                                0.0                      0.0   \n",
       "1                                0.0                      0.0   \n",
       "\n",
       "   Neighborhoods_Excelsior        ...         Neighborhoods  Day_y  Hour_y  \\\n",
       "0                      0.0        ...               Mission      1       5   \n",
       "1                      0.0        ...               Mission      1       5   \n",
       "\n",
       "   latitude_y  longitude_y     Type  CrimeHappened  Day  Hour  \\\n",
       "0   37.749695  -122.420360  VIOLENT            0.0    1     5   \n",
       "1   37.757065  -122.419322  VIOLENT            0.0    1     5   \n",
       "\n",
       "   CrimeProbInNeigh  \n",
       "0          0.141975  \n",
       "1          0.141975  \n",
       "\n",
       "[2 rows x 60 columns]"
      ]
     },
     "execution_count": 29,
     "metadata": {},
     "output_type": "execute_result"
    }
   ],
   "source": [
    "base_test_merge = idxMerge.merge(sfcrime_prob, left_on=['Day_y', 'Hour_y', 'Neighborhoods', 'Type'], right_on=['Day', 'Hour', 'Neighborhoods', 'Type'])\n",
    "base_test_merge.head(2)"
   ]
  },
  {
   "cell_type": "code",
   "execution_count": 30,
   "metadata": {
    "collapsed": false
   },
   "outputs": [
    {
     "data": {
      "text/plain": [
       "(300000, 1)"
      ]
     },
     "execution_count": 30,
     "metadata": {},
     "output_type": "execute_result"
    }
   ],
   "source": [
    "y_test.shape"
   ]
  },
  {
   "cell_type": "code",
   "execution_count": 31,
   "metadata": {
    "collapsed": false
   },
   "outputs": [
    {
     "data": {
      "text/html": [
       "<div>\n",
       "<table border=\"1\" class=\"dataframe\">\n",
       "  <thead>\n",
       "    <tr style=\"text-align: right;\">\n",
       "      <th></th>\n",
       "      <th>idx</th>\n",
       "      <th>CrimeHappened</th>\n",
       "    </tr>\n",
       "  </thead>\n",
       "  <tbody>\n",
       "    <tr>\n",
       "      <th>0</th>\n",
       "      <td>1429899</td>\n",
       "      <td>0</td>\n",
       "    </tr>\n",
       "    <tr>\n",
       "      <th>1</th>\n",
       "      <td>2155040</td>\n",
       "      <td>0</td>\n",
       "    </tr>\n",
       "  </tbody>\n",
       "</table>\n",
       "</div>"
      ],
      "text/plain": [
       "       idx  CrimeHappened\n",
       "0  1429899              0\n",
       "1  2155040              0"
      ]
     },
     "execution_count": 31,
     "metadata": {},
     "output_type": "execute_result"
    }
   ],
   "source": [
    "y_test_merge = y_test.reset_index()\n",
    "y_test_merge = y_test_merge.rename(columns={'index': 'idx'})\n",
    "y_test_merge.head(2)"
   ]
  },
  {
   "cell_type": "code",
   "execution_count": 32,
   "metadata": {
    "collapsed": true
   },
   "outputs": [],
   "source": [
    "base = y_test_merge.merge(base_test_merge, on='idx', how='right')"
   ]
  },
  {
   "cell_type": "code",
   "execution_count": 33,
   "metadata": {
    "collapsed": false
   },
   "outputs": [
    {
     "data": {
      "text/html": [
       "<div>\n",
       "<table border=\"1\" class=\"dataframe\">\n",
       "  <thead>\n",
       "    <tr style=\"text-align: right;\">\n",
       "      <th></th>\n",
       "      <th>idx</th>\n",
       "      <th>CrimeHappened_x</th>\n",
       "      <th>Day_x</th>\n",
       "      <th>Hour_x</th>\n",
       "      <th>latitude_x</th>\n",
       "      <th>longitude_x</th>\n",
       "      <th>Neighborhoods_Bayview Hunters Point</th>\n",
       "      <th>Neighborhoods_Bernal Heights</th>\n",
       "      <th>Neighborhoods_Castro/Upper Market</th>\n",
       "      <th>Neighborhoods_Chinatown</th>\n",
       "      <th>...</th>\n",
       "      <th>Neighborhoods</th>\n",
       "      <th>Day_y</th>\n",
       "      <th>Hour_y</th>\n",
       "      <th>latitude_y</th>\n",
       "      <th>longitude_y</th>\n",
       "      <th>Type</th>\n",
       "      <th>CrimeHappened_y</th>\n",
       "      <th>Day</th>\n",
       "      <th>Hour</th>\n",
       "      <th>CrimeProbInNeigh</th>\n",
       "    </tr>\n",
       "  </thead>\n",
       "  <tbody>\n",
       "    <tr>\n",
       "      <th>0</th>\n",
       "      <td>1429899</td>\n",
       "      <td>0</td>\n",
       "      <td>1</td>\n",
       "      <td>5</td>\n",
       "      <td>37.749695</td>\n",
       "      <td>-122.420360</td>\n",
       "      <td>0.0</td>\n",
       "      <td>0.0</td>\n",
       "      <td>0.0</td>\n",
       "      <td>0.0</td>\n",
       "      <td>...</td>\n",
       "      <td>Mission</td>\n",
       "      <td>1</td>\n",
       "      <td>5</td>\n",
       "      <td>37.749695</td>\n",
       "      <td>-122.420360</td>\n",
       "      <td>VIOLENT</td>\n",
       "      <td>0.0</td>\n",
       "      <td>1</td>\n",
       "      <td>5</td>\n",
       "      <td>0.141975</td>\n",
       "    </tr>\n",
       "    <tr>\n",
       "      <th>1</th>\n",
       "      <td>2155040</td>\n",
       "      <td>0</td>\n",
       "      <td>0</td>\n",
       "      <td>15</td>\n",
       "      <td>37.772313</td>\n",
       "      <td>-122.509895</td>\n",
       "      <td>0.0</td>\n",
       "      <td>0.0</td>\n",
       "      <td>0.0</td>\n",
       "      <td>0.0</td>\n",
       "      <td>...</td>\n",
       "      <td>Outer Richmond</td>\n",
       "      <td>0</td>\n",
       "      <td>15</td>\n",
       "      <td>37.772313</td>\n",
       "      <td>-122.509895</td>\n",
       "      <td>NON-VIOLENT</td>\n",
       "      <td>0.0</td>\n",
       "      <td>0</td>\n",
       "      <td>15</td>\n",
       "      <td>0.245675</td>\n",
       "    </tr>\n",
       "  </tbody>\n",
       "</table>\n",
       "<p>2 rows × 61 columns</p>\n",
       "</div>"
      ],
      "text/plain": [
       "       idx  CrimeHappened_x  Day_x  Hour_x  latitude_x  longitude_x  \\\n",
       "0  1429899                0      1       5   37.749695  -122.420360   \n",
       "1  2155040                0      0      15   37.772313  -122.509895   \n",
       "\n",
       "   Neighborhoods_Bayview Hunters Point  Neighborhoods_Bernal Heights  \\\n",
       "0                                  0.0                           0.0   \n",
       "1                                  0.0                           0.0   \n",
       "\n",
       "   Neighborhoods_Castro/Upper Market  Neighborhoods_Chinatown  \\\n",
       "0                                0.0                      0.0   \n",
       "1                                0.0                      0.0   \n",
       "\n",
       "         ...          Neighborhoods  Day_y  Hour_y  latitude_y  longitude_y  \\\n",
       "0        ...                Mission      1       5   37.749695  -122.420360   \n",
       "1        ...         Outer Richmond      0      15   37.772313  -122.509895   \n",
       "\n",
       "          Type  CrimeHappened_y  Day  Hour  CrimeProbInNeigh  \n",
       "0      VIOLENT              0.0    1     5          0.141975  \n",
       "1  NON-VIOLENT              0.0    0    15          0.245675  \n",
       "\n",
       "[2 rows x 61 columns]"
      ]
     },
     "execution_count": 33,
     "metadata": {},
     "output_type": "execute_result"
    }
   ],
   "source": [
    "base.head(2)"
   ]
  },
  {
   "cell_type": "code",
   "execution_count": 34,
   "metadata": {
    "collapsed": false
   },
   "outputs": [
    {
     "data": {
      "image/png": "[encoded data removed]",
      "text/plain": [
       "<matplotlib.figure.Figure at 0x10445edd0>"
      ]
     },
     "metadata": {},
     "output_type": "display_data"
    }
   ],
   "source": [
    "fpr_base, tpr_base, thresholds_b = roc_curve(base['CrimeHappened_x'], base['CrimeProbInNeigh'])\n",
    "\n",
    "auc_base = auc(fpr_base, tpr_base)\n",
    "    \n",
    "plt.figure(figsize = (7,7))\n",
    "lw = 2\n",
    "plt.plot(fpr_base, tpr_base, color='yellow', lw=lw, label='ROC curve (area = %0.2f) -- Baseline' % auc_base)\n",
    "\n",
    "plt.plot([0, 1], [0, 1], color='navy', lw=lw, linestyle='--')\n",
    "plt.xlim([0.0, 1.0])\n",
    "plt.ylim([0.0, 1.05])\n",
    "plt.xlabel('False Positive Rate')\n",
    "plt.ylabel('True Positive Rate')\n",
    "plt.title('ROC')\n",
    "plt.legend(loc=\"lower right\")\n",
    "plt.show()"
   ]
  },
  {
   "cell_type": "markdown",
   "metadata": {},
   "source": [
    "## Logistic Regression with sample data set"
   ]
  },
  {
   "cell_type": "code",
   "execution_count": 35,
   "metadata": {
    "collapsed": false
   },
   "outputs": [],
   "source": [
    "y = np.ravel(y)"
   ]
  },
  {
   "cell_type": "code",
   "execution_count": 36,
   "metadata": {
    "collapsed": false
   },
   "outputs": [
    {
     "data": {
      "text/plain": [
       "0.66969599999999996"
      ]
     },
     "execution_count": 36,
     "metadata": {},
     "output_type": "execute_result"
    }
   ],
   "source": [
    "logreg = LogisticRegression()\n",
    "logreg = logreg.fit(sf_test_X, y)\n",
    "logreg.score(sf_test_X, y)"
   ]
  },
  {
   "cell_type": "code",
   "execution_count": 167,
   "metadata": {
    "collapsed": false
   },
   "outputs": [
    {
     "data": {
      "text/html": [
       "<div>\n",
       "<table border=\"1\" class=\"dataframe\">\n",
       "  <thead>\n",
       "    <tr style=\"text-align: right;\">\n",
       "      <th></th>\n",
       "      <th>Features</th>\n",
       "      <th>Importances</th>\n",
       "    </tr>\n",
       "  </thead>\n",
       "  <tbody>\n",
       "    <tr>\n",
       "      <th>0</th>\n",
       "      <td>Day</td>\n",
       "      <td>0.004312</td>\n",
       "    </tr>\n",
       "    <tr>\n",
       "      <th>1</th>\n",
       "      <td>Hour</td>\n",
       "      <td>0.005237</td>\n",
       "    </tr>\n",
       "    <tr>\n",
       "      <th>2</th>\n",
       "      <td>latitude</td>\n",
       "      <td>0.143813</td>\n",
       "    </tr>\n",
       "    <tr>\n",
       "      <th>3</th>\n",
       "      <td>longitude</td>\n",
       "      <td>0.051175</td>\n",
       "    </tr>\n",
       "    <tr>\n",
       "      <th>4</th>\n",
       "      <td>Neighborhoods_Bayview Hunters Point</td>\n",
       "      <td>0.065469</td>\n",
       "    </tr>\n",
       "  </tbody>\n",
       "</table>\n",
       "</div>"
      ],
      "text/plain": [
       "                              Features  Importances\n",
       "0                                  Day     0.004312\n",
       "1                                 Hour     0.005237\n",
       "2                             latitude     0.143813\n",
       "3                            longitude     0.051175\n",
       "4  Neighborhoods_Bayview Hunters Point     0.065469"
      ]
     },
     "execution_count": 167,
     "metadata": {},
     "output_type": "execute_result"
    }
   ],
   "source": [
    "lr_coef = pd.DataFrame(zip(sf_test_X.columns, np.transpose(logreg.coef_)))\n",
    "lr_coef.columns = ['Features','Importances']\n",
    "lr_coef['Importances'] = lr_coef['Importances'].apply(lambda x: x[0])\n",
    "lr_coef.head()"
   ]
  },
  {
   "cell_type": "code",
   "execution_count": 169,
   "metadata": {
    "collapsed": false
   },
   "outputs": [
    {
     "data": {
      "text/html": [
       "<div>\n",
       "<table border=\"1\" class=\"dataframe\">\n",
       "  <thead>\n",
       "    <tr style=\"text-align: right;\">\n",
       "      <th></th>\n",
       "      <th>Features</th>\n",
       "      <th>Importances</th>\n",
       "    </tr>\n",
       "  </thead>\n",
       "  <tbody>\n",
       "    <tr>\n",
       "      <th>39</th>\n",
       "      <td>Neighborhoods_Tenderloin</td>\n",
       "      <td>0.819288</td>\n",
       "    </tr>\n",
       "    <tr>\n",
       "      <th>46</th>\n",
       "      <td>Type_OTHER</td>\n",
       "      <td>0.705314</td>\n",
       "    </tr>\n",
       "    <tr>\n",
       "      <th>40</th>\n",
       "      <td>Neighborhoods_Treasure Island</td>\n",
       "      <td>0.676657</td>\n",
       "    </tr>\n",
       "    <tr>\n",
       "      <th>45</th>\n",
       "      <td>Type_NON-VIOLENT</td>\n",
       "      <td>0.523479</td>\n",
       "    </tr>\n",
       "    <tr>\n",
       "      <th>37</th>\n",
       "      <td>Neighborhoods_South of Market</td>\n",
       "      <td>0.371897</td>\n",
       "    </tr>\n",
       "  </tbody>\n",
       "</table>\n",
       "</div>"
      ],
      "text/plain": [
       "                         Features  Importances\n",
       "39       Neighborhoods_Tenderloin     0.819288\n",
       "46                     Type_OTHER     0.705314\n",
       "40  Neighborhoods_Treasure Island     0.676657\n",
       "45               Type_NON-VIOLENT     0.523479\n",
       "37  Neighborhoods_South of Market     0.371897"
      ]
     },
     "execution_count": 169,
     "metadata": {},
     "output_type": "execute_result"
    }
   ],
   "source": [
    "flr_coef = lr_coef.sort_values(by='Importances', ascending=False).head(5)\n",
    "flr_coef"
   ]
  },
  {
   "cell_type": "code",
   "execution_count": 166,
   "metadata": {
    "collapsed": false
   },
   "outputs": [
    {
     "data": {
      "image/png": "[encoded data removed]",
      "text/plain": [
       "<matplotlib.figure.Figure at 0x1155d5d50>"
      ]
     },
     "metadata": {},
     "output_type": "display_data"
    }
   ],
   "source": [
    "flr_coef.plot(kind ='bar', figsize=(15,5) , x='Features', y='Importances', legend=False, rot=90)\n",
    "plt.xlabel(\"\")\n",
    "plt.show()"
   ]
  },
  {
   "cell_type": "code",
   "execution_count": null,
   "metadata": {
    "collapsed": true
   },
   "outputs": [],
   "source": [
    "fig = figure()\n",
    "ax = fig.add_subplot(111)\n",
    "ax.bar( [0,1,2], [1,3,5] )\n",
    "ax.set_xticks( [ 0.5, 1.5, 2.5 ] )\n",
    "ax.set_xticklabels( [‘tom’,‘dick’,‘harry’], rotation=45 ) ;"
   ]
  },
  {
   "cell_type": "code",
   "execution_count": 137,
   "metadata": {
    "collapsed": false
   },
   "outputs": [
    {
     "data": {
      "text/plain": [
       "array([  7.90621689e-02,   1.50213110e-01,   3.32203649e-01,\n",
       "         3.27736743e-01,   2.09860405e-03,   7.33614389e-04,\n",
       "         4.45621936e-04,   3.75066215e-04,   1.11882646e-03,\n",
       "         9.94041574e-04,   3.03176375e-04,   3.28262094e-04,\n",
       "         3.84382213e-04,   5.08224833e-04,   3.69341179e-04,\n",
       "         3.04099434e-04,   2.90246260e-04,   3.88563472e-04,\n",
       "         6.42912139e-05,   3.21228492e-04,   5.62671083e-04,\n",
       "         1.81386257e-04,   1.08851971e-03,   2.58464079e-04,\n",
       "         4.29306560e-04,   5.53699743e-04,   3.42960703e-04,\n",
       "         2.56027855e-04,   5.05464054e-04,   5.35502381e-04,\n",
       "         6.92632476e-04,   5.67062410e-04,   4.65731415e-04,\n",
       "         7.22434134e-05,   3.06646677e-04,   4.52770038e-04,\n",
       "         1.25958933e-04,   8.97433968e-04,   5.99198012e-04,\n",
       "         6.37807490e-03,   8.04003710e-05,   2.44820984e-04,\n",
       "         7.96201630e-04,   4.11350425e-04,   7.50076347e-04,\n",
       "         1.85253666e-02,   3.03877376e-02,   1.33951783e-02,\n",
       "         2.18938517e-02])"
      ]
     },
     "execution_count": 137,
     "metadata": {},
     "output_type": "execute_result"
    }
   ],
   "source": [
    "feats"
   ]
  },
  {
   "cell_type": "markdown",
   "metadata": {},
   "source": [
    "### Logistic Regression with train_test_split"
   ]
  },
  {
   "cell_type": "code",
   "execution_count": 39,
   "metadata": {
    "collapsed": false
   },
   "outputs": [
    {
     "name": "stderr",
     "output_type": "stream",
     "text": [
      "/Users/lana/anaconda/envs/dsi/lib/python2.7/site-packages/sklearn/utils/validation.py:526: DataConversionWarning: A column-vector y was passed when a 1d array was expected. Please change the shape of y to (n_samples, ), for example using ravel().\n",
      "  y = column_or_1d(y, warn=True)\n"
     ]
    },
    {
     "data": {
      "text/plain": [
       "LogisticRegression(C=1.0, class_weight=None, dual=False, fit_intercept=True,\n",
       "          intercept_scaling=1, max_iter=100, multi_class='ovr', n_jobs=1,\n",
       "          penalty='l2', random_state=None, solver='liblinear', tol=0.0001,\n",
       "          verbose=0, warm_start=False)"
      ]
     },
     "execution_count": 39,
     "metadata": {},
     "output_type": "execute_result"
    }
   ],
   "source": [
    "lr = LogisticRegression()\n",
    "lr.fit(X_train, y_train)"
   ]
  },
  {
   "cell_type": "code",
   "execution_count": 40,
   "metadata": {
    "collapsed": false
   },
   "outputs": [
    {
     "name": "stdout",
     "output_type": "stream",
     "text": [
      "[0 0 0 ..., 0 0 0]\n",
      "[[ 0.79235552  0.20764448]\n",
      " [ 0.59724406  0.40275594]\n",
      " [ 0.5838201   0.4161799 ]\n",
      " ..., \n",
      " [ 0.81501413  0.18498587]\n",
      " [ 0.76201419  0.23798581]\n",
      " [ 0.55142451  0.44857549]]\n"
     ]
    }
   ],
   "source": [
    "predicted = lr.predict(X_test)\n",
    "probs = lr.predict_proba(X_test)\n",
    "# lr.class_\n",
    "# [1, 0]\n",
    "print predicted\n",
    "print probs"
   ]
  },
  {
   "cell_type": "code",
   "execution_count": 41,
   "metadata": {
    "collapsed": false
   },
   "outputs": [
    {
     "name": "stdout",
     "output_type": "stream",
     "text": [
      "0.669943333333\n",
      "0.678957077626\n"
     ]
    }
   ],
   "source": [
    "print metrics.accuracy_score(y_test, predicted)\n",
    "print metrics.roc_auc_score(y_test, probs[:, 1])"
   ]
  },
  {
   "cell_type": "code",
   "execution_count": 42,
   "metadata": {
    "collapsed": false
   },
   "outputs": [
    {
     "name": "stdout",
     "output_type": "stream",
     "text": [
      "[[173913  21360]\n",
      " [ 77657  27070]]\n",
      "             precision    recall  f1-score   support\n",
      "\n",
      "          0       0.69      0.89      0.78    195273\n",
      "          1       0.56      0.26      0.35    104727\n",
      "\n",
      "avg / total       0.65      0.67      0.63    300000\n",
      "\n"
     ]
    }
   ],
   "source": [
    "print metrics.confusion_matrix(y_test, predicted)\n",
    "print metrics.classification_report(y_test, predicted)"
   ]
  },
  {
   "cell_type": "code",
   "execution_count": 43,
   "metadata": {
    "collapsed": false
   },
   "outputs": [
    {
     "data": {
      "text/plain": [
       "((1000000, 49), (1000000,))"
      ]
     },
     "execution_count": 43,
     "metadata": {},
     "output_type": "execute_result"
    }
   ],
   "source": [
    "sf_test_X.shape, y.shape"
   ]
  },
  {
   "cell_type": "code",
   "execution_count": 44,
   "metadata": {
    "collapsed": false
   },
   "outputs": [
    {
     "data": {
      "image/png": "[encoded data removed]",
      "text/plain": [
       "<matplotlib.figure.Figure at 0x111d0cc10>"
      ]
     },
     "metadata": {},
     "output_type": "display_data"
    }
   ],
   "source": [
    "fpr_lr, tpr_lr, thresholds_lr = roc_curve(y_test, probs.T[1])\n",
    "\n",
    "auc_lr = auc(fpr_lr, tpr_lr)\n",
    "  \n",
    "plt.figure(figsize = (7,7))\n",
    "lw = 2\n",
    "plt.plot(fpr_lr, tpr_lr, color='green', lw=lw, label='ROC curve (area = %0.2f) -- Logistic' % auc_lr)\n",
    "\n",
    "plt.plot([0, 1], [0, 1], color='navy', lw=lw, linestyle='--')\n",
    "plt.xlim([0.0, 1.0])\n",
    "plt.ylim([0.0, 1.05])\n",
    "plt.xlabel('False Positive Rate')\n",
    "plt.ylabel('True Positive Rate')\n",
    "plt.title('Logistic Regression ROC')\n",
    "plt.legend(loc=\"lower right\")\n",
    "plt.show()"
   ]
  },
  {
   "cell_type": "code",
   "execution_count": 45,
   "metadata": {
    "collapsed": false
   },
   "outputs": [
    {
     "name": "stdout",
     "output_type": "stream",
     "text": [
      "[ 0.66799332  0.6701733   0.66884331  0.66926331  0.66911     0.67026\n",
      "  0.66943669  0.66912669  0.67061671  0.67207672]\n",
      "0.669690004984\n"
     ]
    }
   ],
   "source": [
    "scores = cross_val_score(LogisticRegression(), sf_test_X, y, scoring='accuracy', cv=10)\n",
    "print scores\n",
    "print scores.mean()"
   ]
  },
  {
   "cell_type": "markdown",
   "metadata": {},
   "source": [
    "## Random Forest"
   ]
  },
  {
   "cell_type": "code",
   "execution_count": 46,
   "metadata": {
    "collapsed": true
   },
   "outputs": [],
   "source": [
    "y_train = np.ravel(y_train)"
   ]
  },
  {
   "cell_type": "code",
   "execution_count": 47,
   "metadata": {
    "collapsed": false
   },
   "outputs": [
    {
     "data": {
      "text/plain": [
       "RandomForestClassifier(bootstrap=True, class_weight=None, criterion='gini',\n",
       "            max_depth=None, max_features='auto', max_leaf_nodes=None,\n",
       "            min_impurity_split=1e-07, min_samples_leaf=1,\n",
       "            min_samples_split=2, min_weight_fraction_leaf=0.0,\n",
       "            n_estimators=10, n_jobs=1, oob_score=False, random_state=None,\n",
       "            verbose=0, warm_start=False)"
      ]
     },
     "execution_count": 47,
     "metadata": {},
     "output_type": "execute_result"
    }
   ],
   "source": [
    "# instatiate model\n",
    "rfc = RandomForestClassifier(n_estimators=10)\n",
    "rfc.fit(X_train, y_train)"
   ]
  },
  {
   "cell_type": "code",
   "execution_count": 48,
   "metadata": {
    "collapsed": false
   },
   "outputs": [
    {
     "data": {
      "text/plain": [
       "(array([ 0.67110474,  0.67349143,  0.67447429,  0.67158098]),\n",
       " 0.67266285782320567)"
      ]
     },
     "execution_count": 48,
     "metadata": {},
     "output_type": "execute_result"
    }
   ],
   "source": [
    "rfc_scores = cross_val_score(rfc, X_train, y_train, cv=4)\n",
    "rfc_scores, np.mean(rfc_scores)"
   ]
  },
  {
   "cell_type": "code",
   "execution_count": 152,
   "metadata": {
    "collapsed": false
   },
   "outputs": [],
   "source": [
    "rfc_fea = pd.DataFrame(zip(sf_test_X.columns, np.transpose(rfc.feature_importances_)))\n",
    "rfc_fea.columns = ['Features','Importances']"
   ]
  },
  {
   "cell_type": "code",
   "execution_count": 153,
   "metadata": {
    "collapsed": false
   },
   "outputs": [
    {
     "data": {
      "text/html": [
       "<div>\n",
       "<table border=\"1\" class=\"dataframe\">\n",
       "  <thead>\n",
       "    <tr style=\"text-align: right;\">\n",
       "      <th></th>\n",
       "      <th>Features</th>\n",
       "      <th>Importances</th>\n",
       "    </tr>\n",
       "  </thead>\n",
       "  <tbody>\n",
       "    <tr>\n",
       "      <th>2</th>\n",
       "      <td>latitude</td>\n",
       "      <td>0.332204</td>\n",
       "    </tr>\n",
       "    <tr>\n",
       "      <th>3</th>\n",
       "      <td>longitude</td>\n",
       "      <td>0.327737</td>\n",
       "    </tr>\n",
       "    <tr>\n",
       "      <th>1</th>\n",
       "      <td>Hour</td>\n",
       "      <td>0.150213</td>\n",
       "    </tr>\n",
       "    <tr>\n",
       "      <th>0</th>\n",
       "      <td>Day</td>\n",
       "      <td>0.079062</td>\n",
       "    </tr>\n",
       "    <tr>\n",
       "      <th>46</th>\n",
       "      <td>Type_OTHER</td>\n",
       "      <td>0.030388</td>\n",
       "    </tr>\n",
       "  </tbody>\n",
       "</table>\n",
       "</div>"
      ],
      "text/plain": [
       "      Features  Importances\n",
       "2     latitude     0.332204\n",
       "3    longitude     0.327737\n",
       "1         Hour     0.150213\n",
       "0          Day     0.079062\n",
       "46  Type_OTHER     0.030388"
      ]
     },
     "execution_count": 153,
     "metadata": {},
     "output_type": "execute_result"
    }
   ],
   "source": [
    "rfc_fea.sort_values(by='Importances', ascending=False).head(5)"
   ]
  },
  {
   "cell_type": "code",
   "execution_count": 154,
   "metadata": {
    "collapsed": false
   },
   "outputs": [
    {
     "data": {
      "image/png": "[encoded data removed]",
      "text/plain": [
       "<matplotlib.figure.Figure at 0x11317c3d0>"
      ]
     },
     "metadata": {},
     "output_type": "display_data"
    }
   ],
   "source": [
    "feats = rfc.feature_importances_\n",
    "## rfc3.estimators_ --> list of Decision Tree Classifer Instances \n",
    "std = np.std([tree.feature_importances_ for tree in rfc.estimators_],axis=0)\n",
    "indices = np.argsort(feats)[::-1]\n",
    "\n",
    "plt.figure(figsize=(20,5))\n",
    "plt.title(\"Feature importances\")\n",
    "plt.bar(range(len(feats)), feats[indices], color=\"g\", yerr=std[indices], align='center', width=-0.8, alpha=0.6)\n",
    "plt.xticks(range(len(feats)), rfc_fea.Features)\n",
    "plt.xlim([-1, 5.5])\n",
    "plt.ylim([0,.40])\n",
    "plt.show()"
   ]
  },
  {
   "cell_type": "code",
   "execution_count": 49,
   "metadata": {
    "collapsed": false
   },
   "outputs": [
    {
     "name": "stdout",
     "output_type": "stream",
     "text": [
      "[0 1 0 ..., 0 0 0]\n",
      "[[ 0.9  0.1]\n",
      " [ 0.3  0.7]\n",
      " [ 0.8  0.2]\n",
      " ..., \n",
      " [ 0.9  0.1]\n",
      " [ 0.6  0.4]\n",
      " [ 0.9  0.1]]\n"
     ]
    }
   ],
   "source": [
    "predicted = rfc.predict(X_test)\n",
    "probs = rfc.predict_proba(X_test)\n",
    "print predicted\n",
    "print probs"
   ]
  },
  {
   "cell_type": "code",
   "execution_count": 50,
   "metadata": {
    "collapsed": false
   },
   "outputs": [
    {
     "name": "stdout",
     "output_type": "stream",
     "text": [
      "0.672606666667\n",
      "0.666998287968\n"
     ]
    }
   ],
   "source": [
    "print metrics.accuracy_score(y_test, predicted)\n",
    "print metrics.roc_auc_score(y_test, probs[:, 1])"
   ]
  },
  {
   "cell_type": "code",
   "execution_count": 51,
   "metadata": {
    "collapsed": false
   },
   "outputs": [
    {
     "name": "stdout",
     "output_type": "stream",
     "text": [
      "[[161660  33613]\n",
      " [ 64605  40122]]\n",
      "             precision    recall  f1-score   support\n",
      "\n",
      "          0       0.71      0.83      0.77    195273\n",
      "          1       0.54      0.38      0.45    104727\n",
      "\n",
      "avg / total       0.66      0.67      0.66    300000\n",
      "\n"
     ]
    }
   ],
   "source": [
    "print metrics.confusion_matrix(y_test, predicted)\n",
    "print metrics.classification_report(y_test, predicted)"
   ]
  },
  {
   "cell_type": "code",
   "execution_count": 52,
   "metadata": {
    "collapsed": false
   },
   "outputs": [
    {
     "data": {
      "image/png": "[encoded data removed]",
      "text/plain": [
       "<matplotlib.figure.Figure at 0x1120f3d90>"
      ]
     },
     "metadata": {},
     "output_type": "display_data"
    }
   ],
   "source": [
    "fpr_rfc, tpr_rfc, thresholds_rfc = roc_curve(y_test, probs.T[1])\n",
    "\n",
    "auc_rfc = auc(fpr_rfc, tpr_rfc)\n",
    "    \n",
    "plt.figure(figsize = (7,7))\n",
    "lw = 2\n",
    "plt.plot(fpr_rfc, tpr_rfc, color='red',\n",
    "         lw=lw, label='ROC curve (area = %0.2f) -- Random Forest' % auc_rfc)\n",
    "\n",
    "\n",
    "plt.plot([0, 1], [0, 1], color='navy', lw=lw, linestyle='--')\n",
    "plt.xlim([0.0, 1.0])\n",
    "plt.ylim([0.0, 1.05])\n",
    "plt.xlabel('False Positive Rate')\n",
    "plt.ylabel('True Positive Rate')\n",
    "plt.title('Random Forest ROC')\n",
    "plt.legend(loc=\"lower right\")\n",
    "plt.show()"
   ]
  },
  {
   "cell_type": "code",
   "execution_count": 53,
   "metadata": {
    "collapsed": false
   },
   "outputs": [
    {
     "name": "stdout",
     "output_type": "stream",
     "text": [
      "[ 0.67360326  0.67452325  0.67480325  0.67395326  0.67496     0.67406\n",
      "  0.67604676  0.67409674  0.67573676  0.67337673]\n",
      "0.674516002374\n"
     ]
    }
   ],
   "source": [
    "scores = cross_val_score(rfc, sf_test_X, y, scoring='accuracy', cv=10)\n",
    "print scores\n",
    "print scores.mean()"
   ]
  },
  {
   "cell_type": "markdown",
   "metadata": {},
   "source": [
    "## Gradient Boosting"
   ]
  },
  {
   "cell_type": "code",
   "execution_count": 54,
   "metadata": {
    "collapsed": false
   },
   "outputs": [
    {
     "data": {
      "text/plain": [
       "GradientBoostingClassifier(criterion='friedman_mse', init=None,\n",
       "              learning_rate=0.1, loss='deviance', max_depth=3,\n",
       "              max_features=None, max_leaf_nodes=None,\n",
       "              min_impurity_split=1e-07, min_samples_leaf=1,\n",
       "              min_samples_split=2, min_weight_fraction_leaf=0.0,\n",
       "              n_estimators=100, presort='auto', random_state=None,\n",
       "              subsample=1.0, verbose=0, warm_start=False)"
      ]
     },
     "execution_count": 54,
     "metadata": {},
     "output_type": "execute_result"
    }
   ],
   "source": [
    "gbc = GradientBoostingClassifier()\n",
    "gbc.fit(X_train, y_train)"
   ]
  },
  {
   "cell_type": "code",
   "execution_count": 55,
   "metadata": {
    "collapsed": false
   },
   "outputs": [
    {
     "data": {
      "text/plain": [
       "(array([ 0.69084748,  0.69166857,  0.69107429,  0.69109538]),\n",
       " 0.69117142892556704)"
      ]
     },
     "execution_count": 55,
     "metadata": {},
     "output_type": "execute_result"
    }
   ],
   "source": [
    "gbc_scores = cross_val_score(gbc, X_train, y_train, cv=4)\n",
    "gbc_scores, np.mean(gbc_scores)"
   ]
  },
  {
   "cell_type": "code",
   "execution_count": 157,
   "metadata": {
    "collapsed": false
   },
   "outputs": [],
   "source": [
    "gbc_fea = pd.DataFrame(zip(sf_test_X.columns, np.transpose(gbc.feature_importances_)))\n",
    "gbc_fea.columns = ['Features','Importances']"
   ]
  },
  {
   "cell_type": "code",
   "execution_count": 158,
   "metadata": {
    "collapsed": false
   },
   "outputs": [
    {
     "data": {
      "text/html": [
       "<div>\n",
       "<table border=\"1\" class=\"dataframe\">\n",
       "  <thead>\n",
       "    <tr style=\"text-align: right;\">\n",
       "      <th></th>\n",
       "      <th>Features</th>\n",
       "      <th>Importances</th>\n",
       "    </tr>\n",
       "  </thead>\n",
       "  <tbody>\n",
       "    <tr>\n",
       "      <th>2</th>\n",
       "      <td>latitude</td>\n",
       "      <td>0.208859</td>\n",
       "    </tr>\n",
       "    <tr>\n",
       "      <th>3</th>\n",
       "      <td>longitude</td>\n",
       "      <td>0.190110</td>\n",
       "    </tr>\n",
       "    <tr>\n",
       "      <th>45</th>\n",
       "      <td>Type_NON-VIOLENT</td>\n",
       "      <td>0.154059</td>\n",
       "    </tr>\n",
       "    <tr>\n",
       "      <th>1</th>\n",
       "      <td>Hour</td>\n",
       "      <td>0.088049</td>\n",
       "    </tr>\n",
       "    <tr>\n",
       "      <th>46</th>\n",
       "      <td>Type_OTHER</td>\n",
       "      <td>0.075126</td>\n",
       "    </tr>\n",
       "  </tbody>\n",
       "</table>\n",
       "</div>"
      ],
      "text/plain": [
       "            Features  Importances\n",
       "2           latitude     0.208859\n",
       "3          longitude     0.190110\n",
       "45  Type_NON-VIOLENT     0.154059\n",
       "1               Hour     0.088049\n",
       "46        Type_OTHER     0.075126"
      ]
     },
     "execution_count": 158,
     "metadata": {},
     "output_type": "execute_result"
    }
   ],
   "source": [
    "gbc_fea.sort_values(by='Importances', ascending=False).head(5)"
   ]
  },
  {
   "cell_type": "code",
   "execution_count": 56,
   "metadata": {
    "collapsed": true
   },
   "outputs": [],
   "source": [
    "predicted = gbc.predict(X_test)\n",
    "probs = gbc.predict_proba(X_test)"
   ]
  },
  {
   "cell_type": "code",
   "execution_count": 57,
   "metadata": {
    "collapsed": false
   },
   "outputs": [
    {
     "name": "stdout",
     "output_type": "stream",
     "text": [
      "[0 1]\n",
      "[0 1 0 ..., 0 0 0]\n",
      "[[ 0.77739633  0.22260367]\n",
      " [ 0.49447596  0.50552404]\n",
      " [ 0.51419906  0.48580094]\n",
      " ..., \n",
      " [ 0.86479421  0.13520579]\n",
      " [ 0.82335037  0.17664963]\n",
      " [ 0.58521321  0.41478679]]\n"
     ]
    }
   ],
   "source": [
    "print gbc.classes_\n",
    "print predicted\n",
    "print probs"
   ]
  },
  {
   "cell_type": "code",
   "execution_count": 58,
   "metadata": {
    "collapsed": false
   },
   "outputs": [
    {
     "name": "stdout",
     "output_type": "stream",
     "text": [
      "0.692656666667\n",
      "0.704623246033\n"
     ]
    }
   ],
   "source": [
    "print metrics.accuracy_score(y_test, predicted)\n",
    "print metrics.roc_auc_score(y_test, probs[:, 1])"
   ]
  },
  {
   "cell_type": "code",
   "execution_count": 59,
   "metadata": {
    "collapsed": false
   },
   "outputs": [
    {
     "data": {
      "image/png": "[encoded data removed]",
      "text/plain": [
       "<matplotlib.figure.Figure at 0x1189335d0>"
      ]
     },
     "metadata": {},
     "output_type": "display_data"
    }
   ],
   "source": [
    "fpr_gbc, tpr_gbc, thresholds_gbc = roc_curve(y_test, probs.T[1])\n",
    "\n",
    "auc_gbc = auc(fpr_gbc, tpr_gbc)\n",
    "    \n",
    "plt.figure(figsize = (7,7))\n",
    "lw = 2\n",
    "plt.plot(fpr_gbc, tpr_gbc, color='darkorange',\n",
    "         lw=lw, label='ROC curve (area = %0.2f) -- Gradient Boosting' % auc_gbc)\n",
    "\n",
    "plt.plot([0, 1], [0, 1], color='navy', lw=lw, linestyle='--')\n",
    "plt.xlim([0.0, 1.0])\n",
    "plt.ylim([0.0, 1.05])\n",
    "plt.xlabel('False Positive Rate')\n",
    "plt.ylabel('True Positive Rate')\n",
    "plt.title('Gradient Boosting ROC')\n",
    "plt.legend(loc=\"lower right\")\n",
    "plt.show()"
   ]
  },
  {
   "cell_type": "code",
   "execution_count": 60,
   "metadata": {
    "collapsed": false
   },
   "outputs": [
    {
     "name": "stdout",
     "output_type": "stream",
     "text": [
      "[ 0.69162308  0.69205308  0.6902931   0.69336307  0.69153     0.68992\n",
      "  0.69300693  0.69197692  0.69256693  0.69139691]\n",
      "0.691773001615\n"
     ]
    }
   ],
   "source": [
    "scores = cross_val_score(gbc, sf_test_X, y, scoring='accuracy', cv=10)\n",
    "print scores\n",
    "print scores.mean()"
   ]
  },
  {
   "cell_type": "markdown",
   "metadata": {
    "collapsed": true
   },
   "source": [
    "### All Models ROC"
   ]
  },
  {
   "cell_type": "code",
   "execution_count": 61,
   "metadata": {
    "collapsed": false
   },
   "outputs": [
    {
     "data": {
      "image/png": "[encoded data removed]",
      "text/plain": [
       "<matplotlib.figure.Figure at 0x118933fd0>"
      ]
     },
     "metadata": {},
     "output_type": "display_data"
    }
   ],
   "source": [
    "plt.figure(figsize = (12,5))\n",
    "lw = 2\n",
    "plt.plot(fpr_base, tpr_base, color='yellow', lw=lw, label='ROC curve (area = %0.3f) -- Baseline' % auc_base)\n",
    "plt.plot(fpr_lr, tpr_lr, color='green', lw=lw, label='ROC curve (area = %0.3f) -- Logistic' % auc_lr)\n",
    "plt.plot(fpr_rfc, tpr_rfc, color='red', lw=lw, label='ROC curve (area = %0.3f) -- Random Forest' % auc_rfc)\n",
    "plt.plot(fpr_gbc, tpr_gbc, color='darkorange', lw=lw, label='ROC curve (area = %0.3f) -- Gradient Boosting' % auc_gbc)\n",
    "\n",
    "plt.plot([0, 1], [0, 1], color='navy', lw=lw, linestyle='--')\n",
    "plt.xlim([0.0, 1.0])\n",
    "plt.ylim([0.0, 1.05])\n",
    "plt.xlabel('False Positive Rate')\n",
    "plt.ylabel('True Positive Rate')\n",
    "plt.title('ROC')\n",
    "plt.legend(loc=\"lower right\")\n",
    "plt.show();"
   ]
  },
  {
   "cell_type": "markdown",
   "metadata": {
    "collapsed": true
   },
   "source": [
    "### Get Probabilities from Gradient Boost"
   ]
  },
  {
   "cell_type": "code",
   "execution_count": 62,
   "metadata": {
    "collapsed": false
   },
   "outputs": [
    {
     "data": {
      "text/html": [
       "<div>\n",
       "<table border=\"1\" class=\"dataframe\">\n",
       "  <thead>\n",
       "    <tr style=\"text-align: right;\">\n",
       "      <th></th>\n",
       "      <th>0</th>\n",
       "      <th>1</th>\n",
       "    </tr>\n",
       "  </thead>\n",
       "  <tbody>\n",
       "    <tr>\n",
       "      <th>0</th>\n",
       "      <td>0.777396</td>\n",
       "      <td>0.222604</td>\n",
       "    </tr>\n",
       "    <tr>\n",
       "      <th>1</th>\n",
       "      <td>0.494476</td>\n",
       "      <td>0.505524</td>\n",
       "    </tr>\n",
       "    <tr>\n",
       "      <th>2</th>\n",
       "      <td>0.514199</td>\n",
       "      <td>0.485801</td>\n",
       "    </tr>\n",
       "    <tr>\n",
       "      <th>3</th>\n",
       "      <td>0.741690</td>\n",
       "      <td>0.258310</td>\n",
       "    </tr>\n",
       "    <tr>\n",
       "      <th>4</th>\n",
       "      <td>0.511082</td>\n",
       "      <td>0.488918</td>\n",
       "    </tr>\n",
       "  </tbody>\n",
       "</table>\n",
       "</div>"
      ],
      "text/plain": [
       "          0         1\n",
       "0  0.777396  0.222604\n",
       "1  0.494476  0.505524\n",
       "2  0.514199  0.485801\n",
       "3  0.741690  0.258310\n",
       "4  0.511082  0.488918"
      ]
     },
     "execution_count": 62,
     "metadata": {},
     "output_type": "execute_result"
    }
   ],
   "source": [
    "probsdf = pd.DataFrame(probs)\n",
    "probsdf.head()"
   ]
  },
  {
   "cell_type": "code",
   "execution_count": 63,
   "metadata": {
    "collapsed": false
   },
   "outputs": [
    {
     "data": {
      "text/html": [
       "<div>\n",
       "<table border=\"1\" class=\"dataframe\">\n",
       "  <thead>\n",
       "    <tr style=\"text-align: right;\">\n",
       "      <th></th>\n",
       "      <th>index</th>\n",
       "      <th>Day</th>\n",
       "      <th>Hour</th>\n",
       "      <th>latitude</th>\n",
       "      <th>longitude</th>\n",
       "      <th>Neighborhoods_Bayview Hunters Point</th>\n",
       "      <th>Neighborhoods_Bernal Heights</th>\n",
       "      <th>Neighborhoods_Castro/Upper Market</th>\n",
       "      <th>Neighborhoods_Chinatown</th>\n",
       "      <th>Neighborhoods_Excelsior</th>\n",
       "      <th>...</th>\n",
       "      <th>Neighborhoods_Tenderloin</th>\n",
       "      <th>Neighborhoods_Treasure Island</th>\n",
       "      <th>Neighborhoods_Twin Peaks</th>\n",
       "      <th>Neighborhoods_Visitacion Valley</th>\n",
       "      <th>Neighborhoods_West of Twin Peaks</th>\n",
       "      <th>Neighborhoods_Western Addition</th>\n",
       "      <th>Type_NON-VIOLENT</th>\n",
       "      <th>Type_OTHER</th>\n",
       "      <th>Type_PROPERTY</th>\n",
       "      <th>Type_VIOLENT</th>\n",
       "    </tr>\n",
       "  </thead>\n",
       "  <tbody>\n",
       "    <tr>\n",
       "      <th>0</th>\n",
       "      <td>1429899</td>\n",
       "      <td>1</td>\n",
       "      <td>5</td>\n",
       "      <td>37.749695</td>\n",
       "      <td>-122.420360</td>\n",
       "      <td>0.0</td>\n",
       "      <td>0.0</td>\n",
       "      <td>0.0</td>\n",
       "      <td>0.0</td>\n",
       "      <td>0.0</td>\n",
       "      <td>...</td>\n",
       "      <td>0.0</td>\n",
       "      <td>0.0</td>\n",
       "      <td>0.0</td>\n",
       "      <td>0.0</td>\n",
       "      <td>0.0</td>\n",
       "      <td>0.0</td>\n",
       "      <td>0.0</td>\n",
       "      <td>0.0</td>\n",
       "      <td>0.0</td>\n",
       "      <td>1.0</td>\n",
       "    </tr>\n",
       "    <tr>\n",
       "      <th>1</th>\n",
       "      <td>2155040</td>\n",
       "      <td>0</td>\n",
       "      <td>15</td>\n",
       "      <td>37.772313</td>\n",
       "      <td>-122.509895</td>\n",
       "      <td>0.0</td>\n",
       "      <td>0.0</td>\n",
       "      <td>0.0</td>\n",
       "      <td>0.0</td>\n",
       "      <td>0.0</td>\n",
       "      <td>...</td>\n",
       "      <td>0.0</td>\n",
       "      <td>0.0</td>\n",
       "      <td>0.0</td>\n",
       "      <td>0.0</td>\n",
       "      <td>0.0</td>\n",
       "      <td>0.0</td>\n",
       "      <td>1.0</td>\n",
       "      <td>0.0</td>\n",
       "      <td>0.0</td>\n",
       "      <td>0.0</td>\n",
       "    </tr>\n",
       "    <tr>\n",
       "      <th>2</th>\n",
       "      <td>1360088</td>\n",
       "      <td>6</td>\n",
       "      <td>10</td>\n",
       "      <td>37.800482</td>\n",
       "      <td>-122.425987</td>\n",
       "      <td>0.0</td>\n",
       "      <td>0.0</td>\n",
       "      <td>0.0</td>\n",
       "      <td>0.0</td>\n",
       "      <td>0.0</td>\n",
       "      <td>...</td>\n",
       "      <td>0.0</td>\n",
       "      <td>0.0</td>\n",
       "      <td>0.0</td>\n",
       "      <td>0.0</td>\n",
       "      <td>0.0</td>\n",
       "      <td>0.0</td>\n",
       "      <td>1.0</td>\n",
       "      <td>0.0</td>\n",
       "      <td>0.0</td>\n",
       "      <td>0.0</td>\n",
       "    </tr>\n",
       "    <tr>\n",
       "      <th>3</th>\n",
       "      <td>2433370</td>\n",
       "      <td>4</td>\n",
       "      <td>17</td>\n",
       "      <td>37.759259</td>\n",
       "      <td>-122.387508</td>\n",
       "      <td>0.0</td>\n",
       "      <td>0.0</td>\n",
       "      <td>0.0</td>\n",
       "      <td>0.0</td>\n",
       "      <td>0.0</td>\n",
       "      <td>...</td>\n",
       "      <td>0.0</td>\n",
       "      <td>0.0</td>\n",
       "      <td>0.0</td>\n",
       "      <td>0.0</td>\n",
       "      <td>0.0</td>\n",
       "      <td>0.0</td>\n",
       "      <td>0.0</td>\n",
       "      <td>0.0</td>\n",
       "      <td>1.0</td>\n",
       "      <td>0.0</td>\n",
       "    </tr>\n",
       "    <tr>\n",
       "      <th>4</th>\n",
       "      <td>435756</td>\n",
       "      <td>5</td>\n",
       "      <td>16</td>\n",
       "      <td>37.762549</td>\n",
       "      <td>-122.434063</td>\n",
       "      <td>0.0</td>\n",
       "      <td>0.0</td>\n",
       "      <td>1.0</td>\n",
       "      <td>0.0</td>\n",
       "      <td>0.0</td>\n",
       "      <td>...</td>\n",
       "      <td>0.0</td>\n",
       "      <td>0.0</td>\n",
       "      <td>0.0</td>\n",
       "      <td>0.0</td>\n",
       "      <td>0.0</td>\n",
       "      <td>0.0</td>\n",
       "      <td>1.0</td>\n",
       "      <td>0.0</td>\n",
       "      <td>0.0</td>\n",
       "      <td>0.0</td>\n",
       "    </tr>\n",
       "  </tbody>\n",
       "</table>\n",
       "<p>5 rows × 50 columns</p>\n",
       "</div>"
      ],
      "text/plain": [
       "     index  Day  Hour   latitude   longitude  \\\n",
       "0  1429899    1     5  37.749695 -122.420360   \n",
       "1  2155040    0    15  37.772313 -122.509895   \n",
       "2  1360088    6    10  37.800482 -122.425987   \n",
       "3  2433370    4    17  37.759259 -122.387508   \n",
       "4   435756    5    16  37.762549 -122.434063   \n",
       "\n",
       "   Neighborhoods_Bayview Hunters Point  Neighborhoods_Bernal Heights  \\\n",
       "0                                  0.0                           0.0   \n",
       "1                                  0.0                           0.0   \n",
       "2                                  0.0                           0.0   \n",
       "3                                  0.0                           0.0   \n",
       "4                                  0.0                           0.0   \n",
       "\n",
       "   Neighborhoods_Castro/Upper Market  Neighborhoods_Chinatown  \\\n",
       "0                                0.0                      0.0   \n",
       "1                                0.0                      0.0   \n",
       "2                                0.0                      0.0   \n",
       "3                                0.0                      0.0   \n",
       "4                                1.0                      0.0   \n",
       "\n",
       "   Neighborhoods_Excelsior      ...       Neighborhoods_Tenderloin  \\\n",
       "0                      0.0      ...                            0.0   \n",
       "1                      0.0      ...                            0.0   \n",
       "2                      0.0      ...                            0.0   \n",
       "3                      0.0      ...                            0.0   \n",
       "4                      0.0      ...                            0.0   \n",
       "\n",
       "   Neighborhoods_Treasure Island  Neighborhoods_Twin Peaks  \\\n",
       "0                            0.0                       0.0   \n",
       "1                            0.0                       0.0   \n",
       "2                            0.0                       0.0   \n",
       "3                            0.0                       0.0   \n",
       "4                            0.0                       0.0   \n",
       "\n",
       "   Neighborhoods_Visitacion Valley  Neighborhoods_West of Twin Peaks  \\\n",
       "0                              0.0                               0.0   \n",
       "1                              0.0                               0.0   \n",
       "2                              0.0                               0.0   \n",
       "3                              0.0                               0.0   \n",
       "4                              0.0                               0.0   \n",
       "\n",
       "   Neighborhoods_Western Addition  Type_NON-VIOLENT  Type_OTHER  \\\n",
       "0                             0.0               0.0         0.0   \n",
       "1                             0.0               1.0         0.0   \n",
       "2                             0.0               1.0         0.0   \n",
       "3                             0.0               0.0         0.0   \n",
       "4                             0.0               1.0         0.0   \n",
       "\n",
       "   Type_PROPERTY  Type_VIOLENT  \n",
       "0            0.0           1.0  \n",
       "1            0.0           0.0  \n",
       "2            0.0           0.0  \n",
       "3            1.0           0.0  \n",
       "4            0.0           0.0  \n",
       "\n",
       "[5 rows x 50 columns]"
      ]
     },
     "execution_count": 63,
     "metadata": {},
     "output_type": "execute_result"
    }
   ],
   "source": [
    "X_test_df = X_test.reset_index()\n",
    "X_test_df.head()"
   ]
  },
  {
   "cell_type": "code",
   "execution_count": 64,
   "metadata": {
    "collapsed": false
   },
   "outputs": [
    {
     "data": {
      "text/html": [
       "<div>\n",
       "<table border=\"1\" class=\"dataframe\">\n",
       "  <thead>\n",
       "    <tr style=\"text-align: right;\">\n",
       "      <th></th>\n",
       "      <th>index</th>\n",
       "      <th>Day</th>\n",
       "      <th>Hour</th>\n",
       "      <th>latitude</th>\n",
       "      <th>longitude</th>\n",
       "      <th>Neighborhoods_Bayview Hunters Point</th>\n",
       "      <th>Neighborhoods_Bernal Heights</th>\n",
       "      <th>Neighborhoods_Castro/Upper Market</th>\n",
       "      <th>Neighborhoods_Chinatown</th>\n",
       "      <th>Neighborhoods_Excelsior</th>\n",
       "      <th>...</th>\n",
       "      <th>Neighborhoods_Twin Peaks</th>\n",
       "      <th>Neighborhoods_Visitacion Valley</th>\n",
       "      <th>Neighborhoods_West of Twin Peaks</th>\n",
       "      <th>Neighborhoods_Western Addition</th>\n",
       "      <th>Type_NON-VIOLENT</th>\n",
       "      <th>Type_OTHER</th>\n",
       "      <th>Type_PROPERTY</th>\n",
       "      <th>Type_VIOLENT</th>\n",
       "      <th>0</th>\n",
       "      <th>1</th>\n",
       "    </tr>\n",
       "  </thead>\n",
       "  <tbody>\n",
       "    <tr>\n",
       "      <th>0</th>\n",
       "      <td>1429899</td>\n",
       "      <td>1</td>\n",
       "      <td>5</td>\n",
       "      <td>37.749695</td>\n",
       "      <td>-122.420360</td>\n",
       "      <td>0.0</td>\n",
       "      <td>0.0</td>\n",
       "      <td>0.0</td>\n",
       "      <td>0.0</td>\n",
       "      <td>0.0</td>\n",
       "      <td>...</td>\n",
       "      <td>0.0</td>\n",
       "      <td>0.0</td>\n",
       "      <td>0.0</td>\n",
       "      <td>0.0</td>\n",
       "      <td>0.0</td>\n",
       "      <td>0.0</td>\n",
       "      <td>0.0</td>\n",
       "      <td>1.0</td>\n",
       "      <td>0.777396</td>\n",
       "      <td>0.222604</td>\n",
       "    </tr>\n",
       "    <tr>\n",
       "      <th>1</th>\n",
       "      <td>2155040</td>\n",
       "      <td>0</td>\n",
       "      <td>15</td>\n",
       "      <td>37.772313</td>\n",
       "      <td>-122.509895</td>\n",
       "      <td>0.0</td>\n",
       "      <td>0.0</td>\n",
       "      <td>0.0</td>\n",
       "      <td>0.0</td>\n",
       "      <td>0.0</td>\n",
       "      <td>...</td>\n",
       "      <td>0.0</td>\n",
       "      <td>0.0</td>\n",
       "      <td>0.0</td>\n",
       "      <td>0.0</td>\n",
       "      <td>1.0</td>\n",
       "      <td>0.0</td>\n",
       "      <td>0.0</td>\n",
       "      <td>0.0</td>\n",
       "      <td>0.494476</td>\n",
       "      <td>0.505524</td>\n",
       "    </tr>\n",
       "    <tr>\n",
       "      <th>2</th>\n",
       "      <td>1360088</td>\n",
       "      <td>6</td>\n",
       "      <td>10</td>\n",
       "      <td>37.800482</td>\n",
       "      <td>-122.425987</td>\n",
       "      <td>0.0</td>\n",
       "      <td>0.0</td>\n",
       "      <td>0.0</td>\n",
       "      <td>0.0</td>\n",
       "      <td>0.0</td>\n",
       "      <td>...</td>\n",
       "      <td>0.0</td>\n",
       "      <td>0.0</td>\n",
       "      <td>0.0</td>\n",
       "      <td>0.0</td>\n",
       "      <td>1.0</td>\n",
       "      <td>0.0</td>\n",
       "      <td>0.0</td>\n",
       "      <td>0.0</td>\n",
       "      <td>0.514199</td>\n",
       "      <td>0.485801</td>\n",
       "    </tr>\n",
       "    <tr>\n",
       "      <th>3</th>\n",
       "      <td>2433370</td>\n",
       "      <td>4</td>\n",
       "      <td>17</td>\n",
       "      <td>37.759259</td>\n",
       "      <td>-122.387508</td>\n",
       "      <td>0.0</td>\n",
       "      <td>0.0</td>\n",
       "      <td>0.0</td>\n",
       "      <td>0.0</td>\n",
       "      <td>0.0</td>\n",
       "      <td>...</td>\n",
       "      <td>0.0</td>\n",
       "      <td>0.0</td>\n",
       "      <td>0.0</td>\n",
       "      <td>0.0</td>\n",
       "      <td>0.0</td>\n",
       "      <td>0.0</td>\n",
       "      <td>1.0</td>\n",
       "      <td>0.0</td>\n",
       "      <td>0.741690</td>\n",
       "      <td>0.258310</td>\n",
       "    </tr>\n",
       "    <tr>\n",
       "      <th>4</th>\n",
       "      <td>435756</td>\n",
       "      <td>5</td>\n",
       "      <td>16</td>\n",
       "      <td>37.762549</td>\n",
       "      <td>-122.434063</td>\n",
       "      <td>0.0</td>\n",
       "      <td>0.0</td>\n",
       "      <td>1.0</td>\n",
       "      <td>0.0</td>\n",
       "      <td>0.0</td>\n",
       "      <td>...</td>\n",
       "      <td>0.0</td>\n",
       "      <td>0.0</td>\n",
       "      <td>0.0</td>\n",
       "      <td>0.0</td>\n",
       "      <td>1.0</td>\n",
       "      <td>0.0</td>\n",
       "      <td>0.0</td>\n",
       "      <td>0.0</td>\n",
       "      <td>0.511082</td>\n",
       "      <td>0.488918</td>\n",
       "    </tr>\n",
       "  </tbody>\n",
       "</table>\n",
       "<p>5 rows × 52 columns</p>\n",
       "</div>"
      ],
      "text/plain": [
       "     index  Day  Hour   latitude   longitude  \\\n",
       "0  1429899    1     5  37.749695 -122.420360   \n",
       "1  2155040    0    15  37.772313 -122.509895   \n",
       "2  1360088    6    10  37.800482 -122.425987   \n",
       "3  2433370    4    17  37.759259 -122.387508   \n",
       "4   435756    5    16  37.762549 -122.434063   \n",
       "\n",
       "   Neighborhoods_Bayview Hunters Point  Neighborhoods_Bernal Heights  \\\n",
       "0                                  0.0                           0.0   \n",
       "1                                  0.0                           0.0   \n",
       "2                                  0.0                           0.0   \n",
       "3                                  0.0                           0.0   \n",
       "4                                  0.0                           0.0   \n",
       "\n",
       "   Neighborhoods_Castro/Upper Market  Neighborhoods_Chinatown  \\\n",
       "0                                0.0                      0.0   \n",
       "1                                0.0                      0.0   \n",
       "2                                0.0                      0.0   \n",
       "3                                0.0                      0.0   \n",
       "4                                1.0                      0.0   \n",
       "\n",
       "   Neighborhoods_Excelsior    ...     Neighborhoods_Twin Peaks  \\\n",
       "0                      0.0    ...                          0.0   \n",
       "1                      0.0    ...                          0.0   \n",
       "2                      0.0    ...                          0.0   \n",
       "3                      0.0    ...                          0.0   \n",
       "4                      0.0    ...                          0.0   \n",
       "\n",
       "   Neighborhoods_Visitacion Valley  Neighborhoods_West of Twin Peaks  \\\n",
       "0                              0.0                               0.0   \n",
       "1                              0.0                               0.0   \n",
       "2                              0.0                               0.0   \n",
       "3                              0.0                               0.0   \n",
       "4                              0.0                               0.0   \n",
       "\n",
       "   Neighborhoods_Western Addition  Type_NON-VIOLENT  Type_OTHER  \\\n",
       "0                             0.0               0.0         0.0   \n",
       "1                             0.0               1.0         0.0   \n",
       "2                             0.0               1.0         0.0   \n",
       "3                             0.0               0.0         0.0   \n",
       "4                             0.0               1.0         0.0   \n",
       "\n",
       "   Type_PROPERTY  Type_VIOLENT         0         1  \n",
       "0            0.0           1.0  0.777396  0.222604  \n",
       "1            0.0           0.0  0.494476  0.505524  \n",
       "2            0.0           0.0  0.514199  0.485801  \n",
       "3            1.0           0.0  0.741690  0.258310  \n",
       "4            0.0           0.0  0.511082  0.488918  \n",
       "\n",
       "[5 rows x 52 columns]"
      ]
     },
     "execution_count": 64,
     "metadata": {},
     "output_type": "execute_result"
    }
   ],
   "source": [
    "X_test_prob_df = pd.concat([X_test_df,probsdf], axis=1,)\n",
    "X_test_prob_df.head()"
   ]
  },
  {
   "cell_type": "code",
   "execution_count": 65,
   "metadata": {
    "collapsed": false
   },
   "outputs": [
    {
     "data": {
      "text/html": [
       "<div>\n",
       "<table border=\"1\" class=\"dataframe\">\n",
       "  <thead>\n",
       "    <tr style=\"text-align: right;\">\n",
       "      <th></th>\n",
       "      <th>index</th>\n",
       "      <th>Day</th>\n",
       "      <th>Hour</th>\n",
       "      <th>latitude</th>\n",
       "      <th>longitude</th>\n",
       "      <th>Neighborhoods_Bayview Hunters Point</th>\n",
       "      <th>Neighborhoods_Bernal Heights</th>\n",
       "      <th>Neighborhoods_Castro/Upper Market</th>\n",
       "      <th>Neighborhoods_Chinatown</th>\n",
       "      <th>Neighborhoods_Excelsior</th>\n",
       "      <th>...</th>\n",
       "      <th>Neighborhoods_Twin Peaks</th>\n",
       "      <th>Neighborhoods_Visitacion Valley</th>\n",
       "      <th>Neighborhoods_West of Twin Peaks</th>\n",
       "      <th>Neighborhoods_Western Addition</th>\n",
       "      <th>Type_NON-VIOLENT</th>\n",
       "      <th>Type_OTHER</th>\n",
       "      <th>Type_PROPERTY</th>\n",
       "      <th>Type_VIOLENT</th>\n",
       "      <th>0</th>\n",
       "      <th>1</th>\n",
       "    </tr>\n",
       "  </thead>\n",
       "  <tbody>\n",
       "    <tr>\n",
       "      <th>865</th>\n",
       "      <td>1369550</td>\n",
       "      <td>0</td>\n",
       "      <td>15</td>\n",
       "      <td>37.715282</td>\n",
       "      <td>-122.414476</td>\n",
       "      <td>0.0</td>\n",
       "      <td>0.0</td>\n",
       "      <td>0.0</td>\n",
       "      <td>0.0</td>\n",
       "      <td>0.0</td>\n",
       "      <td>...</td>\n",
       "      <td>0.0</td>\n",
       "      <td>0.0</td>\n",
       "      <td>0.0</td>\n",
       "      <td>0.0</td>\n",
       "      <td>0.0</td>\n",
       "      <td>0.0</td>\n",
       "      <td>1.0</td>\n",
       "      <td>0.0</td>\n",
       "      <td>0.773432</td>\n",
       "      <td>0.226568</td>\n",
       "    </tr>\n",
       "    <tr>\n",
       "      <th>1004</th>\n",
       "      <td>1371211</td>\n",
       "      <td>2</td>\n",
       "      <td>15</td>\n",
       "      <td>37.722665</td>\n",
       "      <td>-122.415672</td>\n",
       "      <td>0.0</td>\n",
       "      <td>0.0</td>\n",
       "      <td>0.0</td>\n",
       "      <td>0.0</td>\n",
       "      <td>0.0</td>\n",
       "      <td>...</td>\n",
       "      <td>0.0</td>\n",
       "      <td>0.0</td>\n",
       "      <td>0.0</td>\n",
       "      <td>0.0</td>\n",
       "      <td>0.0</td>\n",
       "      <td>0.0</td>\n",
       "      <td>0.0</td>\n",
       "      <td>1.0</td>\n",
       "      <td>0.770257</td>\n",
       "      <td>0.229743</td>\n",
       "    </tr>\n",
       "    <tr>\n",
       "      <th>1028</th>\n",
       "      <td>1370207</td>\n",
       "      <td>1</td>\n",
       "      <td>12</td>\n",
       "      <td>37.718512</td>\n",
       "      <td>-122.416213</td>\n",
       "      <td>0.0</td>\n",
       "      <td>0.0</td>\n",
       "      <td>0.0</td>\n",
       "      <td>0.0</td>\n",
       "      <td>0.0</td>\n",
       "      <td>...</td>\n",
       "      <td>0.0</td>\n",
       "      <td>0.0</td>\n",
       "      <td>0.0</td>\n",
       "      <td>0.0</td>\n",
       "      <td>0.0</td>\n",
       "      <td>0.0</td>\n",
       "      <td>0.0</td>\n",
       "      <td>1.0</td>\n",
       "      <td>0.778501</td>\n",
       "      <td>0.221499</td>\n",
       "    </tr>\n",
       "    <tr>\n",
       "      <th>1106</th>\n",
       "      <td>1373121</td>\n",
       "      <td>4</td>\n",
       "      <td>21</td>\n",
       "      <td>37.719743</td>\n",
       "      <td>-122.425592</td>\n",
       "      <td>0.0</td>\n",
       "      <td>0.0</td>\n",
       "      <td>0.0</td>\n",
       "      <td>0.0</td>\n",
       "      <td>0.0</td>\n",
       "      <td>...</td>\n",
       "      <td>0.0</td>\n",
       "      <td>0.0</td>\n",
       "      <td>0.0</td>\n",
       "      <td>0.0</td>\n",
       "      <td>0.0</td>\n",
       "      <td>1.0</td>\n",
       "      <td>0.0</td>\n",
       "      <td>0.0</td>\n",
       "      <td>0.577200</td>\n",
       "      <td>0.422800</td>\n",
       "    </tr>\n",
       "    <tr>\n",
       "      <th>2628</th>\n",
       "      <td>1369959</td>\n",
       "      <td>1</td>\n",
       "      <td>1</td>\n",
       "      <td>37.719992</td>\n",
       "      <td>-122.406999</td>\n",
       "      <td>0.0</td>\n",
       "      <td>0.0</td>\n",
       "      <td>0.0</td>\n",
       "      <td>0.0</td>\n",
       "      <td>0.0</td>\n",
       "      <td>...</td>\n",
       "      <td>0.0</td>\n",
       "      <td>0.0</td>\n",
       "      <td>0.0</td>\n",
       "      <td>0.0</td>\n",
       "      <td>0.0</td>\n",
       "      <td>0.0</td>\n",
       "      <td>0.0</td>\n",
       "      <td>1.0</td>\n",
       "      <td>0.729002</td>\n",
       "      <td>0.270998</td>\n",
       "    </tr>\n",
       "  </tbody>\n",
       "</table>\n",
       "<p>5 rows × 52 columns</p>\n",
       "</div>"
      ],
      "text/plain": [
       "        index  Day  Hour   latitude   longitude  \\\n",
       "865   1369550    0    15  37.715282 -122.414476   \n",
       "1004  1371211    2    15  37.722665 -122.415672   \n",
       "1028  1370207    1    12  37.718512 -122.416213   \n",
       "1106  1373121    4    21  37.719743 -122.425592   \n",
       "2628  1369959    1     1  37.719992 -122.406999   \n",
       "\n",
       "      Neighborhoods_Bayview Hunters Point  Neighborhoods_Bernal Heights  \\\n",
       "865                                   0.0                           0.0   \n",
       "1004                                  0.0                           0.0   \n",
       "1028                                  0.0                           0.0   \n",
       "1106                                  0.0                           0.0   \n",
       "2628                                  0.0                           0.0   \n",
       "\n",
       "      Neighborhoods_Castro/Upper Market  Neighborhoods_Chinatown  \\\n",
       "865                                 0.0                      0.0   \n",
       "1004                                0.0                      0.0   \n",
       "1028                                0.0                      0.0   \n",
       "1106                                0.0                      0.0   \n",
       "2628                                0.0                      0.0   \n",
       "\n",
       "      Neighborhoods_Excelsior    ...     Neighborhoods_Twin Peaks  \\\n",
       "865                       0.0    ...                          0.0   \n",
       "1004                      0.0    ...                          0.0   \n",
       "1028                      0.0    ...                          0.0   \n",
       "1106                      0.0    ...                          0.0   \n",
       "2628                      0.0    ...                          0.0   \n",
       "\n",
       "      Neighborhoods_Visitacion Valley  Neighborhoods_West of Twin Peaks  \\\n",
       "865                               0.0                               0.0   \n",
       "1004                              0.0                               0.0   \n",
       "1028                              0.0                               0.0   \n",
       "1106                              0.0                               0.0   \n",
       "2628                              0.0                               0.0   \n",
       "\n",
       "      Neighborhoods_Western Addition  Type_NON-VIOLENT  Type_OTHER  \\\n",
       "865                              0.0               0.0         0.0   \n",
       "1004                             0.0               0.0         0.0   \n",
       "1028                             0.0               0.0         0.0   \n",
       "1106                             0.0               0.0         1.0   \n",
       "2628                             0.0               0.0         0.0   \n",
       "\n",
       "      Type_PROPERTY  Type_VIOLENT         0         1  \n",
       "865             1.0           0.0  0.773432  0.226568  \n",
       "1004            0.0           1.0  0.770257  0.229743  \n",
       "1028            0.0           1.0  0.778501  0.221499  \n",
       "1106            0.0           0.0  0.577200  0.422800  \n",
       "2628            0.0           1.0  0.729002  0.270998  \n",
       "\n",
       "[5 rows x 52 columns]"
      ]
     },
     "execution_count": 65,
     "metadata": {},
     "output_type": "execute_result"
    }
   ],
   "source": [
    "McLarenPark = X_test_prob_df[X_test_prob_df['Neighborhoods_McLaren Park'] == 1]\n",
    "McLarenPark.head()"
   ]
  },
  {
   "cell_type": "code",
   "execution_count": 66,
   "metadata": {
    "collapsed": false
   },
   "outputs": [],
   "source": [
    "del McLarenPark[0]\n",
    "for col in McLarenPark.columns:\n",
    "    cols = str(col)\n",
    "    if 'Neighborhoods' in cols:\n",
    "        del McLarenPark[col]"
   ]
  },
  {
   "cell_type": "code",
   "execution_count": 67,
   "metadata": {
    "collapsed": false
   },
   "outputs": [
    {
     "data": {
      "text/html": [
       "<div>\n",
       "<table border=\"1\" class=\"dataframe\">\n",
       "  <thead>\n",
       "    <tr style=\"text-align: right;\">\n",
       "      <th></th>\n",
       "      <th>index</th>\n",
       "      <th>Day</th>\n",
       "      <th>Hour</th>\n",
       "      <th>latitude</th>\n",
       "      <th>longitude</th>\n",
       "      <th>Type_NON-VIOLENT</th>\n",
       "      <th>Type_OTHER</th>\n",
       "      <th>Type_PROPERTY</th>\n",
       "      <th>Type_VIOLENT</th>\n",
       "      <th>1</th>\n",
       "    </tr>\n",
       "  </thead>\n",
       "  <tbody>\n",
       "    <tr>\n",
       "      <th>865</th>\n",
       "      <td>1369550</td>\n",
       "      <td>0</td>\n",
       "      <td>15</td>\n",
       "      <td>37.715282</td>\n",
       "      <td>-122.414476</td>\n",
       "      <td>0.0</td>\n",
       "      <td>0.0</td>\n",
       "      <td>1.0</td>\n",
       "      <td>0.0</td>\n",
       "      <td>0.226568</td>\n",
       "    </tr>\n",
       "    <tr>\n",
       "      <th>1004</th>\n",
       "      <td>1371211</td>\n",
       "      <td>2</td>\n",
       "      <td>15</td>\n",
       "      <td>37.722665</td>\n",
       "      <td>-122.415672</td>\n",
       "      <td>0.0</td>\n",
       "      <td>0.0</td>\n",
       "      <td>0.0</td>\n",
       "      <td>1.0</td>\n",
       "      <td>0.229743</td>\n",
       "    </tr>\n",
       "    <tr>\n",
       "      <th>1028</th>\n",
       "      <td>1370207</td>\n",
       "      <td>1</td>\n",
       "      <td>12</td>\n",
       "      <td>37.718512</td>\n",
       "      <td>-122.416213</td>\n",
       "      <td>0.0</td>\n",
       "      <td>0.0</td>\n",
       "      <td>0.0</td>\n",
       "      <td>1.0</td>\n",
       "      <td>0.221499</td>\n",
       "    </tr>\n",
       "    <tr>\n",
       "      <th>1106</th>\n",
       "      <td>1373121</td>\n",
       "      <td>4</td>\n",
       "      <td>21</td>\n",
       "      <td>37.719743</td>\n",
       "      <td>-122.425592</td>\n",
       "      <td>0.0</td>\n",
       "      <td>1.0</td>\n",
       "      <td>0.0</td>\n",
       "      <td>0.0</td>\n",
       "      <td>0.422800</td>\n",
       "    </tr>\n",
       "    <tr>\n",
       "      <th>2628</th>\n",
       "      <td>1369959</td>\n",
       "      <td>1</td>\n",
       "      <td>1</td>\n",
       "      <td>37.719992</td>\n",
       "      <td>-122.406999</td>\n",
       "      <td>0.0</td>\n",
       "      <td>0.0</td>\n",
       "      <td>0.0</td>\n",
       "      <td>1.0</td>\n",
       "      <td>0.270998</td>\n",
       "    </tr>\n",
       "  </tbody>\n",
       "</table>\n",
       "</div>"
      ],
      "text/plain": [
       "        index  Day  Hour   latitude   longitude  Type_NON-VIOLENT  Type_OTHER  \\\n",
       "865   1369550    0    15  37.715282 -122.414476               0.0         0.0   \n",
       "1004  1371211    2    15  37.722665 -122.415672               0.0         0.0   \n",
       "1028  1370207    1    12  37.718512 -122.416213               0.0         0.0   \n",
       "1106  1373121    4    21  37.719743 -122.425592               0.0         1.0   \n",
       "2628  1369959    1     1  37.719992 -122.406999               0.0         0.0   \n",
       "\n",
       "      Type_PROPERTY  Type_VIOLENT         1  \n",
       "865             1.0           0.0  0.226568  \n",
       "1004            0.0           1.0  0.229743  \n",
       "1028            0.0           1.0  0.221499  \n",
       "1106            0.0           0.0  0.422800  \n",
       "2628            0.0           1.0  0.270998  "
      ]
     },
     "execution_count": 67,
     "metadata": {},
     "output_type": "execute_result"
    }
   ],
   "source": [
    "McLarenPark.head()"
   ]
  },
  {
   "cell_type": "code",
   "execution_count": 68,
   "metadata": {
    "collapsed": true
   },
   "outputs": [],
   "source": [
    "del McLarenPark['index']"
   ]
  },
  {
   "cell_type": "code",
   "execution_count": 69,
   "metadata": {
    "collapsed": false
   },
   "outputs": [],
   "source": [
    "McLarenPark = McLarenPark.rename(columns = {1:'Crime_Probability'})"
   ]
  },
  {
   "cell_type": "code",
   "execution_count": 70,
   "metadata": {
    "collapsed": true
   },
   "outputs": [],
   "source": [
    "#pd.DataFrame(McLarenPark).to_csv('data/McLarenParkProbs.csv')"
   ]
  },
  {
   "cell_type": "code",
   "execution_count": 71,
   "metadata": {
    "collapsed": false
   },
   "outputs": [
    {
     "data": {
      "text/plain": [
       "(495, 9)"
      ]
     },
     "execution_count": 71,
     "metadata": {},
     "output_type": "execute_result"
    }
   ],
   "source": [
    "McLarenPark.shape"
   ]
  },
  {
   "cell_type": "code",
   "execution_count": 72,
   "metadata": {
    "collapsed": false
   },
   "outputs": [],
   "source": [
    "McLarenParkmelt = pd.melt(McLarenPark, id_vars=['Day', 'Hour', 'latitude', 'longitude', 'Crime_Probability'])"
   ]
  },
  {
   "cell_type": "code",
   "execution_count": 73,
   "metadata": {
    "collapsed": false
   },
   "outputs": [
    {
     "data": {
      "text/html": [
       "<div>\n",
       "<table border=\"1\" class=\"dataframe\">\n",
       "  <thead>\n",
       "    <tr style=\"text-align: right;\">\n",
       "      <th></th>\n",
       "      <th>Day</th>\n",
       "      <th>Hour</th>\n",
       "      <th>latitude</th>\n",
       "      <th>longitude</th>\n",
       "      <th>Crime_Probability</th>\n",
       "      <th>variable</th>\n",
       "      <th>value</th>\n",
       "    </tr>\n",
       "  </thead>\n",
       "  <tbody>\n",
       "    <tr>\n",
       "      <th>0</th>\n",
       "      <td>0</td>\n",
       "      <td>15</td>\n",
       "      <td>37.715282</td>\n",
       "      <td>-122.414476</td>\n",
       "      <td>0.226568</td>\n",
       "      <td>Type_NON-VIOLENT</td>\n",
       "      <td>0.0</td>\n",
       "    </tr>\n",
       "    <tr>\n",
       "      <th>1</th>\n",
       "      <td>2</td>\n",
       "      <td>15</td>\n",
       "      <td>37.722665</td>\n",
       "      <td>-122.415672</td>\n",
       "      <td>0.229743</td>\n",
       "      <td>Type_NON-VIOLENT</td>\n",
       "      <td>0.0</td>\n",
       "    </tr>\n",
       "    <tr>\n",
       "      <th>2</th>\n",
       "      <td>1</td>\n",
       "      <td>12</td>\n",
       "      <td>37.718512</td>\n",
       "      <td>-122.416213</td>\n",
       "      <td>0.221499</td>\n",
       "      <td>Type_NON-VIOLENT</td>\n",
       "      <td>0.0</td>\n",
       "    </tr>\n",
       "    <tr>\n",
       "      <th>3</th>\n",
       "      <td>4</td>\n",
       "      <td>21</td>\n",
       "      <td>37.719743</td>\n",
       "      <td>-122.425592</td>\n",
       "      <td>0.422800</td>\n",
       "      <td>Type_NON-VIOLENT</td>\n",
       "      <td>0.0</td>\n",
       "    </tr>\n",
       "    <tr>\n",
       "      <th>4</th>\n",
       "      <td>1</td>\n",
       "      <td>1</td>\n",
       "      <td>37.719992</td>\n",
       "      <td>-122.406999</td>\n",
       "      <td>0.270998</td>\n",
       "      <td>Type_NON-VIOLENT</td>\n",
       "      <td>0.0</td>\n",
       "    </tr>\n",
       "  </tbody>\n",
       "</table>\n",
       "</div>"
      ],
      "text/plain": [
       "   Day  Hour   latitude   longitude  Crime_Probability          variable  \\\n",
       "0    0    15  37.715282 -122.414476           0.226568  Type_NON-VIOLENT   \n",
       "1    2    15  37.722665 -122.415672           0.229743  Type_NON-VIOLENT   \n",
       "2    1    12  37.718512 -122.416213           0.221499  Type_NON-VIOLENT   \n",
       "3    4    21  37.719743 -122.425592           0.422800  Type_NON-VIOLENT   \n",
       "4    1     1  37.719992 -122.406999           0.270998  Type_NON-VIOLENT   \n",
       "\n",
       "   value  \n",
       "0    0.0  \n",
       "1    0.0  \n",
       "2    0.0  \n",
       "3    0.0  \n",
       "4    0.0  "
      ]
     },
     "execution_count": 73,
     "metadata": {},
     "output_type": "execute_result"
    }
   ],
   "source": [
    "McLarenParkmelt.head()"
   ]
  },
  {
   "cell_type": "code",
   "execution_count": 74,
   "metadata": {
    "collapsed": false
   },
   "outputs": [],
   "source": [
    "McLarenParkmelt = McLarenParkmelt[McLarenParkmelt['value'] == 1]"
   ]
  },
  {
   "cell_type": "code",
   "execution_count": 75,
   "metadata": {
    "collapsed": true
   },
   "outputs": [],
   "source": [
    "#pd.DataFrame(McLarenParkmelt).to_csv('data/McLarenParkProbs.csv')"
   ]
  },
  {
   "cell_type": "code",
   "execution_count": 76,
   "metadata": {
    "collapsed": false
   },
   "outputs": [
    {
     "data": {
      "text/html": [
       "<div>\n",
       "<table border=\"1\" class=\"dataframe\">\n",
       "  <thead>\n",
       "    <tr style=\"text-align: right;\">\n",
       "      <th></th>\n",
       "      <th>Day</th>\n",
       "      <th>Hour</th>\n",
       "      <th>latitude</th>\n",
       "      <th>longitude</th>\n",
       "      <th>Crime_Probability</th>\n",
       "      <th>value</th>\n",
       "    </tr>\n",
       "  </thead>\n",
       "  <tbody>\n",
       "    <tr>\n",
       "      <th>count</th>\n",
       "      <td>495.000000</td>\n",
       "      <td>495.000000</td>\n",
       "      <td>495.000000</td>\n",
       "      <td>495.000000</td>\n",
       "      <td>495.000000</td>\n",
       "      <td>495.0</td>\n",
       "    </tr>\n",
       "    <tr>\n",
       "      <th>mean</th>\n",
       "      <td>2.844444</td>\n",
       "      <td>13.644444</td>\n",
       "      <td>37.717929</td>\n",
       "      <td>-122.416412</td>\n",
       "      <td>0.340861</td>\n",
       "      <td>1.0</td>\n",
       "    </tr>\n",
       "    <tr>\n",
       "      <th>std</th>\n",
       "      <td>2.018649</td>\n",
       "      <td>6.183991</td>\n",
       "      <td>0.003629</td>\n",
       "      <td>0.006385</td>\n",
       "      <td>0.132029</td>\n",
       "      <td>0.0</td>\n",
       "    </tr>\n",
       "    <tr>\n",
       "      <th>min</th>\n",
       "      <td>0.000000</td>\n",
       "      <td>0.000000</td>\n",
       "      <td>37.710103</td>\n",
       "      <td>-122.426956</td>\n",
       "      <td>0.178173</td>\n",
       "      <td>1.0</td>\n",
       "    </tr>\n",
       "    <tr>\n",
       "      <th>25%</th>\n",
       "      <td>1.000000</td>\n",
       "      <td>10.000000</td>\n",
       "      <td>37.715345</td>\n",
       "      <td>-122.423170</td>\n",
       "      <td>0.226240</td>\n",
       "      <td>1.0</td>\n",
       "    </tr>\n",
       "    <tr>\n",
       "      <th>50%</th>\n",
       "      <td>3.000000</td>\n",
       "      <td>14.000000</td>\n",
       "      <td>37.718754</td>\n",
       "      <td>-122.414476</td>\n",
       "      <td>0.305284</td>\n",
       "      <td>1.0</td>\n",
       "    </tr>\n",
       "    <tr>\n",
       "      <th>75%</th>\n",
       "      <td>4.000000</td>\n",
       "      <td>18.000000</td>\n",
       "      <td>37.719992</td>\n",
       "      <td>-122.411674</td>\n",
       "      <td>0.485687</td>\n",
       "      <td>1.0</td>\n",
       "    </tr>\n",
       "    <tr>\n",
       "      <th>max</th>\n",
       "      <td>6.000000</td>\n",
       "      <td>23.000000</td>\n",
       "      <td>37.724527</td>\n",
       "      <td>-122.406894</td>\n",
       "      <td>0.586427</td>\n",
       "      <td>1.0</td>\n",
       "    </tr>\n",
       "  </tbody>\n",
       "</table>\n",
       "</div>"
      ],
      "text/plain": [
       "              Day        Hour    latitude   longitude  Crime_Probability  \\\n",
       "count  495.000000  495.000000  495.000000  495.000000         495.000000   \n",
       "mean     2.844444   13.644444   37.717929 -122.416412           0.340861   \n",
       "std      2.018649    6.183991    0.003629    0.006385           0.132029   \n",
       "min      0.000000    0.000000   37.710103 -122.426956           0.178173   \n",
       "25%      1.000000   10.000000   37.715345 -122.423170           0.226240   \n",
       "50%      3.000000   14.000000   37.718754 -122.414476           0.305284   \n",
       "75%      4.000000   18.000000   37.719992 -122.411674           0.485687   \n",
       "max      6.000000   23.000000   37.724527 -122.406894           0.586427   \n",
       "\n",
       "       value  \n",
       "count  495.0  \n",
       "mean     1.0  \n",
       "std      0.0  \n",
       "min      1.0  \n",
       "25%      1.0  \n",
       "50%      1.0  \n",
       "75%      1.0  \n",
       "max      1.0  "
      ]
     },
     "execution_count": 76,
     "metadata": {},
     "output_type": "execute_result"
    }
   ],
   "source": [
    "McLarenParkmelt.describe()"
   ]
  },
  {
   "cell_type": "code",
   "execution_count": 77,
   "metadata": {
    "collapsed": false
   },
   "outputs": [
    {
     "data": {
      "image/png": "[encoded data removed]",
      "text/plain": [
       "<matplotlib.figure.Figure at 0x112ad73d0>"
      ]
     },
     "metadata": {},
     "output_type": "display_data"
    }
   ],
   "source": [
    "McLarenParkmelt.Crime_Probability.hist();"
   ]
  },
  {
   "cell_type": "code",
   "execution_count": null,
   "metadata": {
    "collapsed": true
   },
   "outputs": [],
   "source": []
  }
 ],
 "metadata": {
  "anaconda-cloud": {},
  "kernelspec": {
   "display_name": "Python [conda env:dsi]",
   "language": "python",
   "name": "conda-env-dsi-py"
  },
  "language_info": {
   "codemirror_mode": {
    "name": "ipython",
    "version": 2
   },
   "file_extension": ".py",
   "mimetype": "text/x-python",
   "name": "python",
   "nbconvert_exporter": "python",
   "pygments_lexer": "ipython2",
   "version": "2.7.12"
  }
 },
 "nbformat": 4,
 "nbformat_minor": 2
}
